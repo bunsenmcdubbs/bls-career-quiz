{
 "cells": [
  {
   "cell_type": "markdown",
   "metadata": {},
   "source": [
    "From `or.txt` (readme):\n",
    "```\n",
    "The series_id (ORUP1000066700000560) can be broken out into:\n",
    "\n",
    "Code                                    Value(Example)\n",
    "\n",
    "Survey abbreviation             =               OR\n",
    "Seasonal(code)                  =               U\n",
    "Requirement_code                =               P\n",
    "Ownership_code                  =               1\n",
    "Industry_code                   =               0000\n",
    "Occupation_code                 =               667\n",
    "Job_characteristic_code         =               000\n",
    "Estimate_code                   =               00560\n",
    "```"
   ]
  },
  {
   "cell_type": "markdown",
   "metadata": {},
   "source": [
    "Goal: Extract a \"job id\" to `estimate_code` from each `series_id`."
   ]
  },
  {
   "cell_type": "markdown",
   "metadata": {},
   "source": [
    "Load all data (`or.data.1.AllData`) into a pandas DataFrame"
   ]
  },
  {
   "cell_type": "code",
   "execution_count": 1,
   "metadata": {},
   "outputs": [],
   "source": [
    "import pandas\n",
    "\n",
    "series = pandas.read_csv('ordata/or.data.1.AllData', delimiter='\\t')\n",
    "series['value'] = pandas.to_numeric(series['value'], errors='coerce')"
   ]
  },
  {
   "cell_type": "code",
   "execution_count": 2,
   "metadata": {},
   "outputs": [
    {
     "data": {
      "text/html": [
       "<div>\n",
       "<style scoped>\n",
       "    .dataframe tbody tr th:only-of-type {\n",
       "        vertical-align: middle;\n",
       "    }\n",
       "\n",
       "    .dataframe tbody tr th {\n",
       "        vertical-align: top;\n",
       "    }\n",
       "\n",
       "    .dataframe thead th {\n",
       "        text-align: right;\n",
       "    }\n",
       "</style>\n",
       "<table border=\"1\" class=\"dataframe\">\n",
       "  <thead>\n",
       "    <tr style=\"text-align: right;\">\n",
       "      <th></th>\n",
       "      <th>series_id</th>\n",
       "      <th>year</th>\n",
       "      <th>period</th>\n",
       "      <th>value</th>\n",
       "      <th>footnote_codes</th>\n",
       "    </tr>\n",
       "  </thead>\n",
       "  <tbody>\n",
       "    <tr>\n",
       "      <th>0</th>\n",
       "      <td>ORUC1000000000000728</td>\n",
       "      <td>2017</td>\n",
       "      <td>A01</td>\n",
       "      <td>5.1</td>\n",
       "      <td>6</td>\n",
       "    </tr>\n",
       "    <tr>\n",
       "      <th>1</th>\n",
       "      <td>ORUC1000000000001030</td>\n",
       "      <td>2017</td>\n",
       "      <td>A01</td>\n",
       "      <td>29.0</td>\n",
       "      <td></td>\n",
       "    </tr>\n",
       "    <tr>\n",
       "      <th>2</th>\n",
       "      <td>ORUC1000000000001031</td>\n",
       "      <td>2017</td>\n",
       "      <td>A01</td>\n",
       "      <td>48.2</td>\n",
       "      <td>7</td>\n",
       "    </tr>\n",
       "    <tr>\n",
       "      <th>3</th>\n",
       "      <td>ORUC1000000000001032</td>\n",
       "      <td>2017</td>\n",
       "      <td>A01</td>\n",
       "      <td>15.6</td>\n",
       "      <td></td>\n",
       "    </tr>\n",
       "    <tr>\n",
       "      <th>4</th>\n",
       "      <td>ORUC1000000000001033</td>\n",
       "      <td>2017</td>\n",
       "      <td>A01</td>\n",
       "      <td>5.8</td>\n",
       "      <td></td>\n",
       "    </tr>\n",
       "  </tbody>\n",
       "</table>\n",
       "</div>"
      ],
      "text/plain": [
       "                        series_id  year period  value footnote_codes\n",
       "0  ORUC1000000000000728            2017    A01    5.1              6\n",
       "1  ORUC1000000000001030            2017    A01   29.0               \n",
       "2  ORUC1000000000001031            2017    A01   48.2              7\n",
       "3  ORUC1000000000001032            2017    A01   15.6               \n",
       "4  ORUC1000000000001033            2017    A01    5.8               "
      ]
     },
     "execution_count": 2,
     "metadata": {},
     "output_type": "execute_result"
    }
   ],
   "source": [
    "series.head()"
   ]
  },
  {
   "cell_type": "markdown",
   "metadata": {},
   "source": [
    "Check if `occupation_code` is unique (viable candidate for a \"job id\""
   ]
  },
  {
   "cell_type": "code",
   "execution_count": 3,
   "metadata": {},
   "outputs": [
    {
     "data": {
      "text/plain": [
       "0    000\n",
       "1    000\n",
       "2    000\n",
       "3    000\n",
       "4    000\n",
       "Name: series_id, dtype: object"
      ]
     },
     "execution_count": 3,
     "metadata": {},
     "output_type": "execute_result"
    }
   ],
   "source": [
    "occupation_code = series['series_id'].map(lambda a: a[9:12])\n",
    "occupation_code.head()"
   ]
  },
  {
   "cell_type": "code",
   "execution_count": 4,
   "metadata": {},
   "outputs": [
    {
     "data": {
      "text/plain": [
       "0    ORU10000000000\n",
       "1    ORU10000000000\n",
       "2    ORU10000000000\n",
       "3    ORU10000000000\n",
       "4    ORU10000000000\n",
       "Name: series_id, dtype: object"
      ]
     },
     "execution_count": 4,
     "metadata": {},
     "output_type": "execute_result"
    }
   ],
   "source": [
    "series_prefix = series['series_id'].map(lambda a: a[:3] + a[4:15])\n",
    "series_prefix.head()"
   ]
  },
  {
   "cell_type": "code",
   "execution_count": 5,
   "metadata": {},
   "outputs": [
    {
     "data": {
      "text/plain": [
       "(338, 338)"
      ]
     },
     "execution_count": 5,
     "metadata": {},
     "output_type": "execute_result"
    }
   ],
   "source": [
    "len(series_prefix.unique()), len(occupation_code.unique())"
   ]
  },
  {
   "cell_type": "markdown",
   "metadata": {},
   "source": [
    "`occupation_code` is a viable \"job id\" key (only one row for each metric for each occupation code/job). Map to `soc_code` (really O\\*NET-SOC 2010 code) and convert to proper `soc_code` (drop the last two digits) for better combination with other datasets from BLS."
   ]
  },
  {
   "cell_type": "code",
   "execution_count": 6,
   "metadata": {},
   "outputs": [],
   "source": [
    "series['occupation_code'] = series['series_id'].map(lambda a: a[9:12])"
   ]
  },
  {
   "cell_type": "code",
   "execution_count": 7,
   "metadata": {},
   "outputs": [
    {
     "data": {
      "text/html": [
       "<div>\n",
       "<style scoped>\n",
       "    .dataframe tbody tr th:only-of-type {\n",
       "        vertical-align: middle;\n",
       "    }\n",
       "\n",
       "    .dataframe tbody tr th {\n",
       "        vertical-align: top;\n",
       "    }\n",
       "\n",
       "    .dataframe thead th {\n",
       "        text-align: right;\n",
       "    }\n",
       "</style>\n",
       "<table border=\"1\" class=\"dataframe\">\n",
       "  <thead>\n",
       "    <tr style=\"text-align: right;\">\n",
       "      <th></th>\n",
       "      <th>occupation_code</th>\n",
       "      <th>soc_code</th>\n",
       "    </tr>\n",
       "  </thead>\n",
       "  <tbody>\n",
       "    <tr>\n",
       "      <th>0</th>\n",
       "      <td>000</td>\n",
       "      <td>000000</td>\n",
       "    </tr>\n",
       "    <tr>\n",
       "      <th>1</th>\n",
       "      <td>001</td>\n",
       "      <td>111011</td>\n",
       "    </tr>\n",
       "    <tr>\n",
       "      <th>2</th>\n",
       "      <td>003</td>\n",
       "      <td>111021</td>\n",
       "    </tr>\n",
       "    <tr>\n",
       "      <th>3</th>\n",
       "      <td>007</td>\n",
       "      <td>112021</td>\n",
       "    </tr>\n",
       "    <tr>\n",
       "      <th>4</th>\n",
       "      <td>008</td>\n",
       "      <td>112022</td>\n",
       "    </tr>\n",
       "  </tbody>\n",
       "</table>\n",
       "</div>"
      ],
      "text/plain": [
       "  occupation_code soc_code\n",
       "0             000   000000\n",
       "1             001   111011\n",
       "2             003   111021\n",
       "3             007   112021\n",
       "4             008   112022"
      ]
     },
     "execution_count": 7,
     "metadata": {},
     "output_type": "execute_result"
    }
   ],
   "source": [
    "occupations = pandas.read_csv('ordata/or.occupation', delimiter='\\t', index_col=False, dtype={'occupation_code': str, 'soc_code': str}, usecols=['occupation_code', 'soc_code'])\n",
    "occupations['soc_code'] = occupations['soc_code'].map(lambda a: a[:6]) # convert from ONETSOC to SOC code\n",
    "occupations.head()"
   ]
  },
  {
   "cell_type": "code",
   "execution_count": 8,
   "metadata": {},
   "outputs": [
    {
     "data": {
      "text/html": [
       "<div>\n",
       "<style scoped>\n",
       "    .dataframe tbody tr th:only-of-type {\n",
       "        vertical-align: middle;\n",
       "    }\n",
       "\n",
       "    .dataframe tbody tr th {\n",
       "        vertical-align: top;\n",
       "    }\n",
       "\n",
       "    .dataframe thead th {\n",
       "        text-align: right;\n",
       "    }\n",
       "</style>\n",
       "<table border=\"1\" class=\"dataframe\">\n",
       "  <thead>\n",
       "    <tr style=\"text-align: right;\">\n",
       "      <th></th>\n",
       "      <th>occupation_code</th>\n",
       "      <th>soc_code</th>\n",
       "      <th>series_id</th>\n",
       "      <th>year</th>\n",
       "      <th>period</th>\n",
       "      <th>value</th>\n",
       "      <th>footnote_codes</th>\n",
       "    </tr>\n",
       "  </thead>\n",
       "  <tbody>\n",
       "    <tr>\n",
       "      <th>0</th>\n",
       "      <td>000</td>\n",
       "      <td>000000</td>\n",
       "      <td>ORUC1000000000000728</td>\n",
       "      <td>2017</td>\n",
       "      <td>A01</td>\n",
       "      <td>5.1</td>\n",
       "      <td>6</td>\n",
       "    </tr>\n",
       "    <tr>\n",
       "      <th>1</th>\n",
       "      <td>000</td>\n",
       "      <td>000000</td>\n",
       "      <td>ORUC1000000000001030</td>\n",
       "      <td>2017</td>\n",
       "      <td>A01</td>\n",
       "      <td>29.0</td>\n",
       "      <td></td>\n",
       "    </tr>\n",
       "    <tr>\n",
       "      <th>2</th>\n",
       "      <td>000</td>\n",
       "      <td>000000</td>\n",
       "      <td>ORUC1000000000001031</td>\n",
       "      <td>2017</td>\n",
       "      <td>A01</td>\n",
       "      <td>48.2</td>\n",
       "      <td>7</td>\n",
       "    </tr>\n",
       "    <tr>\n",
       "      <th>3</th>\n",
       "      <td>000</td>\n",
       "      <td>000000</td>\n",
       "      <td>ORUC1000000000001032</td>\n",
       "      <td>2017</td>\n",
       "      <td>A01</td>\n",
       "      <td>15.6</td>\n",
       "      <td></td>\n",
       "    </tr>\n",
       "    <tr>\n",
       "      <th>4</th>\n",
       "      <td>000</td>\n",
       "      <td>000000</td>\n",
       "      <td>ORUC1000000000001033</td>\n",
       "      <td>2017</td>\n",
       "      <td>A01</td>\n",
       "      <td>5.8</td>\n",
       "      <td></td>\n",
       "    </tr>\n",
       "  </tbody>\n",
       "</table>\n",
       "</div>"
      ],
      "text/plain": [
       "  occupation_code soc_code                       series_id  year period  \\\n",
       "0             000   000000  ORUC1000000000000728            2017    A01   \n",
       "1             000   000000  ORUC1000000000001030            2017    A01   \n",
       "2             000   000000  ORUC1000000000001031            2017    A01   \n",
       "3             000   000000  ORUC1000000000001032            2017    A01   \n",
       "4             000   000000  ORUC1000000000001033            2017    A01   \n",
       "\n",
       "   value footnote_codes  \n",
       "0    5.1              6  \n",
       "1   29.0                 \n",
       "2   48.2              7  \n",
       "3   15.6                 \n",
       "4    5.8                 "
      ]
     },
     "execution_count": 8,
     "metadata": {},
     "output_type": "execute_result"
    }
   ],
   "source": [
    "series = occupations.merge(series, on='occupation_code')\n",
    "series.head()"
   ]
  },
  {
   "cell_type": "markdown",
   "metadata": {},
   "source": [
    "Extract `estimate_code` aka metric id"
   ]
  },
  {
   "cell_type": "code",
   "execution_count": 9,
   "metadata": {},
   "outputs": [
    {
     "data": {
      "text/html": [
       "<div>\n",
       "<style scoped>\n",
       "    .dataframe tbody tr th:only-of-type {\n",
       "        vertical-align: middle;\n",
       "    }\n",
       "\n",
       "    .dataframe tbody tr th {\n",
       "        vertical-align: top;\n",
       "    }\n",
       "\n",
       "    .dataframe thead th {\n",
       "        text-align: right;\n",
       "    }\n",
       "</style>\n",
       "<table border=\"1\" class=\"dataframe\">\n",
       "  <thead>\n",
       "    <tr style=\"text-align: right;\">\n",
       "      <th></th>\n",
       "      <th>occupation_code</th>\n",
       "      <th>soc_code</th>\n",
       "      <th>series_id</th>\n",
       "      <th>year</th>\n",
       "      <th>period</th>\n",
       "      <th>value</th>\n",
       "      <th>footnote_codes</th>\n",
       "      <th>estimate_code</th>\n",
       "    </tr>\n",
       "  </thead>\n",
       "  <tbody>\n",
       "    <tr>\n",
       "      <th>0</th>\n",
       "      <td>000</td>\n",
       "      <td>000000</td>\n",
       "      <td>ORUC1000000000000728</td>\n",
       "      <td>2017</td>\n",
       "      <td>A01</td>\n",
       "      <td>5.1</td>\n",
       "      <td>6</td>\n",
       "      <td>00728</td>\n",
       "    </tr>\n",
       "    <tr>\n",
       "      <th>1</th>\n",
       "      <td>000</td>\n",
       "      <td>000000</td>\n",
       "      <td>ORUC1000000000001030</td>\n",
       "      <td>2017</td>\n",
       "      <td>A01</td>\n",
       "      <td>29.0</td>\n",
       "      <td></td>\n",
       "      <td>01030</td>\n",
       "    </tr>\n",
       "    <tr>\n",
       "      <th>2</th>\n",
       "      <td>000</td>\n",
       "      <td>000000</td>\n",
       "      <td>ORUC1000000000001031</td>\n",
       "      <td>2017</td>\n",
       "      <td>A01</td>\n",
       "      <td>48.2</td>\n",
       "      <td>7</td>\n",
       "      <td>01031</td>\n",
       "    </tr>\n",
       "    <tr>\n",
       "      <th>3</th>\n",
       "      <td>000</td>\n",
       "      <td>000000</td>\n",
       "      <td>ORUC1000000000001032</td>\n",
       "      <td>2017</td>\n",
       "      <td>A01</td>\n",
       "      <td>15.6</td>\n",
       "      <td></td>\n",
       "      <td>01032</td>\n",
       "    </tr>\n",
       "    <tr>\n",
       "      <th>4</th>\n",
       "      <td>000</td>\n",
       "      <td>000000</td>\n",
       "      <td>ORUC1000000000001033</td>\n",
       "      <td>2017</td>\n",
       "      <td>A01</td>\n",
       "      <td>5.8</td>\n",
       "      <td></td>\n",
       "      <td>01033</td>\n",
       "    </tr>\n",
       "  </tbody>\n",
       "</table>\n",
       "</div>"
      ],
      "text/plain": [
       "  occupation_code soc_code                       series_id  year period  \\\n",
       "0             000   000000  ORUC1000000000000728            2017    A01   \n",
       "1             000   000000  ORUC1000000000001030            2017    A01   \n",
       "2             000   000000  ORUC1000000000001031            2017    A01   \n",
       "3             000   000000  ORUC1000000000001032            2017    A01   \n",
       "4             000   000000  ORUC1000000000001033            2017    A01   \n",
       "\n",
       "   value footnote_codes estimate_code  \n",
       "0    5.1              6         00728  \n",
       "1   29.0                        01030  \n",
       "2   48.2              7         01031  \n",
       "3   15.6                        01032  \n",
       "4    5.8                        01033  "
      ]
     },
     "execution_count": 9,
     "metadata": {},
     "output_type": "execute_result"
    }
   ],
   "source": [
    "series['estimate_code'] = series['series_id'].map(lambda a: a[15:20])\n",
    "series.head()"
   ]
  },
  {
   "cell_type": "code",
   "execution_count": 10,
   "metadata": {},
   "outputs": [
    {
     "data": {
      "text/plain": [
       "342"
      ]
     },
     "execution_count": 10,
     "metadata": {},
     "output_type": "execute_result"
    }
   ],
   "source": [
    "len(series['estimate_code'].unique())"
   ]
  },
  {
   "cell_type": "markdown",
   "metadata": {},
   "source": [
    "Rows can be unique identified by (`occupation_code` and `estimate_code`) "
   ]
  },
  {
   "cell_type": "code",
   "execution_count": 11,
   "metadata": {},
   "outputs": [
    {
     "name": "stdout",
     "output_type": "stream",
     "text": [
      "338 * 342 = 115596\n",
      "40352\n"
     ]
    }
   ],
   "source": [
    "# sanity check\n",
    "num_occs = len(series['occupation_code'].unique())\n",
    "num_ests = len(series['estimate_code'].unique())\n",
    "print('{} * {} = {}'.format(num_occs, num_ests, num_occs * num_ests))\n",
    "print(len(series))\n",
    "# because some of the data is 0/missing"
   ]
  },
  {
   "cell_type": "markdown",
   "metadata": {},
   "source": [
    "Merge data (average) by (`soc_code` and `estimate_code`)"
   ]
  },
  {
   "cell_type": "code",
   "execution_count": 12,
   "metadata": {
    "scrolled": true
   },
   "outputs": [
    {
     "data": {
      "text/html": [
       "<div>\n",
       "<style scoped>\n",
       "    .dataframe tbody tr th:only-of-type {\n",
       "        vertical-align: middle;\n",
       "    }\n",
       "\n",
       "    .dataframe tbody tr th {\n",
       "        vertical-align: top;\n",
       "    }\n",
       "\n",
       "    .dataframe thead th {\n",
       "        text-align: right;\n",
       "    }\n",
       "</style>\n",
       "<table border=\"1\" class=\"dataframe\">\n",
       "  <thead>\n",
       "    <tr style=\"text-align: right;\">\n",
       "      <th>estimate_code</th>\n",
       "      <th>00064</th>\n",
       "      <th>00065</th>\n",
       "      <th>00066</th>\n",
       "      <th>00067</th>\n",
       "      <th>00068</th>\n",
       "      <th>00069</th>\n",
       "      <th>00070</th>\n",
       "      <th>00071</th>\n",
       "      <th>00072</th>\n",
       "      <th>00075</th>\n",
       "      <th>...</th>\n",
       "      <th>01076</th>\n",
       "      <th>01077</th>\n",
       "      <th>01080</th>\n",
       "      <th>01081</th>\n",
       "      <th>01084</th>\n",
       "      <th>01085</th>\n",
       "      <th>01087</th>\n",
       "      <th>01088</th>\n",
       "      <th>01090</th>\n",
       "      <th>01091</th>\n",
       "    </tr>\n",
       "    <tr>\n",
       "      <th>soc_code</th>\n",
       "      <th></th>\n",
       "      <th></th>\n",
       "      <th></th>\n",
       "      <th></th>\n",
       "      <th></th>\n",
       "      <th></th>\n",
       "      <th></th>\n",
       "      <th></th>\n",
       "      <th></th>\n",
       "      <th></th>\n",
       "      <th></th>\n",
       "      <th></th>\n",
       "      <th></th>\n",
       "      <th></th>\n",
       "      <th></th>\n",
       "      <th></th>\n",
       "      <th></th>\n",
       "      <th></th>\n",
       "      <th></th>\n",
       "      <th></th>\n",
       "      <th></th>\n",
       "    </tr>\n",
       "  </thead>\n",
       "  <tbody>\n",
       "    <tr>\n",
       "      <th>000000</th>\n",
       "      <td>4.0</td>\n",
       "      <td>30.3</td>\n",
       "      <td>5.0</td>\n",
       "      <td>3.5</td>\n",
       "      <td>6.7</td>\n",
       "      <td>13.4</td>\n",
       "      <td>19.1</td>\n",
       "      <td>15.9</td>\n",
       "      <td>2.1</td>\n",
       "      <td>30.6</td>\n",
       "      <td>...</td>\n",
       "      <td>25.8</td>\n",
       "      <td>19.3</td>\n",
       "      <td>77.9</td>\n",
       "      <td>22.1</td>\n",
       "      <td>11.0</td>\n",
       "      <td>22.9</td>\n",
       "      <td>18.2</td>\n",
       "      <td>15.7</td>\n",
       "      <td>1.4</td>\n",
       "      <td>32.5</td>\n",
       "    </tr>\n",
       "    <tr>\n",
       "      <th>110000</th>\n",
       "      <td>0.7</td>\n",
       "      <td>NaN</td>\n",
       "      <td>NaN</td>\n",
       "      <td>NaN</td>\n",
       "      <td>1.4</td>\n",
       "      <td>4.8</td>\n",
       "      <td>15.8</td>\n",
       "      <td>57.7</td>\n",
       "      <td>18.4</td>\n",
       "      <td>3.6</td>\n",
       "      <td>...</td>\n",
       "      <td>9.0</td>\n",
       "      <td>24.8</td>\n",
       "      <td>74.6</td>\n",
       "      <td>25.4</td>\n",
       "      <td>8.9</td>\n",
       "      <td>17.6</td>\n",
       "      <td>11.5</td>\n",
       "      <td>15.0</td>\n",
       "      <td>1.2</td>\n",
       "      <td>25.3</td>\n",
       "    </tr>\n",
       "    <tr>\n",
       "      <th>111011</th>\n",
       "      <td>NaN</td>\n",
       "      <td>NaN</td>\n",
       "      <td>NaN</td>\n",
       "      <td>NaN</td>\n",
       "      <td>NaN</td>\n",
       "      <td>NaN</td>\n",
       "      <td>NaN</td>\n",
       "      <td>40.7</td>\n",
       "      <td>56.9</td>\n",
       "      <td>NaN</td>\n",
       "      <td>...</td>\n",
       "      <td>NaN</td>\n",
       "      <td>NaN</td>\n",
       "      <td>NaN</td>\n",
       "      <td>NaN</td>\n",
       "      <td>NaN</td>\n",
       "      <td>NaN</td>\n",
       "      <td>NaN</td>\n",
       "      <td>NaN</td>\n",
       "      <td>NaN</td>\n",
       "      <td>NaN</td>\n",
       "    </tr>\n",
       "    <tr>\n",
       "      <th>111021</th>\n",
       "      <td>NaN</td>\n",
       "      <td>NaN</td>\n",
       "      <td>NaN</td>\n",
       "      <td>NaN</td>\n",
       "      <td>NaN</td>\n",
       "      <td>6.1</td>\n",
       "      <td>16.7</td>\n",
       "      <td>51.3</td>\n",
       "      <td>20.9</td>\n",
       "      <td>NaN</td>\n",
       "      <td>...</td>\n",
       "      <td>11.0</td>\n",
       "      <td>19.1</td>\n",
       "      <td>70.4</td>\n",
       "      <td>29.6</td>\n",
       "      <td>10.7</td>\n",
       "      <td>8.3</td>\n",
       "      <td>NaN</td>\n",
       "      <td>15.7</td>\n",
       "      <td>NaN</td>\n",
       "      <td>18.4</td>\n",
       "    </tr>\n",
       "    <tr>\n",
       "      <th>112021</th>\n",
       "      <td>NaN</td>\n",
       "      <td>NaN</td>\n",
       "      <td>NaN</td>\n",
       "      <td>NaN</td>\n",
       "      <td>NaN</td>\n",
       "      <td>NaN</td>\n",
       "      <td>14.6</td>\n",
       "      <td>57.6</td>\n",
       "      <td>24.9</td>\n",
       "      <td>NaN</td>\n",
       "      <td>...</td>\n",
       "      <td>NaN</td>\n",
       "      <td>21.8</td>\n",
       "      <td>65.3</td>\n",
       "      <td>34.7</td>\n",
       "      <td>NaN</td>\n",
       "      <td>NaN</td>\n",
       "      <td>NaN</td>\n",
       "      <td>NaN</td>\n",
       "      <td>NaN</td>\n",
       "      <td>NaN</td>\n",
       "    </tr>\n",
       "  </tbody>\n",
       "</table>\n",
       "<p>5 rows × 340 columns</p>\n",
       "</div>"
      ],
      "text/plain": [
       "estimate_code  00064  00065  00066  00067  00068  00069  00070  00071  00072  \\\n",
       "soc_code                                                                       \n",
       "000000           4.0   30.3    5.0    3.5    6.7   13.4   19.1   15.9    2.1   \n",
       "110000           0.7    NaN    NaN    NaN    1.4    4.8   15.8   57.7   18.4   \n",
       "111011           NaN    NaN    NaN    NaN    NaN    NaN    NaN   40.7   56.9   \n",
       "111021           NaN    NaN    NaN    NaN    NaN    6.1   16.7   51.3   20.9   \n",
       "112021           NaN    NaN    NaN    NaN    NaN    NaN   14.6   57.6   24.9   \n",
       "\n",
       "estimate_code  00075  ...    01076  01077  01080  01081  01084  01085  01087  \\\n",
       "soc_code              ...                                                      \n",
       "000000          30.6  ...     25.8   19.3   77.9   22.1   11.0   22.9   18.2   \n",
       "110000           3.6  ...      9.0   24.8   74.6   25.4    8.9   17.6   11.5   \n",
       "111011           NaN  ...      NaN    NaN    NaN    NaN    NaN    NaN    NaN   \n",
       "111021           NaN  ...     11.0   19.1   70.4   29.6   10.7    8.3    NaN   \n",
       "112021           NaN  ...      NaN   21.8   65.3   34.7    NaN    NaN    NaN   \n",
       "\n",
       "estimate_code  01088  01090  01091  \n",
       "soc_code                            \n",
       "000000          15.7    1.4   32.5  \n",
       "110000          15.0    1.2   25.3  \n",
       "111011           NaN    NaN    NaN  \n",
       "111021          15.7    NaN   18.4  \n",
       "112021           NaN    NaN    NaN  \n",
       "\n",
       "[5 rows x 340 columns]"
      ]
     },
     "execution_count": 12,
     "metadata": {},
     "output_type": "execute_result"
    }
   ],
   "source": [
    "estimate_values_by_soc = series.groupby(by=('soc_code', 'estimate_code'))['value'].mean()\n",
    "data = estimate_values_by_soc.to_frame().pivot_table(index=\"soc_code\", columns=\"estimate_code\", values=\"value\")\n",
    "data.head()"
   ]
  },
  {
   "cell_type": "markdown",
   "metadata": {},
   "source": [
    "Convert the data from rows with keyed by (`occupation_code`, `estimate_code`) to a matrix of with `occupation_code` rows and `estimate_code` columns."
   ]
  },
  {
   "cell_type": "code",
   "execution_count": 13,
   "metadata": {},
   "outputs": [],
   "source": [
    "data.to_csv('ordata-processed.csv')"
   ]
  }
 ],
 "metadata": {
  "kernelspec": {
   "display_name": "Python 3",
   "language": "python",
   "name": "python3"
  },
  "language_info": {
   "codemirror_mode": {
    "name": "ipython",
    "version": 3
   },
   "file_extension": ".py",
   "mimetype": "text/x-python",
   "name": "python",
   "nbconvert_exporter": "python",
   "pygments_lexer": "ipython3",
   "version": "3.6.4"
  }
 },
 "nbformat": 4,
 "nbformat_minor": 2
}
