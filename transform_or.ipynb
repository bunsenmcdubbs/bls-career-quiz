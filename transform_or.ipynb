{
 "cells": [
  {
   "cell_type": "markdown",
   "metadata": {},
   "source": [
    "# Aggregate metrics for Job Characteristics\n",
    "\n",
    "Some of these indicies combine multiple metrics. All indicies are normalized.\n",
    "\n",
    "## Method\n",
    "\n",
    "For 1+ underlying methics in the Occupational Requirements dataset, the raw values will be normalized (z-scores). Those scores will be summed (possiblity weighted) and the sum is normalized to create the final metric.\n",
    "\n",
    "## Setup\n",
    "\n",
    "1. Load preprocessed or data\n",
    "2. Load metadata about estimates"
   ]
  },
  {
   "cell_type": "code",
   "execution_count": 1,
   "metadata": {},
   "outputs": [],
   "source": [
    "import matplotlib\n",
    "import pandas"
   ]
  },
  {
   "cell_type": "code",
   "execution_count": 2,
   "metadata": {},
   "outputs": [
    {
     "data": {
      "text/html": [
       "<div>\n",
       "<style scoped>\n",
       "    .dataframe tbody tr th:only-of-type {\n",
       "        vertical-align: middle;\n",
       "    }\n",
       "\n",
       "    .dataframe tbody tr th {\n",
       "        vertical-align: top;\n",
       "    }\n",
       "\n",
       "    .dataframe thead th {\n",
       "        text-align: right;\n",
       "    }\n",
       "</style>\n",
       "<table border=\"1\" class=\"dataframe\">\n",
       "  <thead>\n",
       "    <tr style=\"text-align: right;\">\n",
       "      <th></th>\n",
       "      <th>soc_code</th>\n",
       "      <th>00064</th>\n",
       "      <th>00065</th>\n",
       "      <th>00066</th>\n",
       "      <th>00067</th>\n",
       "      <th>00068</th>\n",
       "      <th>00069</th>\n",
       "      <th>00070</th>\n",
       "      <th>00071</th>\n",
       "      <th>00072</th>\n",
       "      <th>...</th>\n",
       "      <th>01076</th>\n",
       "      <th>01077</th>\n",
       "      <th>01080</th>\n",
       "      <th>01081</th>\n",
       "      <th>01084</th>\n",
       "      <th>01085</th>\n",
       "      <th>01087</th>\n",
       "      <th>01088</th>\n",
       "      <th>01090</th>\n",
       "      <th>01091</th>\n",
       "    </tr>\n",
       "  </thead>\n",
       "  <tbody>\n",
       "    <tr>\n",
       "      <th>0</th>\n",
       "      <td>111011</td>\n",
       "      <td>NaN</td>\n",
       "      <td>NaN</td>\n",
       "      <td>NaN</td>\n",
       "      <td>NaN</td>\n",
       "      <td>NaN</td>\n",
       "      <td>NaN</td>\n",
       "      <td>NaN</td>\n",
       "      <td>40.7</td>\n",
       "      <td>56.9</td>\n",
       "      <td>...</td>\n",
       "      <td>NaN</td>\n",
       "      <td>NaN</td>\n",
       "      <td>NaN</td>\n",
       "      <td>NaN</td>\n",
       "      <td>NaN</td>\n",
       "      <td>NaN</td>\n",
       "      <td>NaN</td>\n",
       "      <td>NaN</td>\n",
       "      <td>NaN</td>\n",
       "      <td>NaN</td>\n",
       "    </tr>\n",
       "    <tr>\n",
       "      <th>1</th>\n",
       "      <td>111021</td>\n",
       "      <td>NaN</td>\n",
       "      <td>NaN</td>\n",
       "      <td>NaN</td>\n",
       "      <td>NaN</td>\n",
       "      <td>NaN</td>\n",
       "      <td>6.1</td>\n",
       "      <td>16.7</td>\n",
       "      <td>51.3</td>\n",
       "      <td>20.9</td>\n",
       "      <td>...</td>\n",
       "      <td>11.0</td>\n",
       "      <td>19.1</td>\n",
       "      <td>70.4</td>\n",
       "      <td>29.6</td>\n",
       "      <td>10.7</td>\n",
       "      <td>8.3</td>\n",
       "      <td>NaN</td>\n",
       "      <td>15.7</td>\n",
       "      <td>NaN</td>\n",
       "      <td>18.4</td>\n",
       "    </tr>\n",
       "    <tr>\n",
       "      <th>2</th>\n",
       "      <td>112021</td>\n",
       "      <td>NaN</td>\n",
       "      <td>NaN</td>\n",
       "      <td>NaN</td>\n",
       "      <td>NaN</td>\n",
       "      <td>NaN</td>\n",
       "      <td>NaN</td>\n",
       "      <td>14.6</td>\n",
       "      <td>57.6</td>\n",
       "      <td>24.9</td>\n",
       "      <td>...</td>\n",
       "      <td>NaN</td>\n",
       "      <td>21.8</td>\n",
       "      <td>65.3</td>\n",
       "      <td>34.7</td>\n",
       "      <td>NaN</td>\n",
       "      <td>NaN</td>\n",
       "      <td>NaN</td>\n",
       "      <td>NaN</td>\n",
       "      <td>NaN</td>\n",
       "      <td>NaN</td>\n",
       "    </tr>\n",
       "    <tr>\n",
       "      <th>3</th>\n",
       "      <td>112022</td>\n",
       "      <td>NaN</td>\n",
       "      <td>NaN</td>\n",
       "      <td>NaN</td>\n",
       "      <td>NaN</td>\n",
       "      <td>NaN</td>\n",
       "      <td>NaN</td>\n",
       "      <td>19.8</td>\n",
       "      <td>56.2</td>\n",
       "      <td>11.6</td>\n",
       "      <td>...</td>\n",
       "      <td>NaN</td>\n",
       "      <td>31.7</td>\n",
       "      <td>83.7</td>\n",
       "      <td>16.3</td>\n",
       "      <td>NaN</td>\n",
       "      <td>32.7</td>\n",
       "      <td>NaN</td>\n",
       "      <td>NaN</td>\n",
       "      <td>NaN</td>\n",
       "      <td>33.4</td>\n",
       "    </tr>\n",
       "    <tr>\n",
       "      <th>4</th>\n",
       "      <td>112031</td>\n",
       "      <td>NaN</td>\n",
       "      <td>NaN</td>\n",
       "      <td>NaN</td>\n",
       "      <td>NaN</td>\n",
       "      <td>NaN</td>\n",
       "      <td>NaN</td>\n",
       "      <td>NaN</td>\n",
       "      <td>69.5</td>\n",
       "      <td>NaN</td>\n",
       "      <td>...</td>\n",
       "      <td>NaN</td>\n",
       "      <td>NaN</td>\n",
       "      <td>NaN</td>\n",
       "      <td>NaN</td>\n",
       "      <td>NaN</td>\n",
       "      <td>NaN</td>\n",
       "      <td>NaN</td>\n",
       "      <td>NaN</td>\n",
       "      <td>NaN</td>\n",
       "      <td>NaN</td>\n",
       "    </tr>\n",
       "  </tbody>\n",
       "</table>\n",
       "<p>5 rows × 330 columns</p>\n",
       "</div>"
      ],
      "text/plain": [
       "  soc_code  00064  00065  00066  00067  00068  00069  00070  00071  00072  \\\n",
       "0   111011    NaN    NaN    NaN    NaN    NaN    NaN    NaN   40.7   56.9   \n",
       "1   111021    NaN    NaN    NaN    NaN    NaN    6.1   16.7   51.3   20.9   \n",
       "2   112021    NaN    NaN    NaN    NaN    NaN    NaN   14.6   57.6   24.9   \n",
       "3   112022    NaN    NaN    NaN    NaN    NaN    NaN   19.8   56.2   11.6   \n",
       "4   112031    NaN    NaN    NaN    NaN    NaN    NaN    NaN   69.5    NaN   \n",
       "\n",
       "   ...    01076  01077  01080  01081  01084  01085  01087  01088  01090  01091  \n",
       "0  ...      NaN    NaN    NaN    NaN    NaN    NaN    NaN    NaN    NaN    NaN  \n",
       "1  ...     11.0   19.1   70.4   29.6   10.7    8.3    NaN   15.7    NaN   18.4  \n",
       "2  ...      NaN   21.8   65.3   34.7    NaN    NaN    NaN    NaN    NaN    NaN  \n",
       "3  ...      NaN   31.7   83.7   16.3    NaN   32.7    NaN    NaN    NaN   33.4  \n",
       "4  ...      NaN    NaN    NaN    NaN    NaN    NaN    NaN    NaN    NaN    NaN  \n",
       "\n",
       "[5 rows x 330 columns]"
      ]
     },
     "execution_count": 2,
     "metadata": {},
     "output_type": "execute_result"
    }
   ],
   "source": [
    "data = pandas.read_csv('ordata-processed.csv', converters={'soc_code': str})\n",
    "data.head()"
   ]
  },
  {
   "cell_type": "code",
   "execution_count": 3,
   "metadata": {},
   "outputs": [
    {
     "data": {
      "text/html": [
       "<div>\n",
       "<style scoped>\n",
       "    .dataframe tbody tr th:only-of-type {\n",
       "        vertical-align: middle;\n",
       "    }\n",
       "\n",
       "    .dataframe tbody tr th {\n",
       "        vertical-align: top;\n",
       "    }\n",
       "\n",
       "    .dataframe thead th {\n",
       "        text-align: right;\n",
       "    }\n",
       "</style>\n",
       "<table border=\"1\" class=\"dataframe\">\n",
       "  <thead>\n",
       "    <tr style=\"text-align: right;\">\n",
       "      <th></th>\n",
       "      <th>estimate_code</th>\n",
       "      <th>estimate_text</th>\n",
       "      <th>display_level</th>\n",
       "      <th>selectable</th>\n",
       "      <th>sort_sequence</th>\n",
       "    </tr>\n",
       "  </thead>\n",
       "  <tbody>\n",
       "    <tr>\n",
       "      <th>0</th>\n",
       "      <td>00064</td>\n",
       "      <td>Percent of workers, svp is short demonstration...</td>\n",
       "      <td>0</td>\n",
       "      <td>T</td>\n",
       "      <td>889</td>\n",
       "    </tr>\n",
       "    <tr>\n",
       "      <th>1</th>\n",
       "      <td>00065</td>\n",
       "      <td>Percent of workers, svp is beyond short demons...</td>\n",
       "      <td>0</td>\n",
       "      <td>T</td>\n",
       "      <td>890</td>\n",
       "    </tr>\n",
       "    <tr>\n",
       "      <th>2</th>\n",
       "      <td>00066</td>\n",
       "      <td>Percent of workers, svp is over 1 month, up to...</td>\n",
       "      <td>0</td>\n",
       "      <td>T</td>\n",
       "      <td>891</td>\n",
       "    </tr>\n",
       "    <tr>\n",
       "      <th>3</th>\n",
       "      <td>00067</td>\n",
       "      <td>Percent of workers, svp is over 3 months, up t...</td>\n",
       "      <td>0</td>\n",
       "      <td>T</td>\n",
       "      <td>892</td>\n",
       "    </tr>\n",
       "    <tr>\n",
       "      <th>4</th>\n",
       "      <td>00068</td>\n",
       "      <td>Percent of workers, svp is over 6 months, up t...</td>\n",
       "      <td>0</td>\n",
       "      <td>T</td>\n",
       "      <td>893</td>\n",
       "    </tr>\n",
       "  </tbody>\n",
       "</table>\n",
       "</div>"
      ],
      "text/plain": [
       "  estimate_code                                      estimate_text  \\\n",
       "0         00064  Percent of workers, svp is short demonstration...   \n",
       "1         00065  Percent of workers, svp is beyond short demons...   \n",
       "2         00066  Percent of workers, svp is over 1 month, up to...   \n",
       "3         00067  Percent of workers, svp is over 3 months, up t...   \n",
       "4         00068  Percent of workers, svp is over 6 months, up t...   \n",
       "\n",
       "   display_level selectable  sort_sequence  \n",
       "0              0          T            889  \n",
       "1              0          T            890  \n",
       "2              0          T            891  \n",
       "3              0          T            892  \n",
       "4              0          T            893  "
      ]
     },
     "execution_count": 3,
     "metadata": {},
     "output_type": "execute_result"
    }
   ],
   "source": [
    "metadata = pandas.read_csv('ordata/or.estimate', delimiter='\\t', index_col=False)\n",
    "metadata['estimate_code'] = metadata['estimate_code'].map(lambda c: '{:05d}'.format(c))\n",
    "metadata.head()"
   ]
  },
  {
   "cell_type": "markdown",
   "metadata": {},
   "source": [
    "## Indicies\n",
    "\n",
    "Aggregate metrics/indices for:\n",
    "- Physicality\n",
    "- Pace of work\n",
    "- Variety\n",
    "- Danger\n",
    "- Communication\n",
    " - Type of interaction\n",
    "- Entry-level/experienced\n",
    "- Ambiguous decision making\n",
    "\n",
    "### Physicality Index\n",
    "\n",
    "Combines underlying metrics:\n",
    "\n",
    "| Estimate code | Name |\n",
    "|---------------|------|\n",
    "|00128|Hours of standing/walking (50th Percentile - median)|\n",
    "|01006|Percent of day where standing/walking is required (50th Percentile - median)|\n",
    "|00235|Pounds maximum weight lifted/carried (25th Percentile)|\n",
    "|00236|Pounds maximum weight lifted/carried (50th Percentile - median)|\n",
    "|00758|Percent of workers, crawling is required|\n",
    "|00759|Percent of workers, crouching is required|\n",
    "|00647|Percent of workers, pushing/pulling with feet only is required, frequently|\n",
    "|00648|Percent of workers, pushing/pulling with feet only is required, constantly|\n",
    "|00298|Percent of workers, pushing/pulling with feet/legs is required, frequently|\n",
    "|00828|Percent of workers, pushing/pulling with feet/legs is required|\n",
    "|00829|Percent of workers, pushing/pulling with hands/arms is required|\n",
    "|00364|Percent of workers, climbing ramps or stairs (structure-related) is required|\n",
    "|00752|Percent of workers, climbing ramps or stairs (work-related) is required|\n",
    "|00751|Percent of workers, climbing ladders, ropes, or scaffolds is required|\n",
    "|00398|Percent of workers, stooping is required, frequently|\n",
    "|00411|Percent of workers, kneeling is required, occasionally|\n",
    "|00663|Percent of workers, strength is medium work|\n",
    "|00664|Percent of workers, strength is heavy work|\n",
    "|00665|Percent of workers, strength is very heavy work|\n",
    "|00827|Percent of workers, pushing/pulling with feet only is required|"
   ]
  },
  {
   "cell_type": "code",
   "execution_count": 4,
   "metadata": {},
   "outputs": [],
   "source": [
    "codes = [\n",
    "'00128',\n",
    "'01006',\n",
    "'00235',\n",
    "'00236',\n",
    "'00758',\n",
    "'00759',\n",
    "'00647',\n",
    "'00648',\n",
    "'00298',\n",
    "'00828',\n",
    "'00829',\n",
    "'00364',\n",
    "'00752',\n",
    "'00751',\n",
    "'00398',\n",
    "'00411',\n",
    "'00663',\n",
    "'00664',\n",
    "'00665',\n",
    "'00827'\n",
    "]"
   ]
  },
  {
   "cell_type": "code",
   "execution_count": 5,
   "metadata": {},
   "outputs": [
    {
     "data": {
      "text/plain": [
       "<matplotlib.axes._subplots.AxesSubplot at 0x10ca462b0>"
      ]
     },
     "execution_count": 5,
     "metadata": {},
     "output_type": "execute_result"
    }
   ],
   "source": [
    "data['00235'].hist()"
   ]
  },
  {
   "cell_type": "code",
   "execution_count": 6,
   "metadata": {},
   "outputs": [
    {
     "data": {
      "text/html": [
       "<div>\n",
       "<style scoped>\n",
       "    .dataframe tbody tr th:only-of-type {\n",
       "        vertical-align: middle;\n",
       "    }\n",
       "\n",
       "    .dataframe tbody tr th {\n",
       "        vertical-align: top;\n",
       "    }\n",
       "\n",
       "    .dataframe thead th {\n",
       "        text-align: right;\n",
       "    }\n",
       "</style>\n",
       "<table border=\"1\" class=\"dataframe\">\n",
       "  <thead>\n",
       "    <tr style=\"text-align: right;\">\n",
       "      <th></th>\n",
       "      <th>00128</th>\n",
       "      <th>00235</th>\n",
       "      <th>00236</th>\n",
       "      <th>00298</th>\n",
       "      <th>00364</th>\n",
       "      <th>00398</th>\n",
       "      <th>00411</th>\n",
       "      <th>00648</th>\n",
       "      <th>00663</th>\n",
       "      <th>00664</th>\n",
       "      <th>00665</th>\n",
       "      <th>00751</th>\n",
       "      <th>00752</th>\n",
       "      <th>00758</th>\n",
       "      <th>00759</th>\n",
       "      <th>00827</th>\n",
       "      <th>00828</th>\n",
       "      <th>00829</th>\n",
       "      <th>01006</th>\n",
       "    </tr>\n",
       "  </thead>\n",
       "  <tbody>\n",
       "    <tr>\n",
       "      <th>0</th>\n",
       "      <td>NaN</td>\n",
       "      <td>-0.77529</td>\n",
       "      <td>NaN</td>\n",
       "      <td>NaN</td>\n",
       "      <td>0.746637</td>\n",
       "      <td>NaN</td>\n",
       "      <td>NaN</td>\n",
       "      <td>NaN</td>\n",
       "      <td>NaN</td>\n",
       "      <td>NaN</td>\n",
       "      <td>NaN</td>\n",
       "      <td>NaN</td>\n",
       "      <td>-0.703493</td>\n",
       "      <td>NaN</td>\n",
       "      <td>NaN</td>\n",
       "      <td>NaN</td>\n",
       "      <td>NaN</td>\n",
       "      <td>NaN</td>\n",
       "      <td>-1.318406</td>\n",
       "    </tr>\n",
       "    <tr>\n",
       "      <th>1</th>\n",
       "      <td>-1.022171</td>\n",
       "      <td>-0.77529</td>\n",
       "      <td>-0.678812</td>\n",
       "      <td>NaN</td>\n",
       "      <td>-0.565729</td>\n",
       "      <td>NaN</td>\n",
       "      <td>NaN</td>\n",
       "      <td>NaN</td>\n",
       "      <td>-0.799107</td>\n",
       "      <td>NaN</td>\n",
       "      <td>NaN</td>\n",
       "      <td>-1.328704</td>\n",
       "      <td>-0.514486</td>\n",
       "      <td>NaN</td>\n",
       "      <td>-1.166201</td>\n",
       "      <td>NaN</td>\n",
       "      <td>-1.548258</td>\n",
       "      <td>-1.558148</td>\n",
       "      <td>-1.165483</td>\n",
       "    </tr>\n",
       "    <tr>\n",
       "      <th>2</th>\n",
       "      <td>NaN</td>\n",
       "      <td>NaN</td>\n",
       "      <td>-1.175379</td>\n",
       "      <td>NaN</td>\n",
       "      <td>-0.060973</td>\n",
       "      <td>NaN</td>\n",
       "      <td>NaN</td>\n",
       "      <td>NaN</td>\n",
       "      <td>NaN</td>\n",
       "      <td>NaN</td>\n",
       "      <td>NaN</td>\n",
       "      <td>NaN</td>\n",
       "      <td>-0.699556</td>\n",
       "      <td>NaN</td>\n",
       "      <td>NaN</td>\n",
       "      <td>NaN</td>\n",
       "      <td>NaN</td>\n",
       "      <td>NaN</td>\n",
       "      <td>NaN</td>\n",
       "    </tr>\n",
       "    <tr>\n",
       "      <th>3</th>\n",
       "      <td>-1.022171</td>\n",
       "      <td>-0.77529</td>\n",
       "      <td>-1.175379</td>\n",
       "      <td>NaN</td>\n",
       "      <td>-0.013862</td>\n",
       "      <td>NaN</td>\n",
       "      <td>NaN</td>\n",
       "      <td>NaN</td>\n",
       "      <td>-1.446244</td>\n",
       "      <td>NaN</td>\n",
       "      <td>NaN</td>\n",
       "      <td>-1.391797</td>\n",
       "      <td>-0.490861</td>\n",
       "      <td>NaN</td>\n",
       "      <td>-1.396114</td>\n",
       "      <td>NaN</td>\n",
       "      <td>NaN</td>\n",
       "      <td>NaN</td>\n",
       "      <td>-1.165483</td>\n",
       "    </tr>\n",
       "    <tr>\n",
       "      <th>4</th>\n",
       "      <td>-1.022171</td>\n",
       "      <td>-0.77529</td>\n",
       "      <td>-0.678812</td>\n",
       "      <td>NaN</td>\n",
       "      <td>-0.188844</td>\n",
       "      <td>NaN</td>\n",
       "      <td>NaN</td>\n",
       "      <td>NaN</td>\n",
       "      <td>-0.741838</td>\n",
       "      <td>NaN</td>\n",
       "      <td>NaN</td>\n",
       "      <td>NaN</td>\n",
       "      <td>-0.006530</td>\n",
       "      <td>NaN</td>\n",
       "      <td>-0.858205</td>\n",
       "      <td>NaN</td>\n",
       "      <td>NaN</td>\n",
       "      <td>NaN</td>\n",
       "      <td>-1.165483</td>\n",
       "    </tr>\n",
       "  </tbody>\n",
       "</table>\n",
       "</div>"
      ],
      "text/plain": [
       "      00128    00235     00236  00298     00364  00398  00411  00648  \\\n",
       "0       NaN -0.77529       NaN    NaN  0.746637    NaN    NaN    NaN   \n",
       "1 -1.022171 -0.77529 -0.678812    NaN -0.565729    NaN    NaN    NaN   \n",
       "2       NaN      NaN -1.175379    NaN -0.060973    NaN    NaN    NaN   \n",
       "3 -1.022171 -0.77529 -1.175379    NaN -0.013862    NaN    NaN    NaN   \n",
       "4 -1.022171 -0.77529 -0.678812    NaN -0.188844    NaN    NaN    NaN   \n",
       "\n",
       "      00663  00664  00665     00751     00752  00758     00759  00827  \\\n",
       "0       NaN    NaN    NaN       NaN -0.703493    NaN       NaN    NaN   \n",
       "1 -0.799107    NaN    NaN -1.328704 -0.514486    NaN -1.166201    NaN   \n",
       "2       NaN    NaN    NaN       NaN -0.699556    NaN       NaN    NaN   \n",
       "3 -1.446244    NaN    NaN -1.391797 -0.490861    NaN -1.396114    NaN   \n",
       "4 -0.741838    NaN    NaN       NaN -0.006530    NaN -0.858205    NaN   \n",
       "\n",
       "      00828     00829     01006  \n",
       "0       NaN       NaN -1.318406  \n",
       "1 -1.548258 -1.558148 -1.165483  \n",
       "2       NaN       NaN       NaN  \n",
       "3       NaN       NaN -1.165483  \n",
       "4       NaN       NaN -1.165483  "
      ]
     },
     "execution_count": 6,
     "metadata": {},
     "output_type": "execute_result"
    }
   ],
   "source": [
    "normalized = pandas.DataFrame({\n",
    "    c: (data[c] - data[c].mean()) / (data[c].std())\n",
    "    for c in codes if c in data\n",
    "})\n",
    "normalized.dropna(axis=0)\n",
    "normalized.dropna(axis=1)\n",
    "normalized.head()"
   ]
  },
  {
   "cell_type": "code",
   "execution_count": 7,
   "metadata": {},
   "outputs": [
    {
     "data": {
      "text/html": [
       "<div>\n",
       "<style scoped>\n",
       "    .dataframe tbody tr th:only-of-type {\n",
       "        vertical-align: middle;\n",
       "    }\n",
       "\n",
       "    .dataframe tbody tr th {\n",
       "        vertical-align: top;\n",
       "    }\n",
       "\n",
       "    .dataframe thead th {\n",
       "        text-align: right;\n",
       "    }\n",
       "</style>\n",
       "<table border=\"1\" class=\"dataframe\">\n",
       "  <thead>\n",
       "    <tr style=\"text-align: right;\">\n",
       "      <th></th>\n",
       "      <th>00128</th>\n",
       "      <th>00235</th>\n",
       "      <th>00236</th>\n",
       "      <th>00298</th>\n",
       "      <th>00364</th>\n",
       "      <th>00398</th>\n",
       "      <th>00411</th>\n",
       "      <th>00648</th>\n",
       "      <th>00663</th>\n",
       "      <th>00664</th>\n",
       "      <th>...</th>\n",
       "      <th>00751</th>\n",
       "      <th>00752</th>\n",
       "      <th>00758</th>\n",
       "      <th>00759</th>\n",
       "      <th>00827</th>\n",
       "      <th>00828</th>\n",
       "      <th>00829</th>\n",
       "      <th>01006</th>\n",
       "      <th>sum</th>\n",
       "      <th>index</th>\n",
       "    </tr>\n",
       "  </thead>\n",
       "  <tbody>\n",
       "    <tr>\n",
       "      <th>0</th>\n",
       "      <td>NaN</td>\n",
       "      <td>-0.77529</td>\n",
       "      <td>NaN</td>\n",
       "      <td>NaN</td>\n",
       "      <td>0.746637</td>\n",
       "      <td>NaN</td>\n",
       "      <td>NaN</td>\n",
       "      <td>NaN</td>\n",
       "      <td>NaN</td>\n",
       "      <td>NaN</td>\n",
       "      <td>...</td>\n",
       "      <td>NaN</td>\n",
       "      <td>-0.703493</td>\n",
       "      <td>NaN</td>\n",
       "      <td>NaN</td>\n",
       "      <td>NaN</td>\n",
       "      <td>NaN</td>\n",
       "      <td>NaN</td>\n",
       "      <td>-1.318406</td>\n",
       "      <td>-2.050552</td>\n",
       "      <td>-0.362780</td>\n",
       "    </tr>\n",
       "    <tr>\n",
       "      <th>1</th>\n",
       "      <td>-1.022171</td>\n",
       "      <td>-0.77529</td>\n",
       "      <td>-0.678812</td>\n",
       "      <td>NaN</td>\n",
       "      <td>-0.565729</td>\n",
       "      <td>NaN</td>\n",
       "      <td>NaN</td>\n",
       "      <td>NaN</td>\n",
       "      <td>-0.799107</td>\n",
       "      <td>NaN</td>\n",
       "      <td>...</td>\n",
       "      <td>-1.328704</td>\n",
       "      <td>-0.514486</td>\n",
       "      <td>NaN</td>\n",
       "      <td>-1.166201</td>\n",
       "      <td>NaN</td>\n",
       "      <td>-1.548258</td>\n",
       "      <td>-1.558148</td>\n",
       "      <td>-1.165483</td>\n",
       "      <td>-11.122390</td>\n",
       "      <td>-1.967751</td>\n",
       "    </tr>\n",
       "    <tr>\n",
       "      <th>2</th>\n",
       "      <td>NaN</td>\n",
       "      <td>NaN</td>\n",
       "      <td>-1.175379</td>\n",
       "      <td>NaN</td>\n",
       "      <td>-0.060973</td>\n",
       "      <td>NaN</td>\n",
       "      <td>NaN</td>\n",
       "      <td>NaN</td>\n",
       "      <td>NaN</td>\n",
       "      <td>NaN</td>\n",
       "      <td>...</td>\n",
       "      <td>NaN</td>\n",
       "      <td>-0.699556</td>\n",
       "      <td>NaN</td>\n",
       "      <td>NaN</td>\n",
       "      <td>NaN</td>\n",
       "      <td>NaN</td>\n",
       "      <td>NaN</td>\n",
       "      <td>NaN</td>\n",
       "      <td>-1.935907</td>\n",
       "      <td>-0.342497</td>\n",
       "    </tr>\n",
       "    <tr>\n",
       "      <th>3</th>\n",
       "      <td>-1.022171</td>\n",
       "      <td>-0.77529</td>\n",
       "      <td>-1.175379</td>\n",
       "      <td>NaN</td>\n",
       "      <td>-0.013862</td>\n",
       "      <td>NaN</td>\n",
       "      <td>NaN</td>\n",
       "      <td>NaN</td>\n",
       "      <td>-1.446244</td>\n",
       "      <td>NaN</td>\n",
       "      <td>...</td>\n",
       "      <td>-1.391797</td>\n",
       "      <td>-0.490861</td>\n",
       "      <td>NaN</td>\n",
       "      <td>-1.396114</td>\n",
       "      <td>NaN</td>\n",
       "      <td>NaN</td>\n",
       "      <td>NaN</td>\n",
       "      <td>-1.165483</td>\n",
       "      <td>-8.877201</td>\n",
       "      <td>-1.570537</td>\n",
       "    </tr>\n",
       "    <tr>\n",
       "      <th>4</th>\n",
       "      <td>-1.022171</td>\n",
       "      <td>-0.77529</td>\n",
       "      <td>-0.678812</td>\n",
       "      <td>NaN</td>\n",
       "      <td>-0.188844</td>\n",
       "      <td>NaN</td>\n",
       "      <td>NaN</td>\n",
       "      <td>NaN</td>\n",
       "      <td>-0.741838</td>\n",
       "      <td>NaN</td>\n",
       "      <td>...</td>\n",
       "      <td>NaN</td>\n",
       "      <td>-0.006530</td>\n",
       "      <td>NaN</td>\n",
       "      <td>-0.858205</td>\n",
       "      <td>NaN</td>\n",
       "      <td>NaN</td>\n",
       "      <td>NaN</td>\n",
       "      <td>-1.165483</td>\n",
       "      <td>-5.437175</td>\n",
       "      <td>-0.961934</td>\n",
       "    </tr>\n",
       "  </tbody>\n",
       "</table>\n",
       "<p>5 rows × 21 columns</p>\n",
       "</div>"
      ],
      "text/plain": [
       "      00128    00235     00236  00298     00364  00398  00411  00648  \\\n",
       "0       NaN -0.77529       NaN    NaN  0.746637    NaN    NaN    NaN   \n",
       "1 -1.022171 -0.77529 -0.678812    NaN -0.565729    NaN    NaN    NaN   \n",
       "2       NaN      NaN -1.175379    NaN -0.060973    NaN    NaN    NaN   \n",
       "3 -1.022171 -0.77529 -1.175379    NaN -0.013862    NaN    NaN    NaN   \n",
       "4 -1.022171 -0.77529 -0.678812    NaN -0.188844    NaN    NaN    NaN   \n",
       "\n",
       "      00663  00664    ...        00751     00752  00758     00759  00827  \\\n",
       "0       NaN    NaN    ...          NaN -0.703493    NaN       NaN    NaN   \n",
       "1 -0.799107    NaN    ...    -1.328704 -0.514486    NaN -1.166201    NaN   \n",
       "2       NaN    NaN    ...          NaN -0.699556    NaN       NaN    NaN   \n",
       "3 -1.446244    NaN    ...    -1.391797 -0.490861    NaN -1.396114    NaN   \n",
       "4 -0.741838    NaN    ...          NaN -0.006530    NaN -0.858205    NaN   \n",
       "\n",
       "      00828     00829     01006        sum     index  \n",
       "0       NaN       NaN -1.318406  -2.050552 -0.362780  \n",
       "1 -1.548258 -1.558148 -1.165483 -11.122390 -1.967751  \n",
       "2       NaN       NaN       NaN  -1.935907 -0.342497  \n",
       "3       NaN       NaN -1.165483  -8.877201 -1.570537  \n",
       "4       NaN       NaN -1.165483  -5.437175 -0.961934  \n",
       "\n",
       "[5 rows x 21 columns]"
      ]
     },
     "execution_count": 7,
     "metadata": {},
     "output_type": "execute_result"
    }
   ],
   "source": [
    "normalized['sum'] = normalized.sum(axis=1)\n",
    "normalized['index'] = (normalized['sum'] - normalized['sum'].mean()) / normalized['sum'].std()\n",
    "normalized.head()"
   ]
  },
  {
   "cell_type": "code",
   "execution_count": 8,
   "metadata": {},
   "outputs": [],
   "source": [
    "def create_index(df, columns, weights=None):\n",
    "    if weights is None:\n",
    "        weights = [1.] * len(columns)\n",
    "    assert len(weights) == len(columns)\n",
    "    normalized = {}\n",
    "    for c, w in zip(columns, weights):\n",
    "        if c in df:\n",
    "            normalized[c] = (data[c] - data[c].mean()) / (data[c].std())\n",
    "            normalized[c] = (normalized[c] - normalized[c].min()) * w\n",
    "    normalized = pandas.DataFrame(normalized)\n",
    "    sums = normalized.sum(axis=1)\n",
    "    return (sums - sums.mean()) / sums.std()"
   ]
  },
  {
   "cell_type": "code",
   "execution_count": 9,
   "metadata": {},
   "outputs": [
    {
     "data": {
      "text/plain": [
       "0   -0.724120\n",
       "1   -0.400566\n",
       "2   -0.883368\n",
       "3   -0.554409\n",
       "4   -0.358270\n",
       "dtype: float64"
      ]
     },
     "execution_count": 9,
     "metadata": {},
     "output_type": "execute_result"
    }
   ],
   "source": [
    "physicality_index = create_index(data, codes)\n",
    "physicality_index.head()"
   ]
  },
  {
   "cell_type": "code",
   "execution_count": 10,
   "metadata": {},
   "outputs": [
    {
     "data": {
      "text/plain": [
       "<matplotlib.axes._subplots.AxesSubplot at 0x10cfaa198>"
      ]
     },
     "execution_count": 10,
     "metadata": {},
     "output_type": "execute_result"
    },
    {
     "data": {
      "image/png": "[encoded data removed]",
      "text/plain": [
       "<Figure size 432x288 with 1 Axes>"
      ]
     },
     "metadata": {},
     "output_type": "display_data"
    }
   ],
   "source": [
    "physicality_index.hist()"
   ]
  },
  {
   "cell_type": "markdown",
   "metadata": {},
   "source": [
    "### Pace of work\n",
    "\n",
    "| Estimate code | Weight | Name |\n",
    "|---------------|--------|------|\n",
    "|01071|2|Percent of workers, pace of work is rapid|\n",
    "|01072|1|Percent of workers, pace of work is steady|"
   ]
  },
  {
   "cell_type": "code",
   "execution_count": 11,
   "metadata": {},
   "outputs": [
    {
     "data": {
      "text/plain": [
       "0   -0.114775\n",
       "1    0.004275\n",
       "2   -0.080702\n",
       "3    0.213450\n",
       "4    0.063105\n",
       "dtype: float64"
      ]
     },
     "execution_count": 11,
     "metadata": {},
     "output_type": "execute_result"
    }
   ],
   "source": [
    "pace_of_work_index = create_index(data, ['01072', '01071'], [1, 2])\n",
    "pace_of_work_index.head()"
   ]
  },
  {
   "cell_type": "code",
   "execution_count": 12,
   "metadata": {},
   "outputs": [
    {
     "data": {
      "text/plain": [
       "<matplotlib.axes._subplots.AxesSubplot at 0x10d08e2b0>"
      ]
     },
     "execution_count": 12,
     "metadata": {},
     "output_type": "execute_result"
    },
    {
     "data": {
      "image/png": "[encoded data removed]",
      "text/plain": [
       "<Figure size 432x288 with 1 Axes>"
      ]
     },
     "metadata": {},
     "output_type": "display_data"
    }
   ],
   "source": [
    "pace_of_work_index.hist()"
   ]
  },
  {
   "cell_type": "markdown",
   "metadata": {},
   "source": [
    "### Variety\n",
    "\n",
    "| Estimate code | Name |\n",
    "|---------------|------|\n",
    "|01056|Percent of workers, work location changes up to four times per year|\n",
    "|01057|Percent of workers, work location changes more than four times per year|\n",
    "|01059|Percent of workers, schedule changes yes|\n",
    "|01080|Percent of workers, pace of work with faster/slower work periods is yes|"
   ]
  },
  {
   "cell_type": "code",
   "execution_count": 13,
   "metadata": {},
   "outputs": [
    {
     "data": {
      "text/plain": [
       "0    0.598219\n",
       "1    1.744551\n",
       "2    1.345437\n",
       "3    2.052344\n",
       "4   -0.895883\n",
       "dtype: float64"
      ]
     },
     "execution_count": 13,
     "metadata": {},
     "output_type": "execute_result"
    }
   ],
   "source": [
    "variety_index = create_index(data, ['01056', '01057', '01059', '01080'])\n",
    "variety_index.head()"
   ]
  },
  {
   "cell_type": "code",
   "execution_count": 14,
   "metadata": {},
   "outputs": [
    {
     "data": {
      "text/plain": [
       "<matplotlib.axes._subplots.AxesSubplot at 0x10d126d68>"
      ]
     },
     "execution_count": 14,
     "metadata": {},
     "output_type": "execute_result"
    },
    {
     "data": {
      "image/png": "[encoded data removed]",
      "text/plain": [
       "<Figure size 432x288 with 1 Axes>"
      ]
     },
     "metadata": {},
     "output_type": "display_data"
    }
   ],
   "source": [
    "variety_index.hist()"
   ]
  },
  {
   "cell_type": "markdown",
   "metadata": {},
   "source": [
    "### Danger\n",
    "\n",
    "| Estimate code | Name |\n",
    "|---------------|------|\n",
    "|00427|Percent of workers exposed to extreme cold, constantly|\n",
    "|00767|Percent of workers exposed to extreme cold|\n",
    "|00440|Percent of workers exposed to extreme heat, frequently|\n",
    "|00768|Percent of workers exposed to extreme heat|\n",
    "|00454|Percent of workers exposed to wetness, frequently|\n",
    "|00455|Percent of workers exposed to wetness, constantly|\n",
    "|00845|Percent of workers exposed to wetness|\n",
    "|00797|Percent of workers exposed to humidity|\n",
    "|00786|Percent of workers exposed to hazardous contaminants|\n",
    "|00787|Percent of workers exposed to hazardous contaminants, fully mitigated|\n",
    "|00791|Percent of workers exposed to heavy vibrations|\n",
    "|00792|Percent of workers exposed to high, exposed places|\n",
    "|00793|Percent of workers exposed to high, exposed places, fully mitigated|\n",
    "|00615|Percent of workers exposed to outdoors, frequently|\n",
    "|00616|Percent of workers exposed to outdoors, constantly|\n",
    "|00815|Percent of workers exposed to outdoors|\n",
    "|00573|Percent of workers exposed to loud noise intensity level|\n",
    "|00574|Percent of workers exposed to very loud noise intensity level|"
   ]
  },
  {
   "cell_type": "code",
   "execution_count": 15,
   "metadata": {},
   "outputs": [
    {
     "data": {
      "text/plain": [
       "0   -0.509746\n",
       "1   -0.309912\n",
       "2   -0.558746\n",
       "3   -0.434556\n",
       "4   -0.518194\n",
       "dtype: float64"
      ]
     },
     "execution_count": 15,
     "metadata": {},
     "output_type": "execute_result"
    }
   ],
   "source": [
    "danger_index = create_index(data, ['00427',\n",
    "'00767',\n",
    "'00440',\n",
    "'00768',\n",
    "'00454',\n",
    "'00455',\n",
    "'00845',\n",
    "'00797',\n",
    "'00786',\n",
    "'00787',\n",
    "'00791',\n",
    "'00792',\n",
    "'00793',\n",
    "'00615',\n",
    "'00616',\n",
    "'00815',\n",
    "'00573',\n",
    "'00574'])\n",
    "danger_index.head()"
   ]
  },
  {
   "cell_type": "code",
   "execution_count": 16,
   "metadata": {},
   "outputs": [
    {
     "data": {
      "text/plain": [
       "<matplotlib.axes._subplots.AxesSubplot at 0x10d19a4e0>"
      ]
     },
     "execution_count": 16,
     "metadata": {},
     "output_type": "execute_result"
    },
    {
     "data": {
      "image/png": "[encoded data removed]",
      "text/plain": [
       "<Figure size 432x288 with 1 Axes>"
      ]
     },
     "metadata": {},
     "output_type": "display_data"
    }
   ],
   "source": [
    "danger_index.hist()"
   ]
  },
  {
   "cell_type": "markdown",
   "metadata": {},
   "source": [
    "### Communication\n",
    "\n",
    "| Estimate code | Weight | Name |\n",
    "|---------------|--------|------|\n",
    "|01045|3|Percent of workers, frequency of contact with other contacts is continuous|\n",
    "|01046|2|Percent of workers, frequency of contact with other contacts is more than once per hour|\n",
    "|01047|1|Percent of workers, frequency of contact with other contacts is more than once per day|\n",
    "|01050|3|Percent of workers, frequency of contact with regular contacts is continuous|\t\n",
    "|01051|2|Percent of workers, frequency of contact with regular contacts is more than once per hour|\n",
    "|01052|1|Percent of workers, frequency of contact with regular contacts is more than once per day|\n",
    "|00561|3|Percent of workers, communicating verbally is required, constantly|\n",
    "|00560|2|Percent of workers, communicating verbally is required, frequently|\n",
    "|00559|1|Percent of workers, communicating verbally is required, occasionally|"
   ]
  },
  {
   "cell_type": "code",
   "execution_count": 17,
   "metadata": {},
   "outputs": [
    {
     "data": {
      "text/plain": [
       "0    0.550012\n",
       "1    0.771077\n",
       "2   -0.029500\n",
       "3    1.440692\n",
       "4    0.626005\n",
       "dtype: float64"
      ]
     },
     "execution_count": 17,
     "metadata": {},
     "output_type": "execute_result"
    }
   ],
   "source": [
    "regular_contact_freq_index = create_index(data, ['01045', '01046', '01047'], [3,2,1])\n",
    "other_contact_freq_index = create_index(data, ['01050', '01051', '01052'], [3,2,1])\n",
    "communication_index = create_index(data, ['01045', '01046', '01047', '01050', '01051', '01052', '00561', '00560', '00559'], [3,2,1,3,2,1,3,2,1])\n",
    "communication_index.head()"
   ]
  },
  {
   "cell_type": "code",
   "execution_count": 18,
   "metadata": {},
   "outputs": [
    {
     "data": {
      "text/plain": [
       "<matplotlib.axes._subplots.AxesSubplot at 0x10d271a90>"
      ]
     },
     "execution_count": 18,
     "metadata": {},
     "output_type": "execute_result"
    },
    {
     "data": {
      "image/png": "[encoded data removed]",
      "text/plain": [
       "<Figure size 432x288 with 1 Axes>"
      ]
     },
     "metadata": {},
     "output_type": "display_data"
    }
   ],
   "source": [
    "communication_index.hist()"
   ]
  },
  {
   "cell_type": "code",
   "execution_count": 19,
   "metadata": {},
   "outputs": [
    {
     "data": {
      "text/plain": [
       "0    0.140347\n",
       "1    0.141227\n",
       "2    0.141511\n",
       "3    0.142246\n",
       "4    0.142837\n",
       "dtype: float64"
      ]
     },
     "execution_count": 19,
     "metadata": {},
     "output_type": "execute_result"
    }
   ],
   "source": [
    "contact_type_ratio = regular_contact_freq_index / (regular_contact_freq_index + other_contact_freq_index)\n",
    "contact_type_ratio = (contact_type_ratio - contact_type_ratio.min()) / (contact_type_ratio.max() - contact_type_ratio.min())\n",
    "contact_type_ratio.head()"
   ]
  },
  {
   "cell_type": "code",
   "execution_count": 20,
   "metadata": {},
   "outputs": [
    {
     "data": {
      "text/plain": [
       "<matplotlib.axes._subplots.AxesSubplot at 0x10d35b748>"
      ]
     },
     "execution_count": 20,
     "metadata": {},
     "output_type": "execute_result"
    },
    {
     "data": {
      "image/png": "[encoded data removed]",
      "text/plain": [
       "<Figure size 432x288 with 1 Axes>"
      ]
     },
     "metadata": {},
     "output_type": "display_data"
    }
   ],
   "source": [
    "contact_type_ratio.hist()"
   ]
  },
  {
   "cell_type": "markdown",
   "metadata": {},
   "source": [
    "#### Type of interaction\n",
    "\n",
    "Regular Contacts:\n",
    "\n",
    "| Estimate Code | Weight | Name | \n",
    "| ------------- | ------ | ---- |\n",
    "|01030|1|Percent of workers, type of interaction with regular contacts is factual info exchange|\n",
    "|01031|2|Percent of workers, type of interaction with regular contacts is coordinating\n",
    "|01032|3|Percent of workers, type of interaction with regular contacts is gentle persuading|\n",
    "|01033|4|Percent of workers, type of interaction with regular contacts is influencing|\n",
    "|01034|5|Percent of workers, type of interaction with regular contacts is resolving controversial issues|\n",
    "\n",
    "Other Contacts:\n",
    "\n",
    "| Estimate Code | Weight | Name | \n",
    "| ------------- | ------ | ---- |\n",
    "|01036|1|Percent of workers, type of interaction with other contacts is factual info exchange|\n",
    "|01037|2|Percent of workers, type of interaction with other contacts is coordinating\n",
    "|01038|3|Percent of workers, type of interaction with other contacts is gentle persuading|\n",
    "|01039|4|Percent of workers, type of interaction with other contacts is influencing|\n",
    "|01040|5|Percent of workers, type of interaction with other contacts is resolving controversial issues|"
   ]
  },
  {
   "cell_type": "code",
   "execution_count": 21,
   "metadata": {},
   "outputs": [
    {
     "data": {
      "text/plain": [
       "<matplotlib.axes._subplots.AxesSubplot at 0x10d43c5c0>"
      ]
     },
     "execution_count": 21,
     "metadata": {},
     "output_type": "execute_result"
    },
    {
     "data": {
      "image/png": "[encoded data removed]",
      "text/plain": [
       "<Figure size 432x288 with 1 Axes>"
      ]
     },
     "metadata": {},
     "output_type": "display_data"
    }
   ],
   "source": [
    "regular_interaction_type_index = create_index(data, ['01030', '01031', '01032', '01033', '01034'], [1,2,3,4,5])\n",
    "other_interaction_type_index = create_index(data, ['01036', '01037', '01038', '01039', '01040'], [1,2,3,4,5])\n",
    "interaction_type_index = regular_interaction_type_index * contact_type_ratio + other_interaction_type_index * (1 - contact_type_ratio)\n",
    "interaction_type_index.hist()"
   ]
  },
  {
   "cell_type": "markdown",
   "metadata": {},
   "source": [
    "### Entry-level/Experienced\n",
    "\n",
    "| Estimate code | Name |\n",
    "|---------------|------|\n",
    "|00107|Percent of workers, prior work experience is required|\n",
    "|00111|Days of prior work experience (50th Percentile - median)|\n",
    "|00098|Percent of workers, pre-employment training is required|\n",
    "|00104|Days of pre-employment training (50th Percentile - median)|\n",
    "|00122|Percent of workers, post-employment training is required|\n",
    "|00119|Days of post-employment training (50th Percentile - median)|"
   ]
  },
  {
   "cell_type": "code",
   "execution_count": 24,
   "metadata": {},
   "outputs": [
    {
     "data": {
      "text/plain": [
       "<matplotlib.axes._subplots.AxesSubplot at 0x10d111668>"
      ]
     },
     "execution_count": 24,
     "metadata": {},
     "output_type": "execute_result"
    },
    {
     "data": {
      "image/png": "[encoded data removed]",
      "text/plain": [
       "<Figure size 432x288 with 1 Axes>"
      ]
     },
     "metadata": {},
     "output_type": "display_data"
    }
   ],
   "source": [
    "experience_index = create_index(data, ['00107', '00111', '00098', '00104', '00122', '00119'])\n",
    "experience_index.hist()"
   ]
  },
  {
   "cell_type": "markdown",
   "metadata": {},
   "source": [
    "### Ambiguous Decision Making\n",
    "\n",
    "| Estimate code | Weight | Name |\n",
    "| ------------- | ------ | ---- |\n",
    "| 01068|1|Percent of workers, type of decision making is no set responses|\n",
    "|01069|2|Percent of workers, type of decision making is degree of uncertainty or complexity|"
   ]
  },
  {
   "cell_type": "code",
   "execution_count": 25,
   "metadata": {},
   "outputs": [
    {
     "data": {
      "text/plain": [
       "<matplotlib.axes._subplots.AxesSubplot at 0x10d5c8d30>"
      ]
     },
     "execution_count": 25,
     "metadata": {},
     "output_type": "execute_result"
    },
    {
     "data": {
      "image/png": "[encoded data removed]",
      "text/plain": [
       "<Figure size 432x288 with 1 Axes>"
      ]
     },
     "metadata": {},
     "output_type": "display_data"
    }
   ],
   "source": [
    "uncertain_decisions_index = create_index(data, ['01068', '01069'], [1, 2])\n",
    "uncertain_decisions_index.hist()"
   ]
  },
  {
   "cell_type": "markdown",
   "metadata": {},
   "source": [
    "## Outputting Values\n",
    "\n",
    "\n",
    "    Physicality\n",
    "    Pace of work\n",
    "    Variety\n",
    "    Danger\n",
    "    Communication\n",
    "        Type of interaction\n",
    "    Entry-level/experienced\n",
    "    Ambiguous decision making"
   ]
  },
  {
   "cell_type": "code",
   "execution_count": 98,
   "metadata": {},
   "outputs": [
    {
     "data": {
      "text/html": [
       "<div>\n",
       "<style scoped>\n",
       "    .dataframe tbody tr th:only-of-type {\n",
       "        vertical-align: middle;\n",
       "    }\n",
       "\n",
       "    .dataframe tbody tr th {\n",
       "        vertical-align: top;\n",
       "    }\n",
       "\n",
       "    .dataframe thead th {\n",
       "        text-align: right;\n",
       "    }\n",
       "</style>\n",
       "<table border=\"1\" class=\"dataframe\">\n",
       "  <thead>\n",
       "    <tr style=\"text-align: right;\">\n",
       "      <th></th>\n",
       "      <th>communication</th>\n",
       "      <th>danger</th>\n",
       "      <th>experience</th>\n",
       "      <th>interaction_complexity</th>\n",
       "      <th>pace_of_work</th>\n",
       "      <th>physicality</th>\n",
       "      <th>uncertain_decisions</th>\n",
       "      <th>variety</th>\n",
       "    </tr>\n",
       "    <tr>\n",
       "      <th>soc_code</th>\n",
       "      <th></th>\n",
       "      <th></th>\n",
       "      <th></th>\n",
       "      <th></th>\n",
       "      <th></th>\n",
       "      <th></th>\n",
       "      <th></th>\n",
       "      <th></th>\n",
       "    </tr>\n",
       "  </thead>\n",
       "  <tbody>\n",
       "    <tr>\n",
       "      <th>111011</th>\n",
       "      <td>0.550012</td>\n",
       "      <td>-0.509746</td>\n",
       "      <td>0.501938</td>\n",
       "      <td>1.164292</td>\n",
       "      <td>-0.114775</td>\n",
       "      <td>-0.724120</td>\n",
       "      <td>2.411379</td>\n",
       "      <td>0.598219</td>\n",
       "    </tr>\n",
       "    <tr>\n",
       "      <th>111021</th>\n",
       "      <td>0.771077</td>\n",
       "      <td>-0.309912</td>\n",
       "      <td>0.519413</td>\n",
       "      <td>1.883329</td>\n",
       "      <td>0.004275</td>\n",
       "      <td>-0.400566</td>\n",
       "      <td>1.888648</td>\n",
       "      <td>1.744551</td>\n",
       "    </tr>\n",
       "    <tr>\n",
       "      <th>112021</th>\n",
       "      <td>-0.029500</td>\n",
       "      <td>-0.558746</td>\n",
       "      <td>0.427417</td>\n",
       "      <td>2.550999</td>\n",
       "      <td>-0.080702</td>\n",
       "      <td>-0.883368</td>\n",
       "      <td>2.108915</td>\n",
       "      <td>1.345437</td>\n",
       "    </tr>\n",
       "    <tr>\n",
       "      <th>112022</th>\n",
       "      <td>1.440692</td>\n",
       "      <td>-0.434556</td>\n",
       "      <td>0.484537</td>\n",
       "      <td>3.354653</td>\n",
       "      <td>0.213450</td>\n",
       "      <td>-0.554409</td>\n",
       "      <td>1.848539</td>\n",
       "      <td>2.052344</td>\n",
       "    </tr>\n",
       "    <tr>\n",
       "      <th>112031</th>\n",
       "      <td>0.626005</td>\n",
       "      <td>-0.518194</td>\n",
       "      <td>-0.454664</td>\n",
       "      <td>-0.689362</td>\n",
       "      <td>0.063105</td>\n",
       "      <td>-0.358270</td>\n",
       "      <td>-0.964388</td>\n",
       "      <td>-0.895883</td>\n",
       "    </tr>\n",
       "  </tbody>\n",
       "</table>\n",
       "</div>"
      ],
      "text/plain": [
       "          communication    danger  experience  interaction_complexity  \\\n",
       "soc_code                                                                \n",
       "111011         0.550012 -0.509746    0.501938                1.164292   \n",
       "111021         0.771077 -0.309912    0.519413                1.883329   \n",
       "112021        -0.029500 -0.558746    0.427417                2.550999   \n",
       "112022         1.440692 -0.434556    0.484537                3.354653   \n",
       "112031         0.626005 -0.518194   -0.454664               -0.689362   \n",
       "\n",
       "          pace_of_work  physicality  uncertain_decisions   variety  \n",
       "soc_code                                                            \n",
       "111011       -0.114775    -0.724120             2.411379  0.598219  \n",
       "111021        0.004275    -0.400566             1.888648  1.744551  \n",
       "112021       -0.080702    -0.883368             2.108915  1.345437  \n",
       "112022        0.213450    -0.554409             1.848539  2.052344  \n",
       "112031        0.063105    -0.358270            -0.964388 -0.895883  "
      ]
     },
     "execution_count": 98,
     "metadata": {},
     "output_type": "execute_result"
    }
   ],
   "source": [
    "output = pandas.DataFrame({\n",
    "    'soc_code': data['soc_code'],\n",
    "    'physicality': physicality_index,\n",
    "    'pace_of_work': pace_of_work_index,\n",
    "    'variety': variety_index,\n",
    "    'danger': danger_index,\n",
    "    'communication': communication_index,\n",
    "    'interaction_complexity': interaction_type_index,\n",
    "    'experience': experience_index,\n",
    "    'uncertain_decisions': uncertain_decisions_index\n",
    "})\n",
    "output.set_index('soc_code', inplace=True)\n",
    "output.head()"
   ]
  },
  {
   "cell_type": "code",
   "execution_count": 99,
   "metadata": {},
   "outputs": [
    {
     "data": {
      "text/plain": [
       "297"
      ]
     },
     "execution_count": 99,
     "metadata": {},
     "output_type": "execute_result"
    }
   ],
   "source": [
    "len(output)"
   ]
  },
  {
   "cell_type": "code",
   "execution_count": 100,
   "metadata": {},
   "outputs": [
    {
     "data": {
      "text/plain": [
       "array([[<matplotlib.axes._subplots.AxesSubplot object at 0x10b86b390>,\n",
       "        <matplotlib.axes._subplots.AxesSubplot object at 0x10b880668>,\n",
       "        <matplotlib.axes._subplots.AxesSubplot object at 0x10b967cf8>],\n",
       "       [<matplotlib.axes._subplots.AxesSubplot object at 0x10b99a3c8>,\n",
       "        <matplotlib.axes._subplots.AxesSubplot object at 0x10b9c0a58>,\n",
       "        <matplotlib.axes._subplots.AxesSubplot object at 0x10b9c0a90>],\n",
       "       [<matplotlib.axes._subplots.AxesSubplot object at 0x10ba197b8>,\n",
       "        <matplotlib.axes._subplots.AxesSubplot object at 0x10ba42dd8>,\n",
       "        <matplotlib.axes._subplots.AxesSubplot object at 0x10ba734a8>]],\n",
       "      dtype=object)"
      ]
     },
     "execution_count": 100,
     "metadata": {},
     "output_type": "execute_result"
    },
    {
     "data": {
      "image/png": "[encoded data removed]",
      "text/plain": [
       "<Figure size 432x288 with 9 Axes>"
      ]
     },
     "metadata": {},
     "output_type": "display_data"
    }
   ],
   "source": [
    "output.hist()"
   ]
  },
  {
   "cell_type": "code",
   "execution_count": 101,
   "metadata": {},
   "outputs": [
    {
     "data": {
      "text/html": [
       "<div>\n",
       "<style scoped>\n",
       "    .dataframe tbody tr th:only-of-type {\n",
       "        vertical-align: middle;\n",
       "    }\n",
       "\n",
       "    .dataframe tbody tr th {\n",
       "        vertical-align: top;\n",
       "    }\n",
       "\n",
       "    .dataframe thead th {\n",
       "        text-align: right;\n",
       "    }\n",
       "</style>\n",
       "<table border=\"1\" class=\"dataframe\">\n",
       "  <thead>\n",
       "    <tr style=\"text-align: right;\">\n",
       "      <th></th>\n",
       "      <th>occupation_name</th>\n",
       "    </tr>\n",
       "    <tr>\n",
       "      <th>occupation_code</th>\n",
       "      <th></th>\n",
       "    </tr>\n",
       "  </thead>\n",
       "  <tbody>\n",
       "    <tr>\n",
       "      <th>000000</th>\n",
       "      <td>All Occupations</td>\n",
       "    </tr>\n",
       "    <tr>\n",
       "      <th>110000</th>\n",
       "      <td>Management Occupations</td>\n",
       "    </tr>\n",
       "    <tr>\n",
       "      <th>111000</th>\n",
       "      <td>Top Executives</td>\n",
       "    </tr>\n",
       "    <tr>\n",
       "      <th>111011</th>\n",
       "      <td>Chief Executives</td>\n",
       "    </tr>\n",
       "    <tr>\n",
       "      <th>111021</th>\n",
       "      <td>General and Operations Managers</td>\n",
       "    </tr>\n",
       "  </tbody>\n",
       "</table>\n",
       "</div>"
      ],
      "text/plain": [
       "                                 occupation_name\n",
       "occupation_code                                 \n",
       "000000                           All Occupations\n",
       "110000                    Management Occupations\n",
       "111000                            Top Executives\n",
       "111011                          Chief Executives\n",
       "111021           General and Operations Managers"
      ]
     },
     "execution_count": 101,
     "metadata": {},
     "output_type": "execute_result"
    }
   ],
   "source": [
    "occupations = pandas.read_csv(\n",
    "    'oedata/oe.occupation', \n",
    "    delimiter='\\t', \n",
    "    index_col=False, \n",
    "    usecols=['occupation_code', 'occupation_name'],\n",
    "    converters={'occupation_code': str}\n",
    ")\n",
    "occupations.set_index('occupation_code', inplace=True)\n",
    "occupations.head()"
   ]
  },
  {
   "cell_type": "code",
   "execution_count": 102,
   "metadata": {},
   "outputs": [
    {
     "data": {
      "text/html": [
       "<div>\n",
       "<style scoped>\n",
       "    .dataframe tbody tr th:only-of-type {\n",
       "        vertical-align: middle;\n",
       "    }\n",
       "\n",
       "    .dataframe tbody tr th {\n",
       "        vertical-align: top;\n",
       "    }\n",
       "\n",
       "    .dataframe thead th {\n",
       "        text-align: right;\n",
       "    }\n",
       "</style>\n",
       "<table border=\"1\" class=\"dataframe\">\n",
       "  <thead>\n",
       "    <tr style=\"text-align: right;\">\n",
       "      <th></th>\n",
       "      <th>occupation_name</th>\n",
       "      <th>communication</th>\n",
       "      <th>danger</th>\n",
       "      <th>experience</th>\n",
       "      <th>interaction_complexity</th>\n",
       "      <th>pace_of_work</th>\n",
       "      <th>physicality</th>\n",
       "      <th>uncertain_decisions</th>\n",
       "      <th>variety</th>\n",
       "    </tr>\n",
       "    <tr>\n",
       "      <th>soc_code</th>\n",
       "      <th></th>\n",
       "      <th></th>\n",
       "      <th></th>\n",
       "      <th></th>\n",
       "      <th></th>\n",
       "      <th></th>\n",
       "      <th></th>\n",
       "      <th></th>\n",
       "      <th></th>\n",
       "    </tr>\n",
       "  </thead>\n",
       "  <tbody>\n",
       "    <tr>\n",
       "      <th>111011</th>\n",
       "      <td>Chief Executives</td>\n",
       "      <td>0.550012</td>\n",
       "      <td>-0.509746</td>\n",
       "      <td>0.501938</td>\n",
       "      <td>1.164292</td>\n",
       "      <td>-0.114775</td>\n",
       "      <td>-0.724120</td>\n",
       "      <td>2.411379</td>\n",
       "      <td>0.598219</td>\n",
       "    </tr>\n",
       "    <tr>\n",
       "      <th>111021</th>\n",
       "      <td>General and Operations Managers</td>\n",
       "      <td>0.771077</td>\n",
       "      <td>-0.309912</td>\n",
       "      <td>0.519413</td>\n",
       "      <td>1.883329</td>\n",
       "      <td>0.004275</td>\n",
       "      <td>-0.400566</td>\n",
       "      <td>1.888648</td>\n",
       "      <td>1.744551</td>\n",
       "    </tr>\n",
       "    <tr>\n",
       "      <th>112021</th>\n",
       "      <td>Marketing Managers</td>\n",
       "      <td>-0.029500</td>\n",
       "      <td>-0.558746</td>\n",
       "      <td>0.427417</td>\n",
       "      <td>2.550999</td>\n",
       "      <td>-0.080702</td>\n",
       "      <td>-0.883368</td>\n",
       "      <td>2.108915</td>\n",
       "      <td>1.345437</td>\n",
       "    </tr>\n",
       "    <tr>\n",
       "      <th>112022</th>\n",
       "      <td>Sales Managers</td>\n",
       "      <td>1.440692</td>\n",
       "      <td>-0.434556</td>\n",
       "      <td>0.484537</td>\n",
       "      <td>3.354653</td>\n",
       "      <td>0.213450</td>\n",
       "      <td>-0.554409</td>\n",
       "      <td>1.848539</td>\n",
       "      <td>2.052344</td>\n",
       "    </tr>\n",
       "    <tr>\n",
       "      <th>112031</th>\n",
       "      <td>Public Relations and Fundraising Managers</td>\n",
       "      <td>0.626005</td>\n",
       "      <td>-0.518194</td>\n",
       "      <td>-0.454664</td>\n",
       "      <td>-0.689362</td>\n",
       "      <td>0.063105</td>\n",
       "      <td>-0.358270</td>\n",
       "      <td>-0.964388</td>\n",
       "      <td>-0.895883</td>\n",
       "    </tr>\n",
       "  </tbody>\n",
       "</table>\n",
       "</div>"
      ],
      "text/plain": [
       "                                    occupation_name  communication    danger  \\\n",
       "soc_code                                                                       \n",
       "111011                             Chief Executives       0.550012 -0.509746   \n",
       "111021              General and Operations Managers       0.771077 -0.309912   \n",
       "112021                           Marketing Managers      -0.029500 -0.558746   \n",
       "112022                               Sales Managers       1.440692 -0.434556   \n",
       "112031    Public Relations and Fundraising Managers       0.626005 -0.518194   \n",
       "\n",
       "          experience  interaction_complexity  pace_of_work  physicality  \\\n",
       "soc_code                                                                  \n",
       "111011      0.501938                1.164292     -0.114775    -0.724120   \n",
       "111021      0.519413                1.883329      0.004275    -0.400566   \n",
       "112021      0.427417                2.550999     -0.080702    -0.883368   \n",
       "112022      0.484537                3.354653      0.213450    -0.554409   \n",
       "112031     -0.454664               -0.689362      0.063105    -0.358270   \n",
       "\n",
       "          uncertain_decisions   variety  \n",
       "soc_code                                 \n",
       "111011               2.411379  0.598219  \n",
       "111021               1.888648  1.744551  \n",
       "112021               2.108915  1.345437  \n",
       "112022               1.848539  2.052344  \n",
       "112031              -0.964388 -0.895883  "
      ]
     },
     "execution_count": 102,
     "metadata": {},
     "output_type": "execute_result"
    }
   ],
   "source": [
    "output = occupations.join(output, how='inner')\n",
    "output.index.name = 'soc_code'\n",
    "output.head()"
   ]
  },
  {
   "cell_type": "code",
   "execution_count": 103,
   "metadata": {},
   "outputs": [],
   "source": [
    "output.to_csv('calculated_metrics.csv')"
   ]
  },
  {
   "cell_type": "code",
   "execution_count": 31,
   "metadata": {},
   "outputs": [
    {
     "data": {
      "text/plain": [
       "soc_code\n",
       "537199                   Material Moving Workers, All Other\n",
       "493011           Aircraft Mechanics and Service Technicians\n",
       "434181    Reservation and Transportation Ticket Agents a...\n",
       "434031                                     Municipal Clerks\n",
       "132099                     Financial Specialists, All Other\n",
       "434031                                         Court Clerks\n",
       "433099                          Financial Clerks, All Other\n",
       "393031          Ushers, Lobby Attendants, and Ticket Takers\n",
       "172011                                  Aerospace Engineers\n",
       "359099    Food Preparation and Serving Related Workers, ...\n",
       "191042           Medical Scientists, Except Epidemiologists\n",
       "194021                               Biological Technicians\n",
       "194031                                 Chemical Technicians\n",
       "194099                             Quality Control Analysts\n",
       "339091                                      Crossing Guards\n",
       "312021                        Physical Therapist Assistants\n",
       "311015                                            Orderlies\n",
       "211099    Community and Social Service Specialists, All ...\n",
       "292056             Veterinary Technologists and Technicians\n",
       "291071                                 Physician Assistants\n",
       "273041                                              Editors\n",
       "251032                  Engineering Teachers, Postsecondary\n",
       "271026           Merchandise Displayers and Window Trimmers\n",
       "251072      Nursing Instructors and Teachers, Postsecondary\n",
       "251121        Art, Drama, and Music Teachers, Postsecondary\n",
       "251199                    Postsecondary Teachers, All Other\n",
       "253021                   Self-Enrichment Education Teachers\n",
       "252059                Special Education Teachers, All Other\n",
       "493021                Automotive Body and Related Repairers\n",
       "499051       Electrical Power-Line Installers and Repairers\n",
       "                                ...                        \n",
       "119041               Architectural and Engineering Managers\n",
       "533032              Heavy and Tractor-Trailer Truck Drivers\n",
       "435031              Police, Fire, and Ambulance Dispatchers\n",
       "319092                                   Medical Assistants\n",
       "131031    Insurance Adjusters, Examiners, and Investigators\n",
       "333051                               Police Patrol Officers\n",
       "333051                         Sheriffs and Deputy Sheriffs\n",
       "000000                                          All Workers\n",
       "110000                               Management Occupations\n",
       "130000        Business and Financial Operations Occupations\n",
       "150000                Computer and Mathematical Occupations\n",
       "170000             Architecture and Engineering Occupations\n",
       "190000       Life, Physical, and Social Science Occupations\n",
       "210000             Community and Social Service Occupations\n",
       "230000                                    Legal Occupations\n",
       "250000         Education, Training, and Library Occupations\n",
       "270000    Arts, Design, Entertainment, Sports, and Media...\n",
       "290000    Healthcare Practitioners and Technical Occupat...\n",
       "310000                       Healthcare Support Occupations\n",
       "330000                       Protective Service Occupations\n",
       "350000     Food Preparation and Serving Related Occupations\n",
       "370000    Building and Grounds Cleaning and Maintenance ...\n",
       "390000                Personal Care and Service Occupations\n",
       "410000                        Sales and Related Occupations\n",
       "430000        Office and Administrative Support Occupations\n",
       "450000           Farming, Fishing, and Forestry Occupations\n",
       "470000              Construction and Extraction Occupations\n",
       "490000    Installation, Maintenance, and Repair Occupations\n",
       "510000                               Production Occupations\n",
       "530000       Transportation and Material Moving Occupations\n",
       "Name: occupation_text, Length: 338, dtype: object"
      ]
     },
     "execution_count": 31,
     "metadata": {},
     "output_type": "execute_result"
    }
   ],
   "source": [
    "output.sort_values(by='experience')['occupation_text']"
   ]
  },
  {
   "cell_type": "code",
   "execution_count": 32,
   "metadata": {},
   "outputs": [
    {
     "data": {
      "text/html": [
       "<div>\n",
       "<style scoped>\n",
       "    .dataframe tbody tr th:only-of-type {\n",
       "        vertical-align: middle;\n",
       "    }\n",
       "\n",
       "    .dataframe tbody tr th {\n",
       "        vertical-align: top;\n",
       "    }\n",
       "\n",
       "    .dataframe thead th {\n",
       "        text-align: right;\n",
       "    }\n",
       "</style>\n",
       "<table border=\"1\" class=\"dataframe\">\n",
       "  <thead>\n",
       "    <tr style=\"text-align: right;\">\n",
       "      <th></th>\n",
       "      <th>communication</th>\n",
       "      <th>danger</th>\n",
       "      <th>experience</th>\n",
       "      <th>interaction_complexity</th>\n",
       "      <th>pace_of_work</th>\n",
       "      <th>physicality</th>\n",
       "      <th>uncertain_decisions</th>\n",
       "      <th>variety</th>\n",
       "    </tr>\n",
       "  </thead>\n",
       "  <tbody>\n",
       "    <tr>\n",
       "      <th>communication</th>\n",
       "      <td>1.000000</td>\n",
       "      <td>0.046030</td>\n",
       "      <td>0.341224</td>\n",
       "      <td>0.402669</td>\n",
       "      <td>0.499415</td>\n",
       "      <td>0.100799</td>\n",
       "      <td>0.149817</td>\n",
       "      <td>0.391899</td>\n",
       "    </tr>\n",
       "    <tr>\n",
       "      <th>danger</th>\n",
       "      <td>0.046030</td>\n",
       "      <td>1.000000</td>\n",
       "      <td>0.175787</td>\n",
       "      <td>-0.098537</td>\n",
       "      <td>0.370943</td>\n",
       "      <td>0.781918</td>\n",
       "      <td>-0.076717</td>\n",
       "      <td>0.485412</td>\n",
       "    </tr>\n",
       "    <tr>\n",
       "      <th>experience</th>\n",
       "      <td>0.341224</td>\n",
       "      <td>0.175787</td>\n",
       "      <td>1.000000</td>\n",
       "      <td>0.423799</td>\n",
       "      <td>0.267269</td>\n",
       "      <td>0.183872</td>\n",
       "      <td>0.402732</td>\n",
       "      <td>0.516721</td>\n",
       "    </tr>\n",
       "    <tr>\n",
       "      <th>interaction_complexity</th>\n",
       "      <td>0.402669</td>\n",
       "      <td>-0.098537</td>\n",
       "      <td>0.423799</td>\n",
       "      <td>1.000000</td>\n",
       "      <td>0.137294</td>\n",
       "      <td>-0.076630</td>\n",
       "      <td>0.495338</td>\n",
       "      <td>0.424198</td>\n",
       "    </tr>\n",
       "    <tr>\n",
       "      <th>pace_of_work</th>\n",
       "      <td>0.499415</td>\n",
       "      <td>0.370943</td>\n",
       "      <td>0.267269</td>\n",
       "      <td>0.137294</td>\n",
       "      <td>1.000000</td>\n",
       "      <td>0.357689</td>\n",
       "      <td>0.120306</td>\n",
       "      <td>0.463125</td>\n",
       "    </tr>\n",
       "    <tr>\n",
       "      <th>physicality</th>\n",
       "      <td>0.100799</td>\n",
       "      <td>0.781918</td>\n",
       "      <td>0.183872</td>\n",
       "      <td>-0.076630</td>\n",
       "      <td>0.357689</td>\n",
       "      <td>1.000000</td>\n",
       "      <td>-0.147505</td>\n",
       "      <td>0.480682</td>\n",
       "    </tr>\n",
       "    <tr>\n",
       "      <th>uncertain_decisions</th>\n",
       "      <td>0.149817</td>\n",
       "      <td>-0.076717</td>\n",
       "      <td>0.402732</td>\n",
       "      <td>0.495338</td>\n",
       "      <td>0.120306</td>\n",
       "      <td>-0.147505</td>\n",
       "      <td>1.000000</td>\n",
       "      <td>0.220416</td>\n",
       "    </tr>\n",
       "    <tr>\n",
       "      <th>variety</th>\n",
       "      <td>0.391899</td>\n",
       "      <td>0.485412</td>\n",
       "      <td>0.516721</td>\n",
       "      <td>0.424198</td>\n",
       "      <td>0.463125</td>\n",
       "      <td>0.480682</td>\n",
       "      <td>0.220416</td>\n",
       "      <td>1.000000</td>\n",
       "    </tr>\n",
       "  </tbody>\n",
       "</table>\n",
       "</div>"
      ],
      "text/plain": [
       "                        communication    danger  experience  \\\n",
       "communication                1.000000  0.046030    0.341224   \n",
       "danger                       0.046030  1.000000    0.175787   \n",
       "experience                   0.341224  0.175787    1.000000   \n",
       "interaction_complexity       0.402669 -0.098537    0.423799   \n",
       "pace_of_work                 0.499415  0.370943    0.267269   \n",
       "physicality                  0.100799  0.781918    0.183872   \n",
       "uncertain_decisions          0.149817 -0.076717    0.402732   \n",
       "variety                      0.391899  0.485412    0.516721   \n",
       "\n",
       "                        interaction_complexity  pace_of_work  physicality  \\\n",
       "communication                         0.402669      0.499415     0.100799   \n",
       "danger                               -0.098537      0.370943     0.781918   \n",
       "experience                            0.423799      0.267269     0.183872   \n",
       "interaction_complexity                1.000000      0.137294    -0.076630   \n",
       "pace_of_work                          0.137294      1.000000     0.357689   \n",
       "physicality                          -0.076630      0.357689     1.000000   \n",
       "uncertain_decisions                   0.495338      0.120306    -0.147505   \n",
       "variety                               0.424198      0.463125     0.480682   \n",
       "\n",
       "                        uncertain_decisions   variety  \n",
       "communication                      0.149817  0.391899  \n",
       "danger                            -0.076717  0.485412  \n",
       "experience                         0.402732  0.516721  \n",
       "interaction_complexity             0.495338  0.424198  \n",
       "pace_of_work                       0.120306  0.463125  \n",
       "physicality                       -0.147505  0.480682  \n",
       "uncertain_decisions                1.000000  0.220416  \n",
       "variety                            0.220416  1.000000  "
      ]
     },
     "execution_count": 32,
     "metadata": {},
     "output_type": "execute_result"
    }
   ],
   "source": [
    "pearson_corr = output.corr('pearson')\n",
    "pearson_corr"
   ]
  },
  {
   "cell_type": "code",
   "execution_count": 33,
   "metadata": {},
   "outputs": [
    {
     "data": {
      "text/html": [
       "<div>\n",
       "<style scoped>\n",
       "    .dataframe tbody tr th:only-of-type {\n",
       "        vertical-align: middle;\n",
       "    }\n",
       "\n",
       "    .dataframe tbody tr th {\n",
       "        vertical-align: top;\n",
       "    }\n",
       "\n",
       "    .dataframe thead th {\n",
       "        text-align: right;\n",
       "    }\n",
       "</style>\n",
       "<table border=\"1\" class=\"dataframe\">\n",
       "  <thead>\n",
       "    <tr style=\"text-align: right;\">\n",
       "      <th></th>\n",
       "      <th>communication</th>\n",
       "      <th>danger</th>\n",
       "      <th>experience</th>\n",
       "      <th>interaction_complexity</th>\n",
       "      <th>pace_of_work</th>\n",
       "      <th>physicality</th>\n",
       "      <th>uncertain_decisions</th>\n",
       "      <th>variety</th>\n",
       "    </tr>\n",
       "  </thead>\n",
       "  <tbody>\n",
       "    <tr>\n",
       "      <th>communication</th>\n",
       "      <td>1.000000</td>\n",
       "      <td>0.100337</td>\n",
       "      <td>0.355521</td>\n",
       "      <td>0.456593</td>\n",
       "      <td>0.401312</td>\n",
       "      <td>0.155703</td>\n",
       "      <td>0.207119</td>\n",
       "      <td>0.430231</td>\n",
       "    </tr>\n",
       "    <tr>\n",
       "      <th>danger</th>\n",
       "      <td>0.100337</td>\n",
       "      <td>1.000000</td>\n",
       "      <td>0.150799</td>\n",
       "      <td>-0.066458</td>\n",
       "      <td>0.357612</td>\n",
       "      <td>0.850742</td>\n",
       "      <td>-0.088540</td>\n",
       "      <td>0.487860</td>\n",
       "    </tr>\n",
       "    <tr>\n",
       "      <th>experience</th>\n",
       "      <td>0.355521</td>\n",
       "      <td>0.150799</td>\n",
       "      <td>1.000000</td>\n",
       "      <td>0.437016</td>\n",
       "      <td>0.195452</td>\n",
       "      <td>0.167946</td>\n",
       "      <td>0.437636</td>\n",
       "      <td>0.505926</td>\n",
       "    </tr>\n",
       "    <tr>\n",
       "      <th>interaction_complexity</th>\n",
       "      <td>0.456593</td>\n",
       "      <td>-0.066458</td>\n",
       "      <td>0.437016</td>\n",
       "      <td>1.000000</td>\n",
       "      <td>0.104997</td>\n",
       "      <td>-0.013353</td>\n",
       "      <td>0.453551</td>\n",
       "      <td>0.429320</td>\n",
       "    </tr>\n",
       "    <tr>\n",
       "      <th>pace_of_work</th>\n",
       "      <td>0.401312</td>\n",
       "      <td>0.357612</td>\n",
       "      <td>0.195452</td>\n",
       "      <td>0.104997</td>\n",
       "      <td>1.000000</td>\n",
       "      <td>0.357086</td>\n",
       "      <td>0.064687</td>\n",
       "      <td>0.419319</td>\n",
       "    </tr>\n",
       "    <tr>\n",
       "      <th>physicality</th>\n",
       "      <td>0.155703</td>\n",
       "      <td>0.850742</td>\n",
       "      <td>0.167946</td>\n",
       "      <td>-0.013353</td>\n",
       "      <td>0.357086</td>\n",
       "      <td>1.000000</td>\n",
       "      <td>-0.128019</td>\n",
       "      <td>0.493951</td>\n",
       "    </tr>\n",
       "    <tr>\n",
       "      <th>uncertain_decisions</th>\n",
       "      <td>0.207119</td>\n",
       "      <td>-0.088540</td>\n",
       "      <td>0.437636</td>\n",
       "      <td>0.453551</td>\n",
       "      <td>0.064687</td>\n",
       "      <td>-0.128019</td>\n",
       "      <td>1.000000</td>\n",
       "      <td>0.237626</td>\n",
       "    </tr>\n",
       "    <tr>\n",
       "      <th>variety</th>\n",
       "      <td>0.430231</td>\n",
       "      <td>0.487860</td>\n",
       "      <td>0.505926</td>\n",
       "      <td>0.429320</td>\n",
       "      <td>0.419319</td>\n",
       "      <td>0.493951</td>\n",
       "      <td>0.237626</td>\n",
       "      <td>1.000000</td>\n",
       "    </tr>\n",
       "  </tbody>\n",
       "</table>\n",
       "</div>"
      ],
      "text/plain": [
       "                        communication    danger  experience  \\\n",
       "communication                1.000000  0.100337    0.355521   \n",
       "danger                       0.100337  1.000000    0.150799   \n",
       "experience                   0.355521  0.150799    1.000000   \n",
       "interaction_complexity       0.456593 -0.066458    0.437016   \n",
       "pace_of_work                 0.401312  0.357612    0.195452   \n",
       "physicality                  0.155703  0.850742    0.167946   \n",
       "uncertain_decisions          0.207119 -0.088540    0.437636   \n",
       "variety                      0.430231  0.487860    0.505926   \n",
       "\n",
       "                        interaction_complexity  pace_of_work  physicality  \\\n",
       "communication                         0.456593      0.401312     0.155703   \n",
       "danger                               -0.066458      0.357612     0.850742   \n",
       "experience                            0.437016      0.195452     0.167946   \n",
       "interaction_complexity                1.000000      0.104997    -0.013353   \n",
       "pace_of_work                          0.104997      1.000000     0.357086   \n",
       "physicality                          -0.013353      0.357086     1.000000   \n",
       "uncertain_decisions                   0.453551      0.064687    -0.128019   \n",
       "variety                               0.429320      0.419319     0.493951   \n",
       "\n",
       "                        uncertain_decisions   variety  \n",
       "communication                      0.207119  0.430231  \n",
       "danger                            -0.088540  0.487860  \n",
       "experience                         0.437636  0.505926  \n",
       "interaction_complexity             0.453551  0.429320  \n",
       "pace_of_work                       0.064687  0.419319  \n",
       "physicality                       -0.128019  0.493951  \n",
       "uncertain_decisions                1.000000  0.237626  \n",
       "variety                            0.237626  1.000000  "
      ]
     },
     "execution_count": 33,
     "metadata": {},
     "output_type": "execute_result"
    }
   ],
   "source": [
    "spearman_corr = output.corr('spearman')\n",
    "spearman_corr"
   ]
  }
 ],
 "metadata": {
  "kernelspec": {
   "display_name": "Python 3",
   "language": "python",
   "name": "python3"
  },
  "language_info": {
   "codemirror_mode": {
    "name": "ipython",
    "version": 3
   },
   "file_extension": ".py",
   "mimetype": "text/x-python",
   "name": "python",
   "nbconvert_exporter": "python",
   "pygments_lexer": "ipython3",
   "version": "3.6.4"
  }
 },
 "nbformat": 4,
 "nbformat_minor": 2
}
