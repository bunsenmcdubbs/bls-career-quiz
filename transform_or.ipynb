{
 "cells": [
  {
   "cell_type": "markdown",
   "metadata": {},
   "source": [
    "# Aggregate metrics for Job Characteristics\n",
    "\n",
    "Some of these indicies combine multiple metrics. All indicies are normalized.\n",
    "\n",
    "## Method\n",
    "\n",
    "For 1+ underlying methics in the Occupational Requirements dataset, the raw values will be normalized (z-scores). Those scores will be summed (possiblity weighted) and the sum is normalized to create the final metric.\n",
    "\n",
    "## Setup\n",
    "\n",
    "1. Load preprocessed or data\n",
    "2. Load metadata about estimates"
   ]
  },
  {
   "cell_type": "code",
   "execution_count": 1,
   "metadata": {},
   "outputs": [],
   "source": [
    "import matplotlib\n",
    "import pandas"
   ]
  },
  {
   "cell_type": "code",
   "execution_count": 2,
   "metadata": {},
   "outputs": [
    {
     "data": {
      "text/html": [
       "<div>\n",
       "<style scoped>\n",
       "    .dataframe tbody tr th:only-of-type {\n",
       "        vertical-align: middle;\n",
       "    }\n",
       "\n",
       "    .dataframe tbody tr th {\n",
       "        vertical-align: top;\n",
       "    }\n",
       "\n",
       "    .dataframe thead th {\n",
       "        text-align: right;\n",
       "    }\n",
       "</style>\n",
       "<table border=\"1\" class=\"dataframe\">\n",
       "  <thead>\n",
       "    <tr style=\"text-align: right;\">\n",
       "      <th></th>\n",
       "      <th>soc_code</th>\n",
       "      <th>00064</th>\n",
       "      <th>00065</th>\n",
       "      <th>00066</th>\n",
       "      <th>00067</th>\n",
       "      <th>00068</th>\n",
       "      <th>00069</th>\n",
       "      <th>00070</th>\n",
       "      <th>00071</th>\n",
       "      <th>00072</th>\n",
       "      <th>...</th>\n",
       "      <th>01076</th>\n",
       "      <th>01077</th>\n",
       "      <th>01080</th>\n",
       "      <th>01081</th>\n",
       "      <th>01084</th>\n",
       "      <th>01085</th>\n",
       "      <th>01087</th>\n",
       "      <th>01088</th>\n",
       "      <th>01090</th>\n",
       "      <th>01091</th>\n",
       "    </tr>\n",
       "  </thead>\n",
       "  <tbody>\n",
       "    <tr>\n",
       "      <th>0</th>\n",
       "      <td>000000</td>\n",
       "      <td>4.0</td>\n",
       "      <td>30.3</td>\n",
       "      <td>5.0</td>\n",
       "      <td>3.5</td>\n",
       "      <td>6.7</td>\n",
       "      <td>13.4</td>\n",
       "      <td>19.1</td>\n",
       "      <td>15.9</td>\n",
       "      <td>2.1</td>\n",
       "      <td>...</td>\n",
       "      <td>25.8</td>\n",
       "      <td>19.3</td>\n",
       "      <td>77.9</td>\n",
       "      <td>22.1</td>\n",
       "      <td>11.0</td>\n",
       "      <td>22.9</td>\n",
       "      <td>18.2</td>\n",
       "      <td>15.7</td>\n",
       "      <td>1.4</td>\n",
       "      <td>32.5</td>\n",
       "    </tr>\n",
       "    <tr>\n",
       "      <th>1</th>\n",
       "      <td>110000</td>\n",
       "      <td>0.7</td>\n",
       "      <td>NaN</td>\n",
       "      <td>NaN</td>\n",
       "      <td>NaN</td>\n",
       "      <td>1.4</td>\n",
       "      <td>4.8</td>\n",
       "      <td>15.8</td>\n",
       "      <td>57.7</td>\n",
       "      <td>18.4</td>\n",
       "      <td>...</td>\n",
       "      <td>9.0</td>\n",
       "      <td>24.8</td>\n",
       "      <td>74.6</td>\n",
       "      <td>25.4</td>\n",
       "      <td>8.9</td>\n",
       "      <td>17.6</td>\n",
       "      <td>11.5</td>\n",
       "      <td>15.0</td>\n",
       "      <td>1.2</td>\n",
       "      <td>25.3</td>\n",
       "    </tr>\n",
       "    <tr>\n",
       "      <th>2</th>\n",
       "      <td>111011</td>\n",
       "      <td>NaN</td>\n",
       "      <td>NaN</td>\n",
       "      <td>NaN</td>\n",
       "      <td>NaN</td>\n",
       "      <td>NaN</td>\n",
       "      <td>NaN</td>\n",
       "      <td>NaN</td>\n",
       "      <td>40.7</td>\n",
       "      <td>56.9</td>\n",
       "      <td>...</td>\n",
       "      <td>NaN</td>\n",
       "      <td>NaN</td>\n",
       "      <td>NaN</td>\n",
       "      <td>NaN</td>\n",
       "      <td>NaN</td>\n",
       "      <td>NaN</td>\n",
       "      <td>NaN</td>\n",
       "      <td>NaN</td>\n",
       "      <td>NaN</td>\n",
       "      <td>NaN</td>\n",
       "    </tr>\n",
       "    <tr>\n",
       "      <th>3</th>\n",
       "      <td>111021</td>\n",
       "      <td>NaN</td>\n",
       "      <td>NaN</td>\n",
       "      <td>NaN</td>\n",
       "      <td>NaN</td>\n",
       "      <td>NaN</td>\n",
       "      <td>6.1</td>\n",
       "      <td>16.7</td>\n",
       "      <td>51.3</td>\n",
       "      <td>20.9</td>\n",
       "      <td>...</td>\n",
       "      <td>11.0</td>\n",
       "      <td>19.1</td>\n",
       "      <td>70.4</td>\n",
       "      <td>29.6</td>\n",
       "      <td>10.7</td>\n",
       "      <td>8.3</td>\n",
       "      <td>NaN</td>\n",
       "      <td>15.7</td>\n",
       "      <td>NaN</td>\n",
       "      <td>18.4</td>\n",
       "    </tr>\n",
       "    <tr>\n",
       "      <th>4</th>\n",
       "      <td>112021</td>\n",
       "      <td>NaN</td>\n",
       "      <td>NaN</td>\n",
       "      <td>NaN</td>\n",
       "      <td>NaN</td>\n",
       "      <td>NaN</td>\n",
       "      <td>NaN</td>\n",
       "      <td>14.6</td>\n",
       "      <td>57.6</td>\n",
       "      <td>24.9</td>\n",
       "      <td>...</td>\n",
       "      <td>NaN</td>\n",
       "      <td>21.8</td>\n",
       "      <td>65.3</td>\n",
       "      <td>34.7</td>\n",
       "      <td>NaN</td>\n",
       "      <td>NaN</td>\n",
       "      <td>NaN</td>\n",
       "      <td>NaN</td>\n",
       "      <td>NaN</td>\n",
       "      <td>NaN</td>\n",
       "    </tr>\n",
       "  </tbody>\n",
       "</table>\n",
       "<p>5 rows × 341 columns</p>\n",
       "</div>"
      ],
      "text/plain": [
       "  soc_code  00064  00065  00066  00067  00068  00069  00070  00071  00072  \\\n",
       "0   000000    4.0   30.3    5.0    3.5    6.7   13.4   19.1   15.9    2.1   \n",
       "1   110000    0.7    NaN    NaN    NaN    1.4    4.8   15.8   57.7   18.4   \n",
       "2   111011    NaN    NaN    NaN    NaN    NaN    NaN    NaN   40.7   56.9   \n",
       "3   111021    NaN    NaN    NaN    NaN    NaN    6.1   16.7   51.3   20.9   \n",
       "4   112021    NaN    NaN    NaN    NaN    NaN    NaN   14.6   57.6   24.9   \n",
       "\n",
       "   ...    01076  01077  01080  01081  01084  01085  01087  01088  01090  01091  \n",
       "0  ...     25.8   19.3   77.9   22.1   11.0   22.9   18.2   15.7    1.4   32.5  \n",
       "1  ...      9.0   24.8   74.6   25.4    8.9   17.6   11.5   15.0    1.2   25.3  \n",
       "2  ...      NaN    NaN    NaN    NaN    NaN    NaN    NaN    NaN    NaN    NaN  \n",
       "3  ...     11.0   19.1   70.4   29.6   10.7    8.3    NaN   15.7    NaN   18.4  \n",
       "4  ...      NaN   21.8   65.3   34.7    NaN    NaN    NaN    NaN    NaN    NaN  \n",
       "\n",
       "[5 rows x 341 columns]"
      ]
     },
     "execution_count": 2,
     "metadata": {},
     "output_type": "execute_result"
    }
   ],
   "source": [
    "data = pandas.read_csv('ordata-processed.csv', converters={'soc_code': str})\n",
    "data.head()"
   ]
  },
  {
   "cell_type": "code",
   "execution_count": 3,
   "metadata": {},
   "outputs": [
    {
     "data": {
      "text/html": [
       "<div>\n",
       "<style scoped>\n",
       "    .dataframe tbody tr th:only-of-type {\n",
       "        vertical-align: middle;\n",
       "    }\n",
       "\n",
       "    .dataframe tbody tr th {\n",
       "        vertical-align: top;\n",
       "    }\n",
       "\n",
       "    .dataframe thead th {\n",
       "        text-align: right;\n",
       "    }\n",
       "</style>\n",
       "<table border=\"1\" class=\"dataframe\">\n",
       "  <thead>\n",
       "    <tr style=\"text-align: right;\">\n",
       "      <th></th>\n",
       "      <th>estimate_code</th>\n",
       "      <th>estimate_text</th>\n",
       "      <th>display_level</th>\n",
       "      <th>selectable</th>\n",
       "      <th>sort_sequence</th>\n",
       "    </tr>\n",
       "  </thead>\n",
       "  <tbody>\n",
       "    <tr>\n",
       "      <th>0</th>\n",
       "      <td>00064</td>\n",
       "      <td>Percent of workers, svp is short demonstration...</td>\n",
       "      <td>0</td>\n",
       "      <td>T</td>\n",
       "      <td>889</td>\n",
       "    </tr>\n",
       "    <tr>\n",
       "      <th>1</th>\n",
       "      <td>00065</td>\n",
       "      <td>Percent of workers, svp is beyond short demons...</td>\n",
       "      <td>0</td>\n",
       "      <td>T</td>\n",
       "      <td>890</td>\n",
       "    </tr>\n",
       "    <tr>\n",
       "      <th>2</th>\n",
       "      <td>00066</td>\n",
       "      <td>Percent of workers, svp is over 1 month, up to...</td>\n",
       "      <td>0</td>\n",
       "      <td>T</td>\n",
       "      <td>891</td>\n",
       "    </tr>\n",
       "    <tr>\n",
       "      <th>3</th>\n",
       "      <td>00067</td>\n",
       "      <td>Percent of workers, svp is over 3 months, up t...</td>\n",
       "      <td>0</td>\n",
       "      <td>T</td>\n",
       "      <td>892</td>\n",
       "    </tr>\n",
       "    <tr>\n",
       "      <th>4</th>\n",
       "      <td>00068</td>\n",
       "      <td>Percent of workers, svp is over 6 months, up t...</td>\n",
       "      <td>0</td>\n",
       "      <td>T</td>\n",
       "      <td>893</td>\n",
       "    </tr>\n",
       "  </tbody>\n",
       "</table>\n",
       "</div>"
      ],
      "text/plain": [
       "  estimate_code                                      estimate_text  \\\n",
       "0         00064  Percent of workers, svp is short demonstration...   \n",
       "1         00065  Percent of workers, svp is beyond short demons...   \n",
       "2         00066  Percent of workers, svp is over 1 month, up to...   \n",
       "3         00067  Percent of workers, svp is over 3 months, up t...   \n",
       "4         00068  Percent of workers, svp is over 6 months, up t...   \n",
       "\n",
       "   display_level selectable  sort_sequence  \n",
       "0              0          T            889  \n",
       "1              0          T            890  \n",
       "2              0          T            891  \n",
       "3              0          T            892  \n",
       "4              0          T            893  "
      ]
     },
     "execution_count": 3,
     "metadata": {},
     "output_type": "execute_result"
    }
   ],
   "source": [
    "metadata = pandas.read_csv('ordata/or.estimate', delimiter='\\t', index_col=False)\n",
    "metadata['estimate_code'] = metadata['estimate_code'].map(lambda c: '{:05d}'.format(c))\n",
    "metadata.head()"
   ]
  },
  {
   "cell_type": "markdown",
   "metadata": {},
   "source": [
    "## Indicies\n",
    "\n",
    "Aggregate metrics/indices for:\n",
    "- Physicality\n",
    "- Pace of work\n",
    "- Variety\n",
    "- Danger\n",
    "- Communication\n",
    " - Type of interaction\n",
    "- Entry-level/experienced\n",
    "- Ambiguous decision making\n",
    "\n",
    "### Physicality Index\n",
    "\n",
    "Combines underlying metrics:\n",
    "\n",
    "| Estimate code | Name |\n",
    "|---------------|------|\n",
    "|00128|Hours of standing/walking (50th Percentile - median)|\n",
    "|01006|Percent of day where standing/walking is required (50th Percentile - median)|\n",
    "|00235|Pounds maximum weight lifted/carried (25th Percentile)|\n",
    "|00236|Pounds maximum weight lifted/carried (50th Percentile - median)|\n",
    "|00758|Percent of workers, crawling is required|\n",
    "|00759|Percent of workers, crouching is required|\n",
    "|00647|Percent of workers, pushing/pulling with feet only is required, frequently|\n",
    "|00648|Percent of workers, pushing/pulling with feet only is required, constantly|\n",
    "|00298|Percent of workers, pushing/pulling with feet/legs is required, frequently|\n",
    "|00828|Percent of workers, pushing/pulling with feet/legs is required|\n",
    "|00829|Percent of workers, pushing/pulling with hands/arms is required|\n",
    "|00364|Percent of workers, climbing ramps or stairs (structure-related) is required|\n",
    "|00752|Percent of workers, climbing ramps or stairs (work-related) is required|\n",
    "|00751|Percent of workers, climbing ladders, ropes, or scaffolds is required|\n",
    "|00398|Percent of workers, stooping is required, frequently|\n",
    "|00411|Percent of workers, kneeling is required, occasionally|\n",
    "|00663|Percent of workers, strength is medium work|\n",
    "|00664|Percent of workers, strength is heavy work|\n",
    "|00665|Percent of workers, strength is very heavy work|\n",
    "|00827|Percent of workers, pushing/pulling with feet only is required|"
   ]
  },
  {
   "cell_type": "code",
   "execution_count": 4,
   "metadata": {},
   "outputs": [],
   "source": [
    "codes = [\n",
    "'00128',\n",
    "'01006',\n",
    "'00235',\n",
    "'00236',\n",
    "'00758',\n",
    "'00759',\n",
    "'00647',\n",
    "'00648',\n",
    "'00298',\n",
    "'00828',\n",
    "'00829',\n",
    "'00364',\n",
    "'00752',\n",
    "'00751',\n",
    "'00398',\n",
    "'00411',\n",
    "'00663',\n",
    "'00664',\n",
    "'00665',\n",
    "'00827'\n",
    "]"
   ]
  },
  {
   "cell_type": "code",
   "execution_count": 5,
   "metadata": {},
   "outputs": [
    {
     "data": {
      "text/plain": [
       "<matplotlib.axes._subplots.AxesSubplot at 0x10a202978>"
      ]
     },
     "execution_count": 5,
     "metadata": {},
     "output_type": "execute_result"
    }
   ],
   "source": [
    "data['00235'].hist()"
   ]
  },
  {
   "cell_type": "code",
   "execution_count": 6,
   "metadata": {},
   "outputs": [
    {
     "data": {
      "text/html": [
       "<div>\n",
       "<style scoped>\n",
       "    .dataframe tbody tr th:only-of-type {\n",
       "        vertical-align: middle;\n",
       "    }\n",
       "\n",
       "    .dataframe tbody tr th {\n",
       "        vertical-align: top;\n",
       "    }\n",
       "\n",
       "    .dataframe thead th {\n",
       "        text-align: right;\n",
       "    }\n",
       "</style>\n",
       "<table border=\"1\" class=\"dataframe\">\n",
       "  <thead>\n",
       "    <tr style=\"text-align: right;\">\n",
       "      <th></th>\n",
       "      <th>00128</th>\n",
       "      <th>00235</th>\n",
       "      <th>00236</th>\n",
       "      <th>00298</th>\n",
       "      <th>00364</th>\n",
       "      <th>00398</th>\n",
       "      <th>00411</th>\n",
       "      <th>00647</th>\n",
       "      <th>00648</th>\n",
       "      <th>00663</th>\n",
       "      <th>00664</th>\n",
       "      <th>00665</th>\n",
       "      <th>00751</th>\n",
       "      <th>00752</th>\n",
       "      <th>00758</th>\n",
       "      <th>00759</th>\n",
       "      <th>00827</th>\n",
       "      <th>00828</th>\n",
       "      <th>00829</th>\n",
       "      <th>01006</th>\n",
       "    </tr>\n",
       "  </thead>\n",
       "  <tbody>\n",
       "    <tr>\n",
       "      <th>0</th>\n",
       "      <td>0.013581</td>\n",
       "      <td>-0.771191</td>\n",
       "      <td>-0.182500</td>\n",
       "      <td>NaN</td>\n",
       "      <td>-0.352494</td>\n",
       "      <td>NaN</td>\n",
       "      <td>NaN</td>\n",
       "      <td>NaN</td>\n",
       "      <td>NaN</td>\n",
       "      <td>-0.230797</td>\n",
       "      <td>-0.852066</td>\n",
       "      <td>-0.615875</td>\n",
       "      <td>-0.818256</td>\n",
       "      <td>-0.466598</td>\n",
       "      <td>-0.734579</td>\n",
       "      <td>-0.162082</td>\n",
       "      <td>-0.646268</td>\n",
       "      <td>-0.571476</td>\n",
       "      <td>-0.558175</td>\n",
       "      <td>0.224009</td>\n",
       "    </tr>\n",
       "    <tr>\n",
       "      <th>1</th>\n",
       "      <td>-1.018953</td>\n",
       "      <td>-0.771191</td>\n",
       "      <td>-1.195952</td>\n",
       "      <td>NaN</td>\n",
       "      <td>0.033886</td>\n",
       "      <td>NaN</td>\n",
       "      <td>NaN</td>\n",
       "      <td>NaN</td>\n",
       "      <td>NaN</td>\n",
       "      <td>-1.030164</td>\n",
       "      <td>NaN</td>\n",
       "      <td>NaN</td>\n",
       "      <td>-1.075386</td>\n",
       "      <td>-0.486925</td>\n",
       "      <td>-1.055196</td>\n",
       "      <td>-1.147192</td>\n",
       "      <td>NaN</td>\n",
       "      <td>-1.524697</td>\n",
       "      <td>-1.582400</td>\n",
       "      <td>-1.158644</td>\n",
       "    </tr>\n",
       "    <tr>\n",
       "      <th>2</th>\n",
       "      <td>NaN</td>\n",
       "      <td>-0.771191</td>\n",
       "      <td>NaN</td>\n",
       "      <td>NaN</td>\n",
       "      <td>0.772148</td>\n",
       "      <td>NaN</td>\n",
       "      <td>NaN</td>\n",
       "      <td>NaN</td>\n",
       "      <td>NaN</td>\n",
       "      <td>NaN</td>\n",
       "      <td>NaN</td>\n",
       "      <td>NaN</td>\n",
       "      <td>NaN</td>\n",
       "      <td>-0.682065</td>\n",
       "      <td>NaN</td>\n",
       "      <td>NaN</td>\n",
       "      <td>NaN</td>\n",
       "      <td>NaN</td>\n",
       "      <td>NaN</td>\n",
       "      <td>-1.312272</td>\n",
       "    </tr>\n",
       "    <tr>\n",
       "      <th>3</th>\n",
       "      <td>-1.018953</td>\n",
       "      <td>-0.771191</td>\n",
       "      <td>-0.689226</td>\n",
       "      <td>NaN</td>\n",
       "      <td>-0.573283</td>\n",
       "      <td>NaN</td>\n",
       "      <td>NaN</td>\n",
       "      <td>NaN</td>\n",
       "      <td>NaN</td>\n",
       "      <td>-0.785102</td>\n",
       "      <td>NaN</td>\n",
       "      <td>NaN</td>\n",
       "      <td>-1.107934</td>\n",
       "      <td>-0.486925</td>\n",
       "      <td>NaN</td>\n",
       "      <td>-1.169182</td>\n",
       "      <td>NaN</td>\n",
       "      <td>-1.467854</td>\n",
       "      <td>-1.478734</td>\n",
       "      <td>-1.158644</td>\n",
       "    </tr>\n",
       "    <tr>\n",
       "      <th>4</th>\n",
       "      <td>NaN</td>\n",
       "      <td>NaN</td>\n",
       "      <td>-1.195952</td>\n",
       "      <td>NaN</td>\n",
       "      <td>-0.055810</td>\n",
       "      <td>NaN</td>\n",
       "      <td>NaN</td>\n",
       "      <td>NaN</td>\n",
       "      <td>NaN</td>\n",
       "      <td>NaN</td>\n",
       "      <td>NaN</td>\n",
       "      <td>NaN</td>\n",
       "      <td>NaN</td>\n",
       "      <td>-0.677999</td>\n",
       "      <td>NaN</td>\n",
       "      <td>NaN</td>\n",
       "      <td>NaN</td>\n",
       "      <td>NaN</td>\n",
       "      <td>NaN</td>\n",
       "      <td>NaN</td>\n",
       "    </tr>\n",
       "  </tbody>\n",
       "</table>\n",
       "</div>"
      ],
      "text/plain": [
       "      00128     00235     00236  00298     00364  00398  00411  00647  00648  \\\n",
       "0  0.013581 -0.771191 -0.182500    NaN -0.352494    NaN    NaN    NaN    NaN   \n",
       "1 -1.018953 -0.771191 -1.195952    NaN  0.033886    NaN    NaN    NaN    NaN   \n",
       "2       NaN -0.771191       NaN    NaN  0.772148    NaN    NaN    NaN    NaN   \n",
       "3 -1.018953 -0.771191 -0.689226    NaN -0.573283    NaN    NaN    NaN    NaN   \n",
       "4       NaN       NaN -1.195952    NaN -0.055810    NaN    NaN    NaN    NaN   \n",
       "\n",
       "      00663     00664     00665     00751     00752     00758     00759  \\\n",
       "0 -0.230797 -0.852066 -0.615875 -0.818256 -0.466598 -0.734579 -0.162082   \n",
       "1 -1.030164       NaN       NaN -1.075386 -0.486925 -1.055196 -1.147192   \n",
       "2       NaN       NaN       NaN       NaN -0.682065       NaN       NaN   \n",
       "3 -0.785102       NaN       NaN -1.107934 -0.486925       NaN -1.169182   \n",
       "4       NaN       NaN       NaN       NaN -0.677999       NaN       NaN   \n",
       "\n",
       "      00827     00828     00829     01006  \n",
       "0 -0.646268 -0.571476 -0.558175  0.224009  \n",
       "1       NaN -1.524697 -1.582400 -1.158644  \n",
       "2       NaN       NaN       NaN -1.312272  \n",
       "3       NaN -1.467854 -1.478734 -1.158644  \n",
       "4       NaN       NaN       NaN       NaN  "
      ]
     },
     "execution_count": 6,
     "metadata": {},
     "output_type": "execute_result"
    }
   ],
   "source": [
    "normalized = pandas.DataFrame({\n",
    "    c: (data[c] - data[c].mean()) / (data[c].std())\n",
    "    for c in codes\n",
    "})\n",
    "normalized.head()"
   ]
  },
  {
   "cell_type": "code",
   "execution_count": 7,
   "metadata": {},
   "outputs": [
    {
     "data": {
      "text/html": [
       "<div>\n",
       "<style scoped>\n",
       "    .dataframe tbody tr th:only-of-type {\n",
       "        vertical-align: middle;\n",
       "    }\n",
       "\n",
       "    .dataframe tbody tr th {\n",
       "        vertical-align: top;\n",
       "    }\n",
       "\n",
       "    .dataframe thead th {\n",
       "        text-align: right;\n",
       "    }\n",
       "</style>\n",
       "<table border=\"1\" class=\"dataframe\">\n",
       "  <thead>\n",
       "    <tr style=\"text-align: right;\">\n",
       "      <th></th>\n",
       "      <th>00128</th>\n",
       "      <th>00235</th>\n",
       "      <th>00236</th>\n",
       "      <th>00298</th>\n",
       "      <th>00364</th>\n",
       "      <th>00398</th>\n",
       "      <th>00411</th>\n",
       "      <th>00647</th>\n",
       "      <th>00648</th>\n",
       "      <th>00663</th>\n",
       "      <th>...</th>\n",
       "      <th>00751</th>\n",
       "      <th>00752</th>\n",
       "      <th>00758</th>\n",
       "      <th>00759</th>\n",
       "      <th>00827</th>\n",
       "      <th>00828</th>\n",
       "      <th>00829</th>\n",
       "      <th>01006</th>\n",
       "      <th>sum</th>\n",
       "      <th>index</th>\n",
       "    </tr>\n",
       "  </thead>\n",
       "  <tbody>\n",
       "    <tr>\n",
       "      <th>0</th>\n",
       "      <td>0.013581</td>\n",
       "      <td>-0.771191</td>\n",
       "      <td>-0.182500</td>\n",
       "      <td>NaN</td>\n",
       "      <td>-0.352494</td>\n",
       "      <td>NaN</td>\n",
       "      <td>NaN</td>\n",
       "      <td>NaN</td>\n",
       "      <td>NaN</td>\n",
       "      <td>-0.230797</td>\n",
       "      <td>...</td>\n",
       "      <td>-0.818256</td>\n",
       "      <td>-0.466598</td>\n",
       "      <td>-0.734579</td>\n",
       "      <td>-0.162082</td>\n",
       "      <td>-0.646268</td>\n",
       "      <td>-0.571476</td>\n",
       "      <td>-0.558175</td>\n",
       "      <td>0.224009</td>\n",
       "      <td>-6.724767</td>\n",
       "      <td>-1.101519</td>\n",
       "    </tr>\n",
       "    <tr>\n",
       "      <th>1</th>\n",
       "      <td>-1.018953</td>\n",
       "      <td>-0.771191</td>\n",
       "      <td>-1.195952</td>\n",
       "      <td>NaN</td>\n",
       "      <td>0.033886</td>\n",
       "      <td>NaN</td>\n",
       "      <td>NaN</td>\n",
       "      <td>NaN</td>\n",
       "      <td>NaN</td>\n",
       "      <td>-1.030164</td>\n",
       "      <td>...</td>\n",
       "      <td>-1.075386</td>\n",
       "      <td>-0.486925</td>\n",
       "      <td>-1.055196</td>\n",
       "      <td>-1.147192</td>\n",
       "      <td>NaN</td>\n",
       "      <td>-1.524697</td>\n",
       "      <td>-1.582400</td>\n",
       "      <td>-1.158644</td>\n",
       "      <td>-12.012815</td>\n",
       "      <td>-1.967703</td>\n",
       "    </tr>\n",
       "    <tr>\n",
       "      <th>2</th>\n",
       "      <td>NaN</td>\n",
       "      <td>-0.771191</td>\n",
       "      <td>NaN</td>\n",
       "      <td>NaN</td>\n",
       "      <td>0.772148</td>\n",
       "      <td>NaN</td>\n",
       "      <td>NaN</td>\n",
       "      <td>NaN</td>\n",
       "      <td>NaN</td>\n",
       "      <td>NaN</td>\n",
       "      <td>...</td>\n",
       "      <td>NaN</td>\n",
       "      <td>-0.682065</td>\n",
       "      <td>NaN</td>\n",
       "      <td>NaN</td>\n",
       "      <td>NaN</td>\n",
       "      <td>NaN</td>\n",
       "      <td>NaN</td>\n",
       "      <td>-1.312272</td>\n",
       "      <td>-1.993380</td>\n",
       "      <td>-0.326516</td>\n",
       "    </tr>\n",
       "    <tr>\n",
       "      <th>3</th>\n",
       "      <td>-1.018953</td>\n",
       "      <td>-0.771191</td>\n",
       "      <td>-0.689226</td>\n",
       "      <td>NaN</td>\n",
       "      <td>-0.573283</td>\n",
       "      <td>NaN</td>\n",
       "      <td>NaN</td>\n",
       "      <td>NaN</td>\n",
       "      <td>NaN</td>\n",
       "      <td>-0.785102</td>\n",
       "      <td>...</td>\n",
       "      <td>-1.107934</td>\n",
       "      <td>-0.486925</td>\n",
       "      <td>NaN</td>\n",
       "      <td>-1.169182</td>\n",
       "      <td>NaN</td>\n",
       "      <td>-1.467854</td>\n",
       "      <td>-1.478734</td>\n",
       "      <td>-1.158644</td>\n",
       "      <td>-10.707027</td>\n",
       "      <td>-1.753814</td>\n",
       "    </tr>\n",
       "    <tr>\n",
       "      <th>4</th>\n",
       "      <td>NaN</td>\n",
       "      <td>NaN</td>\n",
       "      <td>-1.195952</td>\n",
       "      <td>NaN</td>\n",
       "      <td>-0.055810</td>\n",
       "      <td>NaN</td>\n",
       "      <td>NaN</td>\n",
       "      <td>NaN</td>\n",
       "      <td>NaN</td>\n",
       "      <td>NaN</td>\n",
       "      <td>...</td>\n",
       "      <td>NaN</td>\n",
       "      <td>-0.677999</td>\n",
       "      <td>NaN</td>\n",
       "      <td>NaN</td>\n",
       "      <td>NaN</td>\n",
       "      <td>NaN</td>\n",
       "      <td>NaN</td>\n",
       "      <td>NaN</td>\n",
       "      <td>-1.929761</td>\n",
       "      <td>-0.316095</td>\n",
       "    </tr>\n",
       "  </tbody>\n",
       "</table>\n",
       "<p>5 rows × 22 columns</p>\n",
       "</div>"
      ],
      "text/plain": [
       "      00128     00235     00236  00298     00364  00398  00411  00647  00648  \\\n",
       "0  0.013581 -0.771191 -0.182500    NaN -0.352494    NaN    NaN    NaN    NaN   \n",
       "1 -1.018953 -0.771191 -1.195952    NaN  0.033886    NaN    NaN    NaN    NaN   \n",
       "2       NaN -0.771191       NaN    NaN  0.772148    NaN    NaN    NaN    NaN   \n",
       "3 -1.018953 -0.771191 -0.689226    NaN -0.573283    NaN    NaN    NaN    NaN   \n",
       "4       NaN       NaN -1.195952    NaN -0.055810    NaN    NaN    NaN    NaN   \n",
       "\n",
       "      00663    ...        00751     00752     00758     00759     00827  \\\n",
       "0 -0.230797    ...    -0.818256 -0.466598 -0.734579 -0.162082 -0.646268   \n",
       "1 -1.030164    ...    -1.075386 -0.486925 -1.055196 -1.147192       NaN   \n",
       "2       NaN    ...          NaN -0.682065       NaN       NaN       NaN   \n",
       "3 -0.785102    ...    -1.107934 -0.486925       NaN -1.169182       NaN   \n",
       "4       NaN    ...          NaN -0.677999       NaN       NaN       NaN   \n",
       "\n",
       "      00828     00829     01006        sum     index  \n",
       "0 -0.571476 -0.558175  0.224009  -6.724767 -1.101519  \n",
       "1 -1.524697 -1.582400 -1.158644 -12.012815 -1.967703  \n",
       "2       NaN       NaN -1.312272  -1.993380 -0.326516  \n",
       "3 -1.467854 -1.478734 -1.158644 -10.707027 -1.753814  \n",
       "4       NaN       NaN       NaN  -1.929761 -0.316095  \n",
       "\n",
       "[5 rows x 22 columns]"
      ]
     },
     "execution_count": 7,
     "metadata": {},
     "output_type": "execute_result"
    }
   ],
   "source": [
    "normalized['sum'] = normalized.sum(axis=1)\n",
    "normalized['index'] = (normalized['sum'] - normalized['sum'].mean()) / normalized['sum'].std()\n",
    "normalized.head()"
   ]
  },
  {
   "cell_type": "code",
   "execution_count": 8,
   "metadata": {},
   "outputs": [],
   "source": [
    "def create_index(df, columns, weights=None):\n",
    "    if weights is None:\n",
    "        weights = [1.] * len(columns)\n",
    "    assert len(weights) == len(columns)\n",
    "    normalized = {}\n",
    "    for c, w in zip(columns, weights):\n",
    "        normalized[c] = (data[c] - data[c].mean()) / (data[c].std())\n",
    "        normalized[c] = (normalized[c] - normalized[c].min()) * w\n",
    "    normalized = pandas.DataFrame(normalized)\n",
    "    sums = normalized.sum(axis=1)\n",
    "    return (sums - sums.mean()) / sums.std()"
   ]
  },
  {
   "cell_type": "code",
   "execution_count": 9,
   "metadata": {},
   "outputs": [
    {
     "data": {
      "text/plain": [
       "0    0.399198\n",
       "1   -0.449087\n",
       "2   -0.751402\n",
       "3   -0.428323\n",
       "4   -0.911465\n",
       "dtype: float64"
      ]
     },
     "execution_count": 9,
     "metadata": {},
     "output_type": "execute_result"
    }
   ],
   "source": [
    "physicality_index = create_index(data, codes)\n",
    "physicality_index.head()"
   ]
  },
  {
   "cell_type": "code",
   "execution_count": 10,
   "metadata": {},
   "outputs": [
    {
     "data": {
      "text/plain": [
       "<matplotlib.axes._subplots.AxesSubplot at 0x10a2c0eb8>"
      ]
     },
     "execution_count": 10,
     "metadata": {},
     "output_type": "execute_result"
    },
    {
     "data": {
      "image/png": "[encoded data removed]",
      "text/plain": [
       "<Figure size 432x288 with 1 Axes>"
      ]
     },
     "metadata": {},
     "output_type": "display_data"
    }
   ],
   "source": [
    "physicality_index.hist()"
   ]
  },
  {
   "cell_type": "markdown",
   "metadata": {},
   "source": [
    "### Pace of work\n",
    "\n",
    "| Estimate code | Weight | Name |\n",
    "|---------------|--------|------|\n",
    "|01071|2|Percent of workers, pace of work is rapid|\n",
    "|01072|1|Percent of workers, pace of work is steady|"
   ]
  },
  {
   "cell_type": "code",
   "execution_count": 51,
   "metadata": {},
   "outputs": [
    {
     "data": {
      "text/plain": [
       "0    0.834583\n",
       "1    0.711158\n",
       "2   -0.219166\n",
       "3   -0.012122\n",
       "4   -0.101094\n",
       "dtype: float64"
      ]
     },
     "execution_count": 51,
     "metadata": {},
     "output_type": "execute_result"
    }
   ],
   "source": [
    "pace_of_work_index = create_index(data, ['01072', '01071'], [1, 2])\n",
    "pace_of_work_index.head()"
   ]
  },
  {
   "cell_type": "code",
   "execution_count": 52,
   "metadata": {},
   "outputs": [
    {
     "data": {
      "text/plain": [
       "<matplotlib.axes._subplots.AxesSubplot at 0x10b917588>"
      ]
     },
     "execution_count": 52,
     "metadata": {},
     "output_type": "execute_result"
    },
    {
     "data": {
      "image/png": "[encoded data removed]",
      "text/plain": [
       "<Figure size 432x288 with 1 Axes>"
      ]
     },
     "metadata": {},
     "output_type": "display_data"
    }
   ],
   "source": [
    "pace_of_work_index.hist()"
   ]
  },
  {
   "cell_type": "markdown",
   "metadata": {},
   "source": [
    "### Variety\n",
    "\n",
    "| Estimate code | Name |\n",
    "|---------------|------|\n",
    "|01056|Percent of workers, work location changes up to four times per year|\n",
    "|01057|Percent of workers, work location changes more than four times per year|\n",
    "|01059|Percent of workers, schedule changes yes|\n",
    "|01080|Percent of workers, pace of work with faster/slower work periods is yes|"
   ]
  },
  {
   "cell_type": "code",
   "execution_count": 13,
   "metadata": {},
   "outputs": [
    {
     "data": {
      "text/plain": [
       "0    1.402005\n",
       "1    1.588060\n",
       "2    0.452748\n",
       "3    1.616338\n",
       "4    1.155236\n",
       "dtype: float64"
      ]
     },
     "execution_count": 13,
     "metadata": {},
     "output_type": "execute_result"
    }
   ],
   "source": [
    "variety_index = create_index(data, ['01056', '01057', '01059', '01080'])\n",
    "variety_index.head()"
   ]
  },
  {
   "cell_type": "code",
   "execution_count": 14,
   "metadata": {},
   "outputs": [
    {
     "data": {
      "text/plain": [
       "<matplotlib.axes._subplots.AxesSubplot at 0x10a86e9b0>"
      ]
     },
     "execution_count": 14,
     "metadata": {},
     "output_type": "execute_result"
    },
    {
     "data": {
      "image/png": "[encoded data removed]",
      "text/plain": [
       "<Figure size 432x288 with 1 Axes>"
      ]
     },
     "metadata": {},
     "output_type": "display_data"
    }
   ],
   "source": [
    "variety_index.hist()"
   ]
  },
  {
   "cell_type": "markdown",
   "metadata": {},
   "source": [
    "### Danger\n",
    "\n",
    "| Estimate code | Name |\n",
    "|---------------|------|\n",
    "|00427|Percent of workers exposed to extreme cold, constantly|\n",
    "|00767|Percent of workers exposed to extreme cold|\n",
    "|00440|Percent of workers exposed to extreme heat, frequently|\n",
    "|00768|Percent of workers exposed to extreme heat|\n",
    "|00454|Percent of workers exposed to wetness, frequently|\n",
    "|00455|Percent of workers exposed to wetness, constantly|\n",
    "|00845|Percent of workers exposed to wetness|\n",
    "|00797|Percent of workers exposed to humidity|\n",
    "|00786|Percent of workers exposed to hazardous contaminants|\n",
    "|00787|Percent of workers exposed to hazardous contaminants, fully mitigated|\n",
    "|00791|Percent of workers exposed to heavy vibrations|\n",
    "|00792|Percent of workers exposed to high, exposed places|\n",
    "|00793|Percent of workers exposed to high, exposed places, fully mitigated|\n",
    "|00615|Percent of workers exposed to outdoors, frequently|\n",
    "|00616|Percent of workers exposed to outdoors, constantly|\n",
    "|00815|Percent of workers exposed to outdoors|\n",
    "|00573|Percent of workers exposed to loud noise intensity level|\n",
    "|00574|Percent of workers exposed to very loud noise intensity level|"
   ]
  },
  {
   "cell_type": "code",
   "execution_count": 15,
   "metadata": {},
   "outputs": [
    {
     "data": {
      "text/plain": [
       "0    0.230495\n",
       "1   -0.299971\n",
       "2   -0.541306\n",
       "3   -0.300960\n",
       "4   -0.588087\n",
       "dtype: float64"
      ]
     },
     "execution_count": 15,
     "metadata": {},
     "output_type": "execute_result"
    }
   ],
   "source": [
    "danger_index = create_index(data, ['00427',\n",
    "'00767',\n",
    "'00440',\n",
    "'00768',\n",
    "'00454',\n",
    "'00455',\n",
    "'00845',\n",
    "'00797',\n",
    "'00786',\n",
    "'00787',\n",
    "'00791',\n",
    "'00792',\n",
    "'00793',\n",
    "'00615',\n",
    "'00616',\n",
    "'00815',\n",
    "'00573',\n",
    "'00574'])\n",
    "danger_index.head()"
   ]
  },
  {
   "cell_type": "code",
   "execution_count": 16,
   "metadata": {},
   "outputs": [
    {
     "data": {
      "text/plain": [
       "<matplotlib.axes._subplots.AxesSubplot at 0x10a8e4780>"
      ]
     },
     "execution_count": 16,
     "metadata": {},
     "output_type": "execute_result"
    },
    {
     "data": {
      "image/png": "[encoded data removed]",
      "text/plain": [
       "<Figure size 432x288 with 1 Axes>"
      ]
     },
     "metadata": {},
     "output_type": "display_data"
    }
   ],
   "source": [
    "danger_index.hist()"
   ]
  },
  {
   "cell_type": "markdown",
   "metadata": {},
   "source": [
    "### Communication\n",
    "\n",
    "| Estimate code | Weight | Name |\n",
    "|---------------|--------|------|\n",
    "|01045|3|Percent of workers, frequency of contact with other contacts is continuous|\n",
    "|01046|2|Percent of workers, frequency of contact with other contacts is more than once per hour|\n",
    "|01047|1|Percent of workers, frequency of contact with other contacts is more than once per day|\n",
    "|01050|3|Percent of workers, frequency of contact with regular contacts is continuous|\t\n",
    "|01051|2|Percent of workers, frequency of contact with regular contacts is more than once per hour|\n",
    "|01052|1|Percent of workers, frequency of contact with regular contacts is more than once per day|\n",
    "|00561|3|Percent of workers, communicating verbally is required, constantly|\n",
    "|00560|2|Percent of workers, communicating verbally is required, frequently|\n",
    "|00559|1|Percent of workers, communicating verbally is required, occasionally|"
   ]
  },
  {
   "cell_type": "code",
   "execution_count": 17,
   "metadata": {},
   "outputs": [
    {
     "data": {
      "text/plain": [
       "0    0.217566\n",
       "1    0.215913\n",
       "2    0.540168\n",
       "3    0.777170\n",
       "4   -0.050012\n",
       "dtype: float64"
      ]
     },
     "execution_count": 17,
     "metadata": {},
     "output_type": "execute_result"
    }
   ],
   "source": [
    "regular_contact_freq_index = create_index(data, ['01045', '01046', '01047'], [3,2,1])\n",
    "other_contact_freq_index = create_index(data, ['01050', '01051', '01052'], [3,2,1])\n",
    "communication_index = create_index(data, ['01045', '01046', '01047', '01050', '01051', '01052', '00561', '00560', '00559'], [3,2,1,3,2,1,3,2,1])\n",
    "communication_index.head()"
   ]
  },
  {
   "cell_type": "code",
   "execution_count": 18,
   "metadata": {},
   "outputs": [
    {
     "data": {
      "text/plain": [
       "<matplotlib.axes._subplots.AxesSubplot at 0x10a8c2668>"
      ]
     },
     "execution_count": 18,
     "metadata": {},
     "output_type": "execute_result"
    },
    {
     "data": {
      "image/png": "[encoded data removed]",
      "text/plain": [
       "<Figure size 432x288 with 1 Axes>"
      ]
     },
     "metadata": {},
     "output_type": "display_data"
    }
   ],
   "source": [
    "communication_index.hist()"
   ]
  },
  {
   "cell_type": "code",
   "execution_count": 19,
   "metadata": {},
   "outputs": [
    {
     "data": {
      "text/plain": [
       "0    0.042559\n",
       "1    0.042366\n",
       "2    0.037399\n",
       "3    0.040205\n",
       "4    0.040989\n",
       "dtype: float64"
      ]
     },
     "execution_count": 19,
     "metadata": {},
     "output_type": "execute_result"
    }
   ],
   "source": [
    "contact_type_ratio = regular_contact_freq_index / (regular_contact_freq_index + other_contact_freq_index)\n",
    "contact_type_ratio = (contact_type_ratio - contact_type_ratio.min()) / (contact_type_ratio.max() - contact_type_ratio.min())\n",
    "contact_type_ratio.head()"
   ]
  },
  {
   "cell_type": "code",
   "execution_count": 20,
   "metadata": {},
   "outputs": [
    {
     "data": {
      "text/plain": [
       "<matplotlib.axes._subplots.AxesSubplot at 0x10aa45710>"
      ]
     },
     "execution_count": 20,
     "metadata": {},
     "output_type": "execute_result"
    },
    {
     "data": {
      "image/png": "[encoded data removed]",
      "text/plain": [
       "<Figure size 432x288 with 1 Axes>"
      ]
     },
     "metadata": {},
     "output_type": "display_data"
    }
   ],
   "source": [
    "contact_type_ratio.hist()"
   ]
  },
  {
   "cell_type": "markdown",
   "metadata": {},
   "source": [
    "#### Type of interaction\n",
    "\n",
    "Regular Contacts:\n",
    "\n",
    "| Estimate Code | Weight | Name | \n",
    "| ------------- | ------ | ---- |\n",
    "|01030|1|Percent of workers, type of interaction with regular contacts is factual info exchange|\n",
    "|01031|2|Percent of workers, type of interaction with regular contacts is coordinating\n",
    "|01032|3|Percent of workers, type of interaction with regular contacts is gentle persuading|\n",
    "|01033|4|Percent of workers, type of interaction with regular contacts is influencing|\n",
    "|01034|5|Percent of workers, type of interaction with regular contacts is resolving controversial issues|\n",
    "\n",
    "Other Contacts:\n",
    "\n",
    "| Estimate Code | Weight | Name | \n",
    "| ------------- | ------ | ---- |\n",
    "|01036|1|Percent of workers, type of interaction with other contacts is factual info exchange|\n",
    "|01037|2|Percent of workers, type of interaction with other contacts is coordinating\n",
    "|01038|3|Percent of workers, type of interaction with other contacts is gentle persuading|\n",
    "|01039|4|Percent of workers, type of interaction with other contacts is influencing|\n",
    "|01040|5|Percent of workers, type of interaction with other contacts is resolving controversial issues|"
   ]
  },
  {
   "cell_type": "code",
   "execution_count": 21,
   "metadata": {},
   "outputs": [
    {
     "data": {
      "text/plain": [
       "<matplotlib.axes._subplots.AxesSubplot at 0x10ab23400>"
      ]
     },
     "execution_count": 21,
     "metadata": {},
     "output_type": "execute_result"
    },
    {
     "data": {
      "image/png": "[encoded data removed]",
      "text/plain": [
       "<Figure size 432x288 with 1 Axes>"
      ]
     },
     "metadata": {},
     "output_type": "display_data"
    }
   ],
   "source": [
    "regular_interaction_type_index = create_index(data, ['01030', '01031', '01032', '01033', '01034'], [1,2,3,4,5])\n",
    "other_interaction_type_index = create_index(data, ['01036', '01037', '01038', '01039', '01040'], [1,2,3,4,5])\n",
    "interaction_type_index = regular_interaction_type_index * contact_type_ratio + other_interaction_type_index * (1 - contact_type_ratio)\n",
    "interaction_type_index.hist()"
   ]
  },
  {
   "cell_type": "code",
   "execution_count": 22,
   "metadata": {},
   "outputs": [
    {
     "data": {
      "text/plain": [
       "(201, 156)"
      ]
     },
     "execution_count": 22,
     "metadata": {},
     "output_type": "execute_result"
    }
   ],
   "source": [
    "interaction_type_index.idxmax(), interaction_type_index.idxmin()"
   ]
  },
  {
   "cell_type": "code",
   "execution_count": 23,
   "metadata": {},
   "outputs": [
    {
     "data": {
      "text/plain": [
       "('251032', '393011')"
      ]
     },
     "execution_count": 23,
     "metadata": {},
     "output_type": "execute_result"
    }
   ],
   "source": [
    "data['soc_code'][84], data['soc_code'][184]"
   ]
  },
  {
   "cell_type": "markdown",
   "metadata": {},
   "source": [
    "### Entry-level/Experienced\n",
    "\n",
    "| Estimate code | Name |\n",
    "|---------------|------|\n",
    "|00107|Percent of workers, prior work experience is required|\n",
    "|00111|Days of prior work experience (50th Percentile - median)|\n",
    "|00098|Percent of workers, pre-employment training is required|\n",
    "|00104|Days of pre-employment training (50th Percentile - median)|\n",
    "|00122|Percent of workers, post-employment training is required|\n",
    "|00119|Days of post-employment training (50th Percentile - median)|"
   ]
  },
  {
   "cell_type": "code",
   "execution_count": 24,
   "metadata": {},
   "outputs": [
    {
     "data": {
      "text/plain": [
       "<matplotlib.axes._subplots.AxesSubplot at 0x10abd89b0>"
      ]
     },
     "execution_count": 24,
     "metadata": {},
     "output_type": "execute_result"
    },
    {
     "data": {
      "image/png": "[encoded data removed]",
      "text/plain": [
       "<Figure size 432x288 with 1 Axes>"
      ]
     },
     "metadata": {},
     "output_type": "display_data"
    }
   ],
   "source": [
    "experience_index = create_index(data, ['00107', '00111', '00098', '00104', '00122', '00119'])\n",
    "experience_index.hist()"
   ]
  },
  {
   "cell_type": "markdown",
   "metadata": {},
   "source": [
    "### Ambiguous Decision Making\n",
    "\n",
    "| Estimate code | Weight | Name |\n",
    "| ------------- | ------ | ---- |\n",
    "| 01068|1|Percent of workers, type of decision making is no set responses|\n",
    "|01069|2|Percent of workers, type of decision making is degree of uncertainty or complexity|"
   ]
  },
  {
   "cell_type": "code",
   "execution_count": 25,
   "metadata": {},
   "outputs": [
    {
     "data": {
      "text/plain": [
       "<matplotlib.axes._subplots.AxesSubplot at 0x10ab01f60>"
      ]
     },
     "execution_count": 25,
     "metadata": {},
     "output_type": "execute_result"
    },
    {
     "data": {
      "image/png": "[encoded data removed]",
      "text/plain": [
       "<Figure size 432x288 with 1 Axes>"
      ]
     },
     "metadata": {},
     "output_type": "display_data"
    }
   ],
   "source": [
    "uncertain_decisions_index = create_index(data, ['01068', '01069'], [1, 2])\n",
    "uncertain_decisions_index.hist()"
   ]
  },
  {
   "cell_type": "markdown",
   "metadata": {},
   "source": [
    "## Outputting Values\n",
    "\n",
    "\n",
    "    Physicality\n",
    "    Pace of work\n",
    "    Variety\n",
    "    Danger\n",
    "    Communication\n",
    "        Type of interaction\n",
    "    Entry-level/experienced\n",
    "    Ambiguous decision making"
   ]
  },
  {
   "cell_type": "code",
   "execution_count": 53,
   "metadata": {},
   "outputs": [
    {
     "data": {
      "text/html": [
       "<div>\n",
       "<style scoped>\n",
       "    .dataframe tbody tr th:only-of-type {\n",
       "        vertical-align: middle;\n",
       "    }\n",
       "\n",
       "    .dataframe tbody tr th {\n",
       "        vertical-align: top;\n",
       "    }\n",
       "\n",
       "    .dataframe thead th {\n",
       "        text-align: right;\n",
       "    }\n",
       "</style>\n",
       "<table border=\"1\" class=\"dataframe\">\n",
       "  <thead>\n",
       "    <tr style=\"text-align: right;\">\n",
       "      <th></th>\n",
       "      <th>communication</th>\n",
       "      <th>danger</th>\n",
       "      <th>experience</th>\n",
       "      <th>interaction_complexity</th>\n",
       "      <th>pace_of_work</th>\n",
       "      <th>physicality</th>\n",
       "      <th>uncertain_decisions</th>\n",
       "      <th>variety</th>\n",
       "    </tr>\n",
       "    <tr>\n",
       "      <th>soc_code</th>\n",
       "      <th></th>\n",
       "      <th></th>\n",
       "      <th></th>\n",
       "      <th></th>\n",
       "      <th></th>\n",
       "      <th></th>\n",
       "      <th></th>\n",
       "      <th></th>\n",
       "    </tr>\n",
       "  </thead>\n",
       "  <tbody>\n",
       "    <tr>\n",
       "      <th>000000</th>\n",
       "      <td>0.217566</td>\n",
       "      <td>0.230495</td>\n",
       "      <td>1.050002</td>\n",
       "      <td>0.515043</td>\n",
       "      <td>0.834583</td>\n",
       "      <td>0.399198</td>\n",
       "      <td>0.334232</td>\n",
       "      <td>1.402005</td>\n",
       "    </tr>\n",
       "    <tr>\n",
       "      <th>110000</th>\n",
       "      <td>0.215913</td>\n",
       "      <td>-0.299971</td>\n",
       "      <td>1.707406</td>\n",
       "      <td>2.282190</td>\n",
       "      <td>0.711158</td>\n",
       "      <td>-0.449087</td>\n",
       "      <td>1.769540</td>\n",
       "      <td>1.588060</td>\n",
       "    </tr>\n",
       "    <tr>\n",
       "      <th>111011</th>\n",
       "      <td>0.540168</td>\n",
       "      <td>-0.541306</td>\n",
       "      <td>0.398697</td>\n",
       "      <td>2.333767</td>\n",
       "      <td>-0.219166</td>\n",
       "      <td>-0.751402</td>\n",
       "      <td>2.237894</td>\n",
       "      <td>0.452748</td>\n",
       "    </tr>\n",
       "    <tr>\n",
       "      <th>111021</th>\n",
       "      <td>0.777170</td>\n",
       "      <td>-0.300960</td>\n",
       "      <td>0.440351</td>\n",
       "      <td>1.839416</td>\n",
       "      <td>-0.012122</td>\n",
       "      <td>-0.428323</td>\n",
       "      <td>1.784039</td>\n",
       "      <td>1.616338</td>\n",
       "    </tr>\n",
       "    <tr>\n",
       "      <th>112021</th>\n",
       "      <td>-0.050012</td>\n",
       "      <td>-0.588087</td>\n",
       "      <td>0.349113</td>\n",
       "      <td>2.418221</td>\n",
       "      <td>-0.101094</td>\n",
       "      <td>-0.911465</td>\n",
       "      <td>1.950008</td>\n",
       "      <td>1.155236</td>\n",
       "    </tr>\n",
       "  </tbody>\n",
       "</table>\n",
       "</div>"
      ],
      "text/plain": [
       "          communication    danger  experience  interaction_complexity  \\\n",
       "soc_code                                                                \n",
       "000000         0.217566  0.230495    1.050002                0.515043   \n",
       "110000         0.215913 -0.299971    1.707406                2.282190   \n",
       "111011         0.540168 -0.541306    0.398697                2.333767   \n",
       "111021         0.777170 -0.300960    0.440351                1.839416   \n",
       "112021        -0.050012 -0.588087    0.349113                2.418221   \n",
       "\n",
       "          pace_of_work  physicality  uncertain_decisions   variety  \n",
       "soc_code                                                            \n",
       "000000        0.834583     0.399198             0.334232  1.402005  \n",
       "110000        0.711158    -0.449087             1.769540  1.588060  \n",
       "111011       -0.219166    -0.751402             2.237894  0.452748  \n",
       "111021       -0.012122    -0.428323             1.784039  1.616338  \n",
       "112021       -0.101094    -0.911465             1.950008  1.155236  "
      ]
     },
     "execution_count": 53,
     "metadata": {},
     "output_type": "execute_result"
    }
   ],
   "source": [
    "output = pandas.DataFrame({\n",
    "    'soc_code': data['soc_code'],\n",
    "    'physicality': physicality_index,\n",
    "    'pace_of_work': pace_of_work_index,\n",
    "    'variety': variety_index,\n",
    "    'danger': danger_index,\n",
    "    'communication': communication_index,\n",
    "    'interaction_complexity': interaction_type_index,\n",
    "    'experience': experience_index,\n",
    "    'uncertain_decisions': uncertain_decisions_index\n",
    "})\n",
    "output.set_index('soc_code', inplace=True)\n",
    "output.head()"
   ]
  },
  {
   "cell_type": "code",
   "execution_count": 54,
   "metadata": {},
   "outputs": [
    {
     "data": {
      "text/plain": [
       "array([[<matplotlib.axes._subplots.AxesSubplot object at 0x10b9998d0>,\n",
       "        <matplotlib.axes._subplots.AxesSubplot object at 0x10ba66828>,\n",
       "        <matplotlib.axes._subplots.AxesSubplot object at 0x10ba90eb8>],\n",
       "       [<matplotlib.axes._subplots.AxesSubplot object at 0x10bac0550>,\n",
       "        <matplotlib.axes._subplots.AxesSubplot object at 0x10bae6be0>,\n",
       "        <matplotlib.axes._subplots.AxesSubplot object at 0x10bae6c18>],\n",
       "       [<matplotlib.axes._subplots.AxesSubplot object at 0x10bb41940>,\n",
       "        <matplotlib.axes._subplots.AxesSubplot object at 0x10bb69fd0>,\n",
       "        <matplotlib.axes._subplots.AxesSubplot object at 0x10bb9a6a0>]],\n",
       "      dtype=object)"
      ]
     },
     "execution_count": 54,
     "metadata": {},
     "output_type": "execute_result"
    },
    {
     "data": {
      "image/png": "[encoded data removed]",
      "text/plain": [
       "<Figure size 432x288 with 9 Axes>"
      ]
     },
     "metadata": {},
     "output_type": "display_data"
    }
   ],
   "source": [
    "output.hist()"
   ]
  },
  {
   "cell_type": "code",
   "execution_count": 55,
   "metadata": {},
   "outputs": [
    {
     "data": {
      "text/html": [
       "<div>\n",
       "<style scoped>\n",
       "    .dataframe tbody tr th:only-of-type {\n",
       "        vertical-align: middle;\n",
       "    }\n",
       "\n",
       "    .dataframe tbody tr th {\n",
       "        vertical-align: top;\n",
       "    }\n",
       "\n",
       "    .dataframe thead th {\n",
       "        text-align: right;\n",
       "    }\n",
       "</style>\n",
       "<table border=\"1\" class=\"dataframe\">\n",
       "  <thead>\n",
       "    <tr style=\"text-align: right;\">\n",
       "      <th></th>\n",
       "      <th>occupation_text</th>\n",
       "    </tr>\n",
       "    <tr>\n",
       "      <th>soc_code</th>\n",
       "      <th></th>\n",
       "    </tr>\n",
       "  </thead>\n",
       "  <tbody>\n",
       "    <tr>\n",
       "      <th>000000</th>\n",
       "      <td>All Workers</td>\n",
       "    </tr>\n",
       "    <tr>\n",
       "      <th>111011</th>\n",
       "      <td>Chief Executives</td>\n",
       "    </tr>\n",
       "    <tr>\n",
       "      <th>111021</th>\n",
       "      <td>General and Operations Managers</td>\n",
       "    </tr>\n",
       "    <tr>\n",
       "      <th>112021</th>\n",
       "      <td>Marketing Managers</td>\n",
       "    </tr>\n",
       "    <tr>\n",
       "      <th>112022</th>\n",
       "      <td>Sales Managers</td>\n",
       "    </tr>\n",
       "  </tbody>\n",
       "</table>\n",
       "</div>"
      ],
      "text/plain": [
       "                          occupation_text\n",
       "soc_code                                 \n",
       "000000                        All Workers\n",
       "111011                   Chief Executives\n",
       "111021    General and Operations Managers\n",
       "112021                 Marketing Managers\n",
       "112022                     Sales Managers"
      ]
     },
     "execution_count": 55,
     "metadata": {},
     "output_type": "execute_result"
    }
   ],
   "source": [
    "occupations = pandas.read_csv(\n",
    "    'ordata/or.occupation', \n",
    "    delimiter='\\t', \n",
    "    index_col=False, \n",
    "    usecols=['soc_code', 'occupation_text'],\n",
    "    converters={'soc_code': lambda a: a[:6]}\n",
    ")\n",
    "occupations.set_index('soc_code', inplace=True)\n",
    "occupations.head()"
   ]
  },
  {
   "cell_type": "code",
   "execution_count": 56,
   "metadata": {},
   "outputs": [
    {
     "data": {
      "text/html": [
       "<div>\n",
       "<style scoped>\n",
       "    .dataframe tbody tr th:only-of-type {\n",
       "        vertical-align: middle;\n",
       "    }\n",
       "\n",
       "    .dataframe tbody tr th {\n",
       "        vertical-align: top;\n",
       "    }\n",
       "\n",
       "    .dataframe thead th {\n",
       "        text-align: right;\n",
       "    }\n",
       "</style>\n",
       "<table border=\"1\" class=\"dataframe\">\n",
       "  <thead>\n",
       "    <tr style=\"text-align: right;\">\n",
       "      <th></th>\n",
       "      <th>occupation_text</th>\n",
       "      <th>communication</th>\n",
       "      <th>danger</th>\n",
       "      <th>experience</th>\n",
       "      <th>interaction_complexity</th>\n",
       "      <th>pace_of_work</th>\n",
       "      <th>physicality</th>\n",
       "      <th>uncertain_decisions</th>\n",
       "      <th>variety</th>\n",
       "    </tr>\n",
       "    <tr>\n",
       "      <th>soc_code</th>\n",
       "      <th></th>\n",
       "      <th></th>\n",
       "      <th></th>\n",
       "      <th></th>\n",
       "      <th></th>\n",
       "      <th></th>\n",
       "      <th></th>\n",
       "      <th></th>\n",
       "      <th></th>\n",
       "    </tr>\n",
       "  </thead>\n",
       "  <tbody>\n",
       "    <tr>\n",
       "      <th>000000</th>\n",
       "      <td>All Workers</td>\n",
       "      <td>0.217566</td>\n",
       "      <td>0.230495</td>\n",
       "      <td>1.050002</td>\n",
       "      <td>0.515043</td>\n",
       "      <td>0.834583</td>\n",
       "      <td>0.399198</td>\n",
       "      <td>0.334232</td>\n",
       "      <td>1.402005</td>\n",
       "    </tr>\n",
       "    <tr>\n",
       "      <th>110000</th>\n",
       "      <td>Management Occupations</td>\n",
       "      <td>0.215913</td>\n",
       "      <td>-0.299971</td>\n",
       "      <td>1.707406</td>\n",
       "      <td>2.282190</td>\n",
       "      <td>0.711158</td>\n",
       "      <td>-0.449087</td>\n",
       "      <td>1.769540</td>\n",
       "      <td>1.588060</td>\n",
       "    </tr>\n",
       "    <tr>\n",
       "      <th>111011</th>\n",
       "      <td>Chief Executives</td>\n",
       "      <td>0.540168</td>\n",
       "      <td>-0.541306</td>\n",
       "      <td>0.398697</td>\n",
       "      <td>2.333767</td>\n",
       "      <td>-0.219166</td>\n",
       "      <td>-0.751402</td>\n",
       "      <td>2.237894</td>\n",
       "      <td>0.452748</td>\n",
       "    </tr>\n",
       "    <tr>\n",
       "      <th>111021</th>\n",
       "      <td>General and Operations Managers</td>\n",
       "      <td>0.777170</td>\n",
       "      <td>-0.300960</td>\n",
       "      <td>0.440351</td>\n",
       "      <td>1.839416</td>\n",
       "      <td>-0.012122</td>\n",
       "      <td>-0.428323</td>\n",
       "      <td>1.784039</td>\n",
       "      <td>1.616338</td>\n",
       "    </tr>\n",
       "    <tr>\n",
       "      <th>112021</th>\n",
       "      <td>Marketing Managers</td>\n",
       "      <td>-0.050012</td>\n",
       "      <td>-0.588087</td>\n",
       "      <td>0.349113</td>\n",
       "      <td>2.418221</td>\n",
       "      <td>-0.101094</td>\n",
       "      <td>-0.911465</td>\n",
       "      <td>1.950008</td>\n",
       "      <td>1.155236</td>\n",
       "    </tr>\n",
       "  </tbody>\n",
       "</table>\n",
       "</div>"
      ],
      "text/plain": [
       "                          occupation_text  communication    danger  \\\n",
       "soc_code                                                             \n",
       "000000                        All Workers       0.217566  0.230495   \n",
       "110000             Management Occupations       0.215913 -0.299971   \n",
       "111011                   Chief Executives       0.540168 -0.541306   \n",
       "111021    General and Operations Managers       0.777170 -0.300960   \n",
       "112021                 Marketing Managers      -0.050012 -0.588087   \n",
       "\n",
       "          experience  interaction_complexity  pace_of_work  physicality  \\\n",
       "soc_code                                                                  \n",
       "000000      1.050002                0.515043      0.834583     0.399198   \n",
       "110000      1.707406                2.282190      0.711158    -0.449087   \n",
       "111011      0.398697                2.333767     -0.219166    -0.751402   \n",
       "111021      0.440351                1.839416     -0.012122    -0.428323   \n",
       "112021      0.349113                2.418221     -0.101094    -0.911465   \n",
       "\n",
       "          uncertain_decisions   variety  \n",
       "soc_code                                 \n",
       "000000               0.334232  1.402005  \n",
       "110000               1.769540  1.588060  \n",
       "111011               2.237894  0.452748  \n",
       "111021               1.784039  1.616338  \n",
       "112021               1.950008  1.155236  "
      ]
     },
     "execution_count": 56,
     "metadata": {},
     "output_type": "execute_result"
    }
   ],
   "source": [
    "output = occupations.join(output)\n",
    "output.head()"
   ]
  },
  {
   "cell_type": "code",
   "execution_count": 57,
   "metadata": {},
   "outputs": [],
   "source": [
    "output.to_csv('calculated_metrics.csv')"
   ]
  },
  {
   "cell_type": "code",
   "execution_count": null,
   "metadata": {},
   "outputs": [],
   "source": [
    "output.sort_values(by='experience')['occupation_text']"
   ]
  },
  {
   "cell_type": "code",
   "execution_count": null,
   "metadata": {},
   "outputs": [],
   "source": [
    "pearson_corr = output.corr('pearson')\n",
    "pearson_corr"
   ]
  },
  {
   "cell_type": "code",
   "execution_count": null,
   "metadata": {},
   "outputs": [],
   "source": [
    "spearman_corr = output.corr('spearman')\n",
    "spearman_corr"
   ]
  }
 ],
 "metadata": {
  "kernelspec": {
   "display_name": "Python 3",
   "language": "python",
   "name": "python3"
  },
  "language_info": {
   "codemirror_mode": {
    "name": "ipython",
    "version": 3
   },
   "file_extension": ".py",
   "mimetype": "text/x-python",
   "name": "python",
   "nbconvert_exporter": "python",
   "pygments_lexer": "ipython3",
   "version": "3.6.4"
  }
 },
 "nbformat": 4,
 "nbformat_minor": 2
}
