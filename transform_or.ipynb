{
 "cells": [
  {
   "cell_type": "markdown",
   "metadata": {},
   "source": [
    "# Aggregate metrics for Job Characteristics\n",
    "\n",
    "Some of these indicies combine multiple metrics. All indicies are normalized.\n",
    "\n",
    "## Method\n",
    "\n",
    "For 1+ underlying methics in the Occupational Requirements dataset, the raw values will be normalized (z-scores). Those scores will be summed (possiblity weighted) and the sum is normalized to create the final metric.\n",
    "\n",
    "## Setup\n",
    "\n",
    "1. Load preprocessed or data\n",
    "2. Load metadata about estimates"
   ]
  },
  {
   "cell_type": "code",
   "execution_count": 1,
   "metadata": {},
   "outputs": [],
   "source": [
    "import matplotlib\n",
    "import pandas"
   ]
  },
  {
   "cell_type": "code",
   "execution_count": 2,
   "metadata": {},
   "outputs": [
    {
     "data": {
      "text/html": [
       "<div>\n",
       "<style scoped>\n",
       "    .dataframe tbody tr th:only-of-type {\n",
       "        vertical-align: middle;\n",
       "    }\n",
       "\n",
       "    .dataframe tbody tr th {\n",
       "        vertical-align: top;\n",
       "    }\n",
       "\n",
       "    .dataframe thead th {\n",
       "        text-align: right;\n",
       "    }\n",
       "</style>\n",
       "<table border=\"1\" class=\"dataframe\">\n",
       "  <thead>\n",
       "    <tr style=\"text-align: right;\">\n",
       "      <th></th>\n",
       "      <th>occupation_code</th>\n",
       "      <th>00728</th>\n",
       "      <th>01030</th>\n",
       "      <th>01031</th>\n",
       "      <th>01032</th>\n",
       "      <th>01033</th>\n",
       "      <th>01034</th>\n",
       "      <th>01036</th>\n",
       "      <th>01037</th>\n",
       "      <th>01038</th>\n",
       "      <th>...</th>\n",
       "      <th>00643</th>\n",
       "      <th>00803</th>\n",
       "      <th>00804</th>\n",
       "      <th>01029</th>\n",
       "      <th>01084</th>\n",
       "      <th>01085</th>\n",
       "      <th>01087</th>\n",
       "      <th>01088</th>\n",
       "      <th>01090</th>\n",
       "      <th>01091</th>\n",
       "    </tr>\n",
       "  </thead>\n",
       "  <tbody>\n",
       "    <tr>\n",
       "      <th>0</th>\n",
       "      <td>000</td>\n",
       "      <td>5.1</td>\n",
       "      <td>29.0</td>\n",
       "      <td>48.2</td>\n",
       "      <td>15.6</td>\n",
       "      <td>5.8</td>\n",
       "      <td>1.4</td>\n",
       "      <td>44.9</td>\n",
       "      <td>28.5</td>\n",
       "      <td>15.0</td>\n",
       "      <td>...</td>\n",
       "      <td>730.0</td>\n",
       "      <td>0.0</td>\n",
       "      <td>2.1</td>\n",
       "      <td>17.8</td>\n",
       "      <td>11.0</td>\n",
       "      <td>22.9</td>\n",
       "      <td>18.2</td>\n",
       "      <td>15.7</td>\n",
       "      <td>1.4</td>\n",
       "      <td>32.5</td>\n",
       "    </tr>\n",
       "    <tr>\n",
       "      <th>1</th>\n",
       "      <td>001</td>\n",
       "      <td>0.0</td>\n",
       "      <td>0.0</td>\n",
       "      <td>0.0</td>\n",
       "      <td>0.0</td>\n",
       "      <td>31.4</td>\n",
       "      <td>40.4</td>\n",
       "      <td>0.0</td>\n",
       "      <td>0.0</td>\n",
       "      <td>0.0</td>\n",
       "      <td>...</td>\n",
       "      <td>0.0</td>\n",
       "      <td>0.0</td>\n",
       "      <td>0.0</td>\n",
       "      <td>61.3</td>\n",
       "      <td>0.0</td>\n",
       "      <td>0.0</td>\n",
       "      <td>0.0</td>\n",
       "      <td>0.0</td>\n",
       "      <td>0.0</td>\n",
       "      <td>0.0</td>\n",
       "    </tr>\n",
       "    <tr>\n",
       "      <th>2</th>\n",
       "      <td>003</td>\n",
       "      <td>0.0</td>\n",
       "      <td>0.0</td>\n",
       "      <td>26.9</td>\n",
       "      <td>28.8</td>\n",
       "      <td>30.5</td>\n",
       "      <td>12.8</td>\n",
       "      <td>11.3</td>\n",
       "      <td>26.7</td>\n",
       "      <td>32.9</td>\n",
       "      <td>...</td>\n",
       "      <td>0.0</td>\n",
       "      <td>0.0</td>\n",
       "      <td>0.0</td>\n",
       "      <td>52.8</td>\n",
       "      <td>10.7</td>\n",
       "      <td>8.3</td>\n",
       "      <td>0.0</td>\n",
       "      <td>15.7</td>\n",
       "      <td>0.0</td>\n",
       "      <td>18.4</td>\n",
       "    </tr>\n",
       "    <tr>\n",
       "      <th>3</th>\n",
       "      <td>007</td>\n",
       "      <td>0.0</td>\n",
       "      <td>0.0</td>\n",
       "      <td>30.2</td>\n",
       "      <td>24.0</td>\n",
       "      <td>30.7</td>\n",
       "      <td>0.0</td>\n",
       "      <td>0.0</td>\n",
       "      <td>16.7</td>\n",
       "      <td>33.8</td>\n",
       "      <td>...</td>\n",
       "      <td>0.0</td>\n",
       "      <td>0.0</td>\n",
       "      <td>0.0</td>\n",
       "      <td>78.8</td>\n",
       "      <td>0.0</td>\n",
       "      <td>0.0</td>\n",
       "      <td>0.0</td>\n",
       "      <td>0.0</td>\n",
       "      <td>0.0</td>\n",
       "      <td>0.0</td>\n",
       "    </tr>\n",
       "    <tr>\n",
       "      <th>4</th>\n",
       "      <td>008</td>\n",
       "      <td>0.0</td>\n",
       "      <td>0.0</td>\n",
       "      <td>23.6</td>\n",
       "      <td>41.3</td>\n",
       "      <td>32.2</td>\n",
       "      <td>0.0</td>\n",
       "      <td>0.0</td>\n",
       "      <td>0.0</td>\n",
       "      <td>45.3</td>\n",
       "      <td>...</td>\n",
       "      <td>0.0</td>\n",
       "      <td>0.0</td>\n",
       "      <td>0.0</td>\n",
       "      <td>61.0</td>\n",
       "      <td>0.0</td>\n",
       "      <td>32.7</td>\n",
       "      <td>0.0</td>\n",
       "      <td>0.0</td>\n",
       "      <td>0.0</td>\n",
       "      <td>33.4</td>\n",
       "    </tr>\n",
       "  </tbody>\n",
       "</table>\n",
       "<p>5 rows × 343 columns</p>\n",
       "</div>"
      ],
      "text/plain": [
       "  occupation_code  00728  01030  01031  01032  01033  01034  01036  01037  \\\n",
       "0             000    5.1   29.0   48.2   15.6    5.8    1.4   44.9   28.5   \n",
       "1             001    0.0    0.0    0.0    0.0   31.4   40.4    0.0    0.0   \n",
       "2             003    0.0    0.0   26.9   28.8   30.5   12.8   11.3   26.7   \n",
       "3             007    0.0    0.0   30.2   24.0   30.7    0.0    0.0   16.7   \n",
       "4             008    0.0    0.0   23.6   41.3   32.2    0.0    0.0    0.0   \n",
       "\n",
       "   01038  ...    00643  00803  00804  01029  01084  01085  01087  01088  \\\n",
       "0   15.0  ...    730.0    0.0    2.1   17.8   11.0   22.9   18.2   15.7   \n",
       "1    0.0  ...      0.0    0.0    0.0   61.3    0.0    0.0    0.0    0.0   \n",
       "2   32.9  ...      0.0    0.0    0.0   52.8   10.7    8.3    0.0   15.7   \n",
       "3   33.8  ...      0.0    0.0    0.0   78.8    0.0    0.0    0.0    0.0   \n",
       "4   45.3  ...      0.0    0.0    0.0   61.0    0.0   32.7    0.0    0.0   \n",
       "\n",
       "   01090  01091  \n",
       "0    1.4   32.5  \n",
       "1    0.0    0.0  \n",
       "2    0.0   18.4  \n",
       "3    0.0    0.0  \n",
       "4    0.0   33.4  \n",
       "\n",
       "[5 rows x 343 columns]"
      ]
     },
     "execution_count": 2,
     "metadata": {},
     "output_type": "execute_result"
    }
   ],
   "source": [
    "data = pandas.read_csv('ordata-processed.csv')\n",
    "data.head()"
   ]
  },
  {
   "cell_type": "code",
   "execution_count": 3,
   "metadata": {},
   "outputs": [
    {
     "data": {
      "text/html": [
       "<div>\n",
       "<style scoped>\n",
       "    .dataframe tbody tr th:only-of-type {\n",
       "        vertical-align: middle;\n",
       "    }\n",
       "\n",
       "    .dataframe tbody tr th {\n",
       "        vertical-align: top;\n",
       "    }\n",
       "\n",
       "    .dataframe thead th {\n",
       "        text-align: right;\n",
       "    }\n",
       "</style>\n",
       "<table border=\"1\" class=\"dataframe\">\n",
       "  <thead>\n",
       "    <tr style=\"text-align: right;\">\n",
       "      <th></th>\n",
       "      <th>estimate_code</th>\n",
       "      <th>estimate_text</th>\n",
       "      <th>display_level</th>\n",
       "      <th>selectable</th>\n",
       "      <th>sort_sequence</th>\n",
       "    </tr>\n",
       "  </thead>\n",
       "  <tbody>\n",
       "    <tr>\n",
       "      <th>0</th>\n",
       "      <td>00064</td>\n",
       "      <td>Percent of workers, svp is short demonstration...</td>\n",
       "      <td>0</td>\n",
       "      <td>T</td>\n",
       "      <td>889</td>\n",
       "    </tr>\n",
       "    <tr>\n",
       "      <th>1</th>\n",
       "      <td>00065</td>\n",
       "      <td>Percent of workers, svp is beyond short demons...</td>\n",
       "      <td>0</td>\n",
       "      <td>T</td>\n",
       "      <td>890</td>\n",
       "    </tr>\n",
       "    <tr>\n",
       "      <th>2</th>\n",
       "      <td>00066</td>\n",
       "      <td>Percent of workers, svp is over 1 month, up to...</td>\n",
       "      <td>0</td>\n",
       "      <td>T</td>\n",
       "      <td>891</td>\n",
       "    </tr>\n",
       "    <tr>\n",
       "      <th>3</th>\n",
       "      <td>00067</td>\n",
       "      <td>Percent of workers, svp is over 3 months, up t...</td>\n",
       "      <td>0</td>\n",
       "      <td>T</td>\n",
       "      <td>892</td>\n",
       "    </tr>\n",
       "    <tr>\n",
       "      <th>4</th>\n",
       "      <td>00068</td>\n",
       "      <td>Percent of workers, svp is over 6 months, up t...</td>\n",
       "      <td>0</td>\n",
       "      <td>T</td>\n",
       "      <td>893</td>\n",
       "    </tr>\n",
       "  </tbody>\n",
       "</table>\n",
       "</div>"
      ],
      "text/plain": [
       "  estimate_code                                      estimate_text  \\\n",
       "0         00064  Percent of workers, svp is short demonstration...   \n",
       "1         00065  Percent of workers, svp is beyond short demons...   \n",
       "2         00066  Percent of workers, svp is over 1 month, up to...   \n",
       "3         00067  Percent of workers, svp is over 3 months, up t...   \n",
       "4         00068  Percent of workers, svp is over 6 months, up t...   \n",
       "\n",
       "   display_level selectable  sort_sequence  \n",
       "0              0          T            889  \n",
       "1              0          T            890  \n",
       "2              0          T            891  \n",
       "3              0          T            892  \n",
       "4              0          T            893  "
      ]
     },
     "execution_count": 3,
     "metadata": {},
     "output_type": "execute_result"
    }
   ],
   "source": [
    "metadata = pandas.read_csv('ordata/or.estimate', delimiter='\\t', index_col=False)\n",
    "metadata['estimate_code'] = metadata['estimate_code'].map(lambda c: '{:05d}'.format(c))\n",
    "metadata.head()"
   ]
  },
  {
   "cell_type": "markdown",
   "metadata": {},
   "source": [
    "## Indicies\n",
    "\n",
    "Aggregate metrics/indices for:\n",
    "- Physicality\n",
    "- Pace of work\n",
    "- Variety\n",
    "- Danger\n",
    "- Communication\n",
    " - Type of interaction\n",
    "- Entry-level/experienced\n",
    "- Ambiguous decision making\n",
    "\n",
    "### Physicality Index\n",
    "\n",
    "Combines underlying metrics:\n",
    "\n",
    "| Estimate code | Name |\n",
    "|---------------|------|\n",
    "|00128|Hours of standing/walking (50th Percentile - median)|\n",
    "|01006|Percent of day where standing/walking is required (50th Percentile - median)|\n",
    "|00235|Pounds maximum weight lifted/carried (25th Percentile)|\n",
    "|00236|Pounds maximum weight lifted/carried (50th Percentile - median)|\n",
    "|00758|Percent of workers, crawling is required|\n",
    "|00759|Percent of workers, crouching is required|\n",
    "|00647|Percent of workers, pushing/pulling with feet only is required, frequently|\n",
    "|00648|Percent of workers, pushing/pulling with feet only is required, constantly|\n",
    "|00298|Percent of workers, pushing/pulling with feet/legs is required, frequently|\n",
    "|00828|Percent of workers, pushing/pulling with feet/legs is required|\n",
    "|00829|Percent of workers, pushing/pulling with hands/arms is required|\n",
    "|00364|Percent of workers, climbing ramps or stairs (structure-related) is required|\n",
    "|00752|Percent of workers, climbing ramps or stairs (work-related) is required|\n",
    "|00751|Percent of workers, climbing ladders, ropes, or scaffolds is required|\n",
    "|00398|Percent of workers, stooping is required, frequently|\n",
    "|00411|Percent of workers, kneeling is required, occasionally|\n",
    "|00663|Percent of workers, strength is medium work|\n",
    "|00664|Percent of workers, strength is heavy work|\n",
    "|00665|Percent of workers, strength is very heavy work|\n",
    "|00827|Percent of workers, pushing/pulling with feet only is required|"
   ]
  },
  {
   "cell_type": "code",
   "execution_count": 4,
   "metadata": {},
   "outputs": [],
   "source": [
    "codes = [\n",
    "'00128',\n",
    "'01006',\n",
    "'00235',\n",
    "'00236',\n",
    "'00758',\n",
    "'00759',\n",
    "'00647',\n",
    "'00648',\n",
    "'00298',\n",
    "'00828',\n",
    "'00829',\n",
    "'00364',\n",
    "'00752',\n",
    "'00751',\n",
    "'00398',\n",
    "'00411',\n",
    "'00663',\n",
    "'00664',\n",
    "'00665',\n",
    "'00827'\n",
    "]"
   ]
  },
  {
   "cell_type": "code",
   "execution_count": 84,
   "metadata": {},
   "outputs": [
    {
     "data": {
      "text/plain": [
       "<matplotlib.axes._subplots.AxesSubplot at 0x113e08780>"
      ]
     },
     "execution_count": 84,
     "metadata": {},
     "output_type": "execute_result"
    },
    {
     "data": {
      "image/png": "[encoded data removed]",
      "text/plain": [
       "<Figure size 432x288 with 1 Axes>"
      ]
     },
     "metadata": {},
     "output_type": "display_data"
    }
   ],
   "source": [
    "data['00235'].hist()"
   ]
  },
  {
   "cell_type": "code",
   "execution_count": 5,
   "metadata": {},
   "outputs": [
    {
     "data": {
      "text/html": [
       "<div>\n",
       "<style scoped>\n",
       "    .dataframe tbody tr th:only-of-type {\n",
       "        vertical-align: middle;\n",
       "    }\n",
       "\n",
       "    .dataframe tbody tr th {\n",
       "        vertical-align: top;\n",
       "    }\n",
       "\n",
       "    .dataframe thead th {\n",
       "        text-align: right;\n",
       "    }\n",
       "</style>\n",
       "<table border=\"1\" class=\"dataframe\">\n",
       "  <thead>\n",
       "    <tr style=\"text-align: right;\">\n",
       "      <th></th>\n",
       "      <th>00128</th>\n",
       "      <th>00235</th>\n",
       "      <th>00236</th>\n",
       "      <th>00298</th>\n",
       "      <th>00364</th>\n",
       "      <th>00398</th>\n",
       "      <th>00411</th>\n",
       "      <th>00647</th>\n",
       "      <th>00648</th>\n",
       "      <th>00663</th>\n",
       "      <th>...</th>\n",
       "      <th>00665</th>\n",
       "      <th>00751</th>\n",
       "      <th>00752</th>\n",
       "      <th>00758</th>\n",
       "      <th>00759</th>\n",
       "      <th>00827</th>\n",
       "      <th>00828</th>\n",
       "      <th>00829</th>\n",
       "      <th>00830</th>\n",
       "      <th>01006</th>\n",
       "    </tr>\n",
       "  </thead>\n",
       "  <tbody>\n",
       "    <tr>\n",
       "      <th>0</th>\n",
       "      <td>0.448901</td>\n",
       "      <td>-0.236834</td>\n",
       "      <td>0.342032</td>\n",
       "      <td>-0.054393</td>\n",
       "      <td>0.497566</td>\n",
       "      <td>-0.177239</td>\n",
       "      <td>-0.26815</td>\n",
       "      <td>-0.054393</td>\n",
       "      <td>-0.093623</td>\n",
       "      <td>0.717983</td>\n",
       "      <td>...</td>\n",
       "      <td>0.755588</td>\n",
       "      <td>0.224345</td>\n",
       "      <td>0.309129</td>\n",
       "      <td>0.218548</td>\n",
       "      <td>0.289982</td>\n",
       "      <td>0.423153</td>\n",
       "      <td>0.276998</td>\n",
       "      <td>0.255028</td>\n",
       "      <td>0.137278</td>\n",
       "      <td>0.656937</td>\n",
       "    </tr>\n",
       "    <tr>\n",
       "      <th>1</th>\n",
       "      <td>-1.096825</td>\n",
       "      <td>-0.236834</td>\n",
       "      <td>-0.984241</td>\n",
       "      <td>-0.054393</td>\n",
       "      <td>1.173077</td>\n",
       "      <td>-0.177239</td>\n",
       "      <td>-0.26815</td>\n",
       "      <td>-0.054393</td>\n",
       "      <td>-0.093623</td>\n",
       "      <td>-0.923510</td>\n",
       "      <td>...</td>\n",
       "      <td>-0.135364</td>\n",
       "      <td>-0.490730</td>\n",
       "      <td>0.114056</td>\n",
       "      <td>-0.422805</td>\n",
       "      <td>-1.389190</td>\n",
       "      <td>-0.149390</td>\n",
       "      <td>-0.804801</td>\n",
       "      <td>-0.879218</td>\n",
       "      <td>0.224480</td>\n",
       "      <td>-0.594527</td>\n",
       "    </tr>\n",
       "    <tr>\n",
       "      <th>2</th>\n",
       "      <td>-0.409836</td>\n",
       "      <td>-0.236834</td>\n",
       "      <td>-0.100059</td>\n",
       "      <td>-0.054393</td>\n",
       "      <td>0.364950</td>\n",
       "      <td>-0.177239</td>\n",
       "      <td>-0.26815</td>\n",
       "      <td>-0.054393</td>\n",
       "      <td>-0.093623</td>\n",
       "      <td>0.371446</td>\n",
       "      <td>...</td>\n",
       "      <td>-0.135364</td>\n",
       "      <td>-0.115985</td>\n",
       "      <td>0.290726</td>\n",
       "      <td>-0.422805</td>\n",
       "      <td>-0.432820</td>\n",
       "      <td>-0.149390</td>\n",
       "      <td>-0.479892</td>\n",
       "      <td>-0.483396</td>\n",
       "      <td>-0.595217</td>\n",
       "      <td>-0.469381</td>\n",
       "    </tr>\n",
       "    <tr>\n",
       "      <th>3</th>\n",
       "      <td>-1.096825</td>\n",
       "      <td>-0.825435</td>\n",
       "      <td>-0.542150</td>\n",
       "      <td>-0.054393</td>\n",
       "      <td>0.675768</td>\n",
       "      <td>-0.177239</td>\n",
       "      <td>-0.26815</td>\n",
       "      <td>-0.054393</td>\n",
       "      <td>-0.093623</td>\n",
       "      <td>-0.923510</td>\n",
       "      <td>...</td>\n",
       "      <td>-0.135364</td>\n",
       "      <td>-0.490730</td>\n",
       "      <td>0.117736</td>\n",
       "      <td>-0.422805</td>\n",
       "      <td>-1.389190</td>\n",
       "      <td>-0.149390</td>\n",
       "      <td>-0.804801</td>\n",
       "      <td>-0.879218</td>\n",
       "      <td>-1.013786</td>\n",
       "      <td>-1.095113</td>\n",
       "    </tr>\n",
       "    <tr>\n",
       "      <th>4</th>\n",
       "      <td>-0.409836</td>\n",
       "      <td>-0.236834</td>\n",
       "      <td>-0.542150</td>\n",
       "      <td>-0.054393</td>\n",
       "      <td>0.704778</td>\n",
       "      <td>-0.177239</td>\n",
       "      <td>-0.26815</td>\n",
       "      <td>-0.054393</td>\n",
       "      <td>-0.093623</td>\n",
       "      <td>-0.040751</td>\n",
       "      <td>...</td>\n",
       "      <td>-0.135364</td>\n",
       "      <td>-0.188640</td>\n",
       "      <td>0.312810</td>\n",
       "      <td>-0.422805</td>\n",
       "      <td>-0.600106</td>\n",
       "      <td>-0.149390</td>\n",
       "      <td>-0.804801</td>\n",
       "      <td>-0.879218</td>\n",
       "      <td>-0.473135</td>\n",
       "      <td>-0.469381</td>\n",
       "    </tr>\n",
       "  </tbody>\n",
       "</table>\n",
       "<p>5 rows × 21 columns</p>\n",
       "</div>"
      ],
      "text/plain": [
       "      00128     00235     00236     00298     00364     00398    00411  \\\n",
       "0  0.448901 -0.236834  0.342032 -0.054393  0.497566 -0.177239 -0.26815   \n",
       "1 -1.096825 -0.236834 -0.984241 -0.054393  1.173077 -0.177239 -0.26815   \n",
       "2 -0.409836 -0.236834 -0.100059 -0.054393  0.364950 -0.177239 -0.26815   \n",
       "3 -1.096825 -0.825435 -0.542150 -0.054393  0.675768 -0.177239 -0.26815   \n",
       "4 -0.409836 -0.236834 -0.542150 -0.054393  0.704778 -0.177239 -0.26815   \n",
       "\n",
       "      00647     00648     00663    ...        00665     00751     00752  \\\n",
       "0 -0.054393 -0.093623  0.717983    ...     0.755588  0.224345  0.309129   \n",
       "1 -0.054393 -0.093623 -0.923510    ...    -0.135364 -0.490730  0.114056   \n",
       "2 -0.054393 -0.093623  0.371446    ...    -0.135364 -0.115985  0.290726   \n",
       "3 -0.054393 -0.093623 -0.923510    ...    -0.135364 -0.490730  0.117736   \n",
       "4 -0.054393 -0.093623 -0.040751    ...    -0.135364 -0.188640  0.312810   \n",
       "\n",
       "      00758     00759     00827     00828     00829     00830     01006  \n",
       "0  0.218548  0.289982  0.423153  0.276998  0.255028  0.137278  0.656937  \n",
       "1 -0.422805 -1.389190 -0.149390 -0.804801 -0.879218  0.224480 -0.594527  \n",
       "2 -0.422805 -0.432820 -0.149390 -0.479892 -0.483396 -0.595217 -0.469381  \n",
       "3 -0.422805 -1.389190 -0.149390 -0.804801 -0.879218 -1.013786 -1.095113  \n",
       "4 -0.422805 -0.600106 -0.149390 -0.804801 -0.879218 -0.473135 -0.469381  \n",
       "\n",
       "[5 rows x 21 columns]"
      ]
     },
     "execution_count": 5,
     "metadata": {},
     "output_type": "execute_result"
    }
   ],
   "source": [
    "normalized = pandas.DataFrame({\n",
    "    c: (data[c] - data[c].mean()) / (data[c].std())\n",
    "    for c in codes\n",
    "})\n",
    "normalized.head()"
   ]
  },
  {
   "cell_type": "code",
   "execution_count": 6,
   "metadata": {},
   "outputs": [
    {
     "data": {
      "text/html": [
       "<div>\n",
       "<style scoped>\n",
       "    .dataframe tbody tr th:only-of-type {\n",
       "        vertical-align: middle;\n",
       "    }\n",
       "\n",
       "    .dataframe tbody tr th {\n",
       "        vertical-align: top;\n",
       "    }\n",
       "\n",
       "    .dataframe thead th {\n",
       "        text-align: right;\n",
       "    }\n",
       "</style>\n",
       "<table border=\"1\" class=\"dataframe\">\n",
       "  <thead>\n",
       "    <tr style=\"text-align: right;\">\n",
       "      <th></th>\n",
       "      <th>00128</th>\n",
       "      <th>00235</th>\n",
       "      <th>00236</th>\n",
       "      <th>00298</th>\n",
       "      <th>00364</th>\n",
       "      <th>00398</th>\n",
       "      <th>00411</th>\n",
       "      <th>00647</th>\n",
       "      <th>00648</th>\n",
       "      <th>00663</th>\n",
       "      <th>...</th>\n",
       "      <th>00752</th>\n",
       "      <th>00758</th>\n",
       "      <th>00759</th>\n",
       "      <th>00827</th>\n",
       "      <th>00828</th>\n",
       "      <th>00829</th>\n",
       "      <th>00830</th>\n",
       "      <th>01006</th>\n",
       "      <th>sum</th>\n",
       "      <th>index</th>\n",
       "    </tr>\n",
       "  </thead>\n",
       "  <tbody>\n",
       "    <tr>\n",
       "      <th>0</th>\n",
       "      <td>0.448901</td>\n",
       "      <td>-0.236834</td>\n",
       "      <td>0.342032</td>\n",
       "      <td>-0.054393</td>\n",
       "      <td>0.497566</td>\n",
       "      <td>-0.177239</td>\n",
       "      <td>-0.26815</td>\n",
       "      <td>-0.054393</td>\n",
       "      <td>-0.093623</td>\n",
       "      <td>0.717983</td>\n",
       "      <td>...</td>\n",
       "      <td>0.309129</td>\n",
       "      <td>0.218548</td>\n",
       "      <td>0.289982</td>\n",
       "      <td>0.423153</td>\n",
       "      <td>0.276998</td>\n",
       "      <td>0.255028</td>\n",
       "      <td>0.137278</td>\n",
       "      <td>0.656937</td>\n",
       "      <td>5.299813</td>\n",
       "      <td>0.492775</td>\n",
       "    </tr>\n",
       "    <tr>\n",
       "      <th>1</th>\n",
       "      <td>-1.096825</td>\n",
       "      <td>-0.236834</td>\n",
       "      <td>-0.984241</td>\n",
       "      <td>-0.054393</td>\n",
       "      <td>1.173077</td>\n",
       "      <td>-0.177239</td>\n",
       "      <td>-0.26815</td>\n",
       "      <td>-0.054393</td>\n",
       "      <td>-0.093623</td>\n",
       "      <td>-0.923510</td>\n",
       "      <td>...</td>\n",
       "      <td>0.114056</td>\n",
       "      <td>-0.422805</td>\n",
       "      <td>-1.389190</td>\n",
       "      <td>-0.149390</td>\n",
       "      <td>-0.804801</td>\n",
       "      <td>-0.879218</td>\n",
       "      <td>0.224480</td>\n",
       "      <td>-0.594527</td>\n",
       "      <td>-7.637030</td>\n",
       "      <td>-0.710089</td>\n",
       "    </tr>\n",
       "    <tr>\n",
       "      <th>2</th>\n",
       "      <td>-0.409836</td>\n",
       "      <td>-0.236834</td>\n",
       "      <td>-0.100059</td>\n",
       "      <td>-0.054393</td>\n",
       "      <td>0.364950</td>\n",
       "      <td>-0.177239</td>\n",
       "      <td>-0.26815</td>\n",
       "      <td>-0.054393</td>\n",
       "      <td>-0.093623</td>\n",
       "      <td>0.371446</td>\n",
       "      <td>...</td>\n",
       "      <td>0.290726</td>\n",
       "      <td>-0.422805</td>\n",
       "      <td>-0.432820</td>\n",
       "      <td>-0.149390</td>\n",
       "      <td>-0.479892</td>\n",
       "      <td>-0.483396</td>\n",
       "      <td>-0.595217</td>\n",
       "      <td>-0.469381</td>\n",
       "      <td>-4.045064</td>\n",
       "      <td>-0.376109</td>\n",
       "    </tr>\n",
       "    <tr>\n",
       "      <th>3</th>\n",
       "      <td>-1.096825</td>\n",
       "      <td>-0.825435</td>\n",
       "      <td>-0.542150</td>\n",
       "      <td>-0.054393</td>\n",
       "      <td>0.675768</td>\n",
       "      <td>-0.177239</td>\n",
       "      <td>-0.26815</td>\n",
       "      <td>-0.054393</td>\n",
       "      <td>-0.093623</td>\n",
       "      <td>-0.923510</td>\n",
       "      <td>...</td>\n",
       "      <td>0.117736</td>\n",
       "      <td>-0.422805</td>\n",
       "      <td>-1.389190</td>\n",
       "      <td>-0.149390</td>\n",
       "      <td>-0.804801</td>\n",
       "      <td>-0.879218</td>\n",
       "      <td>-1.013786</td>\n",
       "      <td>-1.095113</td>\n",
       "      <td>-10.016020</td>\n",
       "      <td>-0.931286</td>\n",
       "    </tr>\n",
       "    <tr>\n",
       "      <th>4</th>\n",
       "      <td>-0.409836</td>\n",
       "      <td>-0.236834</td>\n",
       "      <td>-0.542150</td>\n",
       "      <td>-0.054393</td>\n",
       "      <td>0.704778</td>\n",
       "      <td>-0.177239</td>\n",
       "      <td>-0.26815</td>\n",
       "      <td>-0.054393</td>\n",
       "      <td>-0.093623</td>\n",
       "      <td>-0.040751</td>\n",
       "      <td>...</td>\n",
       "      <td>0.312810</td>\n",
       "      <td>-0.422805</td>\n",
       "      <td>-0.600106</td>\n",
       "      <td>-0.149390</td>\n",
       "      <td>-0.804801</td>\n",
       "      <td>-0.879218</td>\n",
       "      <td>-0.473135</td>\n",
       "      <td>-0.469381</td>\n",
       "      <td>-5.376029</td>\n",
       "      <td>-0.499861</td>\n",
       "    </tr>\n",
       "  </tbody>\n",
       "</table>\n",
       "<p>5 rows × 23 columns</p>\n",
       "</div>"
      ],
      "text/plain": [
       "      00128     00235     00236     00298     00364     00398    00411  \\\n",
       "0  0.448901 -0.236834  0.342032 -0.054393  0.497566 -0.177239 -0.26815   \n",
       "1 -1.096825 -0.236834 -0.984241 -0.054393  1.173077 -0.177239 -0.26815   \n",
       "2 -0.409836 -0.236834 -0.100059 -0.054393  0.364950 -0.177239 -0.26815   \n",
       "3 -1.096825 -0.825435 -0.542150 -0.054393  0.675768 -0.177239 -0.26815   \n",
       "4 -0.409836 -0.236834 -0.542150 -0.054393  0.704778 -0.177239 -0.26815   \n",
       "\n",
       "      00647     00648     00663    ...        00752     00758     00759  \\\n",
       "0 -0.054393 -0.093623  0.717983    ...     0.309129  0.218548  0.289982   \n",
       "1 -0.054393 -0.093623 -0.923510    ...     0.114056 -0.422805 -1.389190   \n",
       "2 -0.054393 -0.093623  0.371446    ...     0.290726 -0.422805 -0.432820   \n",
       "3 -0.054393 -0.093623 -0.923510    ...     0.117736 -0.422805 -1.389190   \n",
       "4 -0.054393 -0.093623 -0.040751    ...     0.312810 -0.422805 -0.600106   \n",
       "\n",
       "      00827     00828     00829     00830     01006        sum     index  \n",
       "0  0.423153  0.276998  0.255028  0.137278  0.656937   5.299813  0.492775  \n",
       "1 -0.149390 -0.804801 -0.879218  0.224480 -0.594527  -7.637030 -0.710089  \n",
       "2 -0.149390 -0.479892 -0.483396 -0.595217 -0.469381  -4.045064 -0.376109  \n",
       "3 -0.149390 -0.804801 -0.879218 -1.013786 -1.095113 -10.016020 -0.931286  \n",
       "4 -0.149390 -0.804801 -0.879218 -0.473135 -0.469381  -5.376029 -0.499861  \n",
       "\n",
       "[5 rows x 23 columns]"
      ]
     },
     "execution_count": 6,
     "metadata": {},
     "output_type": "execute_result"
    }
   ],
   "source": [
    "normalized['sum'] = normalized.sum(axis=1)\n",
    "normalized['index'] = (normalized['sum'] - normalized['sum'].mean()) / normalized['sum'].std()\n",
    "normalized.head()"
   ]
  },
  {
   "cell_type": "code",
   "execution_count": 39,
   "metadata": {},
   "outputs": [],
   "source": [
    "def create_index(df, columns, weights=None):\n",
    "    if weights is None:\n",
    "        weights = [1.] * len(columns)\n",
    "    assert len(weights) == len(columns)\n",
    "    normalized = {}\n",
    "    for c, w in zip(columns, weights):\n",
    "        normalized[c] = (data[c] - data[c].mean()) / (data[c].std())\n",
    "        normalized[c] = (normalized[c] - normalized[c].min()) * w\n",
    "    normalized = pandas.DataFrame(normalized)\n",
    "    sums = normalized.sum(axis=1)\n",
    "    return (sums - sums.mean()) / sums.std()"
   ]
  },
  {
   "cell_type": "code",
   "execution_count": 40,
   "metadata": {},
   "outputs": [
    {
     "data": {
      "text/plain": [
       "0    0.492775\n",
       "1   -0.710089\n",
       "2   -0.376109\n",
       "3   -0.931286\n",
       "4   -0.499861\n",
       "dtype: float64"
      ]
     },
     "execution_count": 40,
     "metadata": {},
     "output_type": "execute_result"
    }
   ],
   "source": [
    "physicality_index = create_index(data, codes)\n",
    "physicality_index.head()"
   ]
  },
  {
   "cell_type": "code",
   "execution_count": 41,
   "metadata": {},
   "outputs": [
    {
     "data": {
      "text/plain": [
       "<matplotlib.axes._subplots.AxesSubplot at 0x10dcbd860>"
      ]
     },
     "execution_count": 41,
     "metadata": {},
     "output_type": "execute_result"
    },
    {
     "data": {
      "image/png": "[encoded data removed]",
      "text/plain": [
       "<Figure size 432x288 with 1 Axes>"
      ]
     },
     "metadata": {},
     "output_type": "display_data"
    }
   ],
   "source": [
    "physicality_index.hist()"
   ]
  },
  {
   "cell_type": "markdown",
   "metadata": {},
   "source": [
    "### Pace of work\n",
    "\n",
    "| Estimate code | Name |\n",
    "|---------------|------|\n",
    "|01071|Percent of workers, pace of work is rapid|"
   ]
  },
  {
   "cell_type": "code",
   "execution_count": 42,
   "metadata": {},
   "outputs": [
    {
     "data": {
      "text/plain": [
       "0    0.874105\n",
       "1    1.157703\n",
       "2   -0.555542\n",
       "3   -0.555542\n",
       "4   -0.555542\n",
       "dtype: float64"
      ]
     },
     "execution_count": 42,
     "metadata": {},
     "output_type": "execute_result"
    }
   ],
   "source": [
    "pace_of_work_index = create_index(data, ['01071'])\n",
    "pace_of_work_index.head()"
   ]
  },
  {
   "cell_type": "code",
   "execution_count": 43,
   "metadata": {},
   "outputs": [
    {
     "data": {
      "text/plain": [
       "<matplotlib.axes._subplots.AxesSubplot at 0x10d9313c8>"
      ]
     },
     "execution_count": 43,
     "metadata": {},
     "output_type": "execute_result"
    },
    {
     "data": {
      "image/png": "[encoded data removed]",
      "text/plain": [
       "<Figure size 432x288 with 1 Axes>"
      ]
     },
     "metadata": {},
     "output_type": "display_data"
    }
   ],
   "source": [
    "pace_of_work_index.hist()"
   ]
  },
  {
   "cell_type": "markdown",
   "metadata": {},
   "source": [
    "### Variety\n",
    "\n",
    "| Estimate code | Name |\n",
    "|---------------|------|\n",
    "|01056|Percent of workers, work location changes up to four times per year|\n",
    "|01057|Percent of workers, work location changes more than four times per year|\n",
    "|01059|Percent of workers, schedule changes yes|\n",
    "|01080|Percent of workers, pace of work with faster/slower work periods is yes|"
   ]
  },
  {
   "cell_type": "code",
   "execution_count": 44,
   "metadata": {},
   "outputs": [
    {
     "data": {
      "text/plain": [
       "0    1.694450\n",
       "1    0.475308\n",
       "2    2.197481\n",
       "3    1.212459\n",
       "4    1.539859\n",
       "dtype: float64"
      ]
     },
     "execution_count": 44,
     "metadata": {},
     "output_type": "execute_result"
    }
   ],
   "source": [
    "variety_index = create_index(data, ['01056', '01057', '01059', '01080'])\n",
    "variety_index.head()"
   ]
  },
  {
   "cell_type": "code",
   "execution_count": 45,
   "metadata": {},
   "outputs": [
    {
     "data": {
      "text/plain": [
       "<matplotlib.axes._subplots.AxesSubplot at 0x10ddff8d0>"
      ]
     },
     "execution_count": 45,
     "metadata": {},
     "output_type": "execute_result"
    },
    {
     "data": {
      "image/png": "[encoded data removed]",
      "text/plain": [
       "<Figure size 432x288 with 1 Axes>"
      ]
     },
     "metadata": {},
     "output_type": "display_data"
    }
   ],
   "source": [
    "variety_index.hist()"
   ]
  },
  {
   "cell_type": "markdown",
   "metadata": {},
   "source": [
    "### Danger\n",
    "\n",
    "| Estimate code | Name |\n",
    "|---------------|------|\n",
    "|00427|Percent of workers exposed to extreme cold, constantly|\n",
    "|00767|Percent of workers exposed to extreme cold|\n",
    "|00440|Percent of workers exposed to extreme heat, frequently|\n",
    "|00768|Percent of workers exposed to extreme heat|\n",
    "|00454|Percent of workers exposed to wetness, frequently|\n",
    "|00455|Percent of workers exposed to wetness, constantly|\n",
    "|00845|Percent of workers exposed to wetness|\n",
    "|00797|Percent of workers exposed to humidity|\n",
    "|00786|Percent of workers exposed to hazardous contaminants|\n",
    "|00787|Percent of workers exposed to hazardous contaminants, fully mitigated|\n",
    "|00791|Percent of workers exposed to heavy vibrations|\n",
    "|00792|Percent of workers exposed to high, exposed places|\n",
    "|00793|Percent of workers exposed to high, exposed places, fully mitigated|\n",
    "|00615|Percent of workers exposed to outdoors, frequently|\n",
    "|00616|Percent of workers exposed to outdoors, constantly|\n",
    "|00815|Percent of workers exposed to outdoors|\n",
    "|00573|Percent of workers exposed to loud noise intensity level|\n",
    "|00574|Percent of workers exposed to very loud noise intensity level|"
   ]
  },
  {
   "cell_type": "code",
   "execution_count": 46,
   "metadata": {},
   "outputs": [
    {
     "data": {
      "text/plain": [
       "0    0.608791\n",
       "1   -0.509271\n",
       "2   -0.351598\n",
       "3   -0.529763\n",
       "4   -0.477826\n",
       "dtype: float64"
      ]
     },
     "execution_count": 46,
     "metadata": {},
     "output_type": "execute_result"
    }
   ],
   "source": [
    "danger_index = create_index(data, ['00427',\n",
    "'00767',\n",
    "'00440',\n",
    "'00768',\n",
    "'00454',\n",
    "'00455',\n",
    "'00845',\n",
    "'00797',\n",
    "'00786',\n",
    "'00787',\n",
    "'00791',\n",
    "'00792',\n",
    "'00793',\n",
    "'00615',\n",
    "'00616',\n",
    "'00815',\n",
    "'00573',\n",
    "'00574'])\n",
    "danger_index.head()"
   ]
  },
  {
   "cell_type": "code",
   "execution_count": 47,
   "metadata": {},
   "outputs": [
    {
     "data": {
      "text/plain": [
       "<matplotlib.axes._subplots.AxesSubplot at 0x10ded7128>"
      ]
     },
     "execution_count": 47,
     "metadata": {},
     "output_type": "execute_result"
    },
    {
     "data": {
      "image/png": "[encoded data removed]",
      "text/plain": [
       "<Figure size 432x288 with 1 Axes>"
      ]
     },
     "metadata": {},
     "output_type": "display_data"
    }
   ],
   "source": [
    "danger_index.hist()"
   ]
  },
  {
   "cell_type": "markdown",
   "metadata": {},
   "source": [
    "### Communication\n",
    "\n",
    "| Estimate code | Weight | Name |\n",
    "|---------------|--------|------|\n",
    "|01045|3|Percent of workers, frequency of contact with other contacts is continuous|\n",
    "|01046|2|Percent of workers, frequency of contact with other contacts is more than once per hour|\n",
    "|01047|1|Percent of workers, frequency of contact with other contacts is more than once per day|\n",
    "|01050|3|Percent of workers, frequency of contact with regular contacts is continuous|\t\n",
    "|01051|2|Percent of workers, frequency of contact with regular contacts is more than once per hour|\n",
    "|01052|1|Percent of workers, frequency of contact with regular contacts is more than once per day|\n",
    "|00561|3|Percent of workers, communicating verbally is required, constantly|\n",
    "|00560|2|Percent of workers, communicating verbally is required, frequently|\n",
    "|00559|1|Percent of workers, communicating verbally is required, occasionally|"
   ]
  },
  {
   "cell_type": "code",
   "execution_count": 48,
   "metadata": {},
   "outputs": [
    {
     "data": {
      "text/plain": [
       "0    0.318742\n",
       "1    0.347694\n",
       "2    0.589403\n",
       "3   -0.196019\n",
       "4    1.281263\n",
       "dtype: float64"
      ]
     },
     "execution_count": 48,
     "metadata": {},
     "output_type": "execute_result"
    }
   ],
   "source": [
    "regular_contact_freq_index = create_index(data, ['01045', '01046', '01047'], [3,2,1])\n",
    "other_contact_freq_index = create_index(data, ['01050', '01051', '01052'], [3,2,1])\n",
    "communication_index = create_index(data, ['01045', '01046', '01047', '01050', '01051', '01052', '00561', '00560', '00559'], [3,2,1,3,2,1,3,2,1])\n",
    "communication_index.head()"
   ]
  },
  {
   "cell_type": "code",
   "execution_count": 49,
   "metadata": {},
   "outputs": [
    {
     "data": {
      "text/plain": [
       "<matplotlib.axes._subplots.AxesSubplot at 0x10e042c50>"
      ]
     },
     "execution_count": 49,
     "metadata": {},
     "output_type": "execute_result"
    },
    {
     "data": {
      "image/png": "[encoded data removed]",
      "text/plain": [
       "<Figure size 432x288 with 1 Axes>"
      ]
     },
     "metadata": {},
     "output_type": "display_data"
    }
   ],
   "source": [
    "communication_index.hist()"
   ]
  },
  {
   "cell_type": "code",
   "execution_count": 53,
   "metadata": {},
   "outputs": [
    {
     "data": {
      "text/plain": [
       "0    0.703897\n",
       "1    0.700646\n",
       "2    0.709210\n",
       "3    0.702590\n",
       "4    0.703909\n",
       "dtype: float64"
      ]
     },
     "execution_count": 53,
     "metadata": {},
     "output_type": "execute_result"
    }
   ],
   "source": [
    "contact_type_ratio = regular_contact_freq_index / (regular_contact_freq_index + other_contact_freq_index)\n",
    "contact_type_ratio = (contact_type_ratio - contact_type_ratio.min()) / (contact_type_ratio.max() - contact_type_ratio.min())\n",
    "contact_type_ratio.head()"
   ]
  },
  {
   "cell_type": "code",
   "execution_count": 54,
   "metadata": {},
   "outputs": [
    {
     "data": {
      "text/plain": [
       "<matplotlib.axes._subplots.AxesSubplot at 0x10e11eeb8>"
      ]
     },
     "execution_count": 54,
     "metadata": {},
     "output_type": "execute_result"
    },
    {
     "data": {
      "image/png": "[encoded data removed]",
      "text/plain": [
       "<Figure size 432x288 with 1 Axes>"
      ]
     },
     "metadata": {},
     "output_type": "display_data"
    }
   ],
   "source": [
    "contact_type_ratio.hist()"
   ]
  },
  {
   "cell_type": "markdown",
   "metadata": {},
   "source": [
    "#### Type of interaction\n",
    "\n",
    "Regular Contacts:\n",
    "\n",
    "| Estimate Code | Weight | Name | \n",
    "| ------------- | ------ | ---- |\n",
    "|01030|1|Percent of workers, type of interaction with regular contacts is factual info exchange|\n",
    "|01031|2|Percent of workers, type of interaction with regular contacts is coordinating\n",
    "|01032|3|Percent of workers, type of interaction with regular contacts is gentle persuading|\n",
    "|01033|4|Percent of workers, type of interaction with regular contacts is influencing|\n",
    "|01034|5|Percent of workers, type of interaction with regular contacts is resolving controversial issues|\n",
    "\n",
    "| Estimate Code | Weight | Name | \n",
    "| ------------- | ------ | ---- |\n",
    "|01036|1|Percent of workers, type of interaction with other contacts is factual info exchange|\n",
    "|01037|2|Percent of workers, type of interaction with other contacts is coordinating\n",
    "|01038|3|Percent of workers, type of interaction with other contacts is gentle persuading|\n",
    "|01039|4|Percent of workers, type of interaction with other contacts is influencing|\n",
    "|01040|5|Percent of workers, type of interaction with other contacts is resolving controversial issues|"
   ]
  },
  {
   "cell_type": "code",
   "execution_count": 55,
   "metadata": {},
   "outputs": [
    {
     "data": {
      "text/plain": [
       "<matplotlib.axes._subplots.AxesSubplot at 0x10e1ebb00>"
      ]
     },
     "execution_count": 55,
     "metadata": {},
     "output_type": "execute_result"
    },
    {
     "data": {
      "image/png": "[encoded data removed]",
      "text/plain": [
       "<Figure size 432x288 with 1 Axes>"
      ]
     },
     "metadata": {},
     "output_type": "display_data"
    }
   ],
   "source": [
    "regular_interaction_type_index = create_index(data, ['01030', '01031', '01032', '01033', '01034'], [1,2,3,4,5])\n",
    "other_interaction_type_index = create_index(data, ['01036', '01037', '01038', '01039', '01040'], [1,2,3,4,5])\n",
    "interaction_type_index = regular_interaction_type_index * contact_type_ratio + other_interaction_type_index * (1 - contact_type_ratio)\n",
    "interaction_type_index.hist()"
   ]
  },
  {
   "cell_type": "code",
   "execution_count": 56,
   "metadata": {},
   "outputs": [
    {
     "data": {
      "text/plain": [
       "(84, 184)"
      ]
     },
     "execution_count": 56,
     "metadata": {},
     "output_type": "execute_result"
    }
   ],
   "source": [
    "interaction_type_index.idxmax(), interaction_type_index.idxmin()"
   ]
  },
  {
   "cell_type": "code",
   "execution_count": 57,
   "metadata": {},
   "outputs": [
    {
     "data": {
      "text/plain": [
       "('327', '596')"
      ]
     },
     "execution_count": 57,
     "metadata": {},
     "output_type": "execute_result"
    }
   ],
   "source": [
    "data['occupation_code'][84], data['occupation_code'][184]"
   ]
  },
  {
   "cell_type": "markdown",
   "metadata": {},
   "source": [
    "### Entry-level/Experienced\n",
    "\n",
    "| Estimate code | Name |\n",
    "|---------------|------|\n",
    "|00107|Percent of workers, prior work experience is required|\n",
    "|00111|Days of prior work experience (50th Percentile - median)|\n",
    "|00098|Percent of workers, pre-employment training is required|\n",
    "|00104|Days of pre-employment training (50th Percentile - median)|\n",
    "|00122|Percent of workers, post-employment training is required|\n",
    "|00119|Days of post-employment training (50th Percentile - median)|"
   ]
  },
  {
   "cell_type": "code",
   "execution_count": 59,
   "metadata": {},
   "outputs": [
    {
     "data": {
      "text/plain": [
       "<matplotlib.axes._subplots.AxesSubplot at 0x10e2bca90>"
      ]
     },
     "execution_count": 59,
     "metadata": {},
     "output_type": "execute_result"
    },
    {
     "data": {
      "image/png": "[encoded data removed]",
      "text/plain": [
       "<Figure size 432x288 with 1 Axes>"
      ]
     },
     "metadata": {},
     "output_type": "display_data"
    }
   ],
   "source": [
    "experience_index = create_index(data, ['00107', '00111', '00098', '00104', '00122', '00119'])\n",
    "experience_index.hist()"
   ]
  },
  {
   "cell_type": "markdown",
   "metadata": {},
   "source": [
    "### Ambiguous Decision Making\n",
    "\n",
    "| Estimate code | Weight | Name |\n",
    "| ------------- | ------ | ---- |\n",
    "| 01068|1|Percent of workers, type of decision making is no set responses|\n",
    "|01069|2|Percent of workers, type of decision making is degree of uncertainty or complexity|"
   ]
  },
  {
   "cell_type": "code",
   "execution_count": 73,
   "metadata": {},
   "outputs": [
    {
     "data": {
      "text/plain": [
       "<matplotlib.axes._subplots.AxesSubplot at 0x10e60d2e8>"
      ]
     },
     "execution_count": 73,
     "metadata": {},
     "output_type": "execute_result"
    },
    {
     "data": {
      "image/png": "[encoded data removed]",
      "text/plain": [
       "<Figure size 432x288 with 1 Axes>"
      ]
     },
     "metadata": {},
     "output_type": "display_data"
    }
   ],
   "source": [
    "uncertain_decisions_index = create_index(data, ['01068', '01069'], [1, 2])\n",
    "uncertain_decisions_index.hist()"
   ]
  },
  {
   "cell_type": "code",
   "execution_count": 72,
   "metadata": {},
   "outputs": [
    {
     "data": {
      "text/plain": [
       "('001', '009')"
      ]
     },
     "execution_count": 72,
     "metadata": {},
     "output_type": "execute_result"
    }
   ],
   "source": [
    "data['occupation_code'][uncertain_decisions_index.idxmax()], data['occupation_code'][uncertain_decisions_index.idxmin()]"
   ]
  },
  {
   "cell_type": "markdown",
   "metadata": {},
   "source": [
    "## Outputting Values\n",
    "\n",
    "\n",
    "    Physicality\n",
    "    Pace of work\n",
    "    Variety\n",
    "    Danger\n",
    "    Communication\n",
    "        Type of interaction\n",
    "    Entry-level/experienced\n",
    "    Ambiguous decision making"
   ]
  },
  {
   "cell_type": "code",
   "execution_count": 120,
   "metadata": {},
   "outputs": [],
   "source": [
    "output = pandas.DataFrame({\n",
    "    'occupation_code': data['occupation_code'],\n",
    "    'physicality': physicality_index,\n",
    "    'pace_of_work': pace_of_work_index,\n",
    "    'variety': variety_index,\n",
    "    'danger': danger_index,\n",
    "    'communication': communication_index,\n",
    "    'interaction_complexity': interaction_type_index,\n",
    "    'experience': experience_index,\n",
    "    'uncertain_decisions': uncertain_decisions_index\n",
    "})"
   ]
  },
  {
   "cell_type": "code",
   "execution_count": 104,
   "metadata": {},
   "outputs": [
    {
     "data": {
      "text/plain": [
       "array([[<matplotlib.axes._subplots.AxesSubplot object at 0x1166058d0>,\n",
       "        <matplotlib.axes._subplots.AxesSubplot object at 0x116650ef0>,\n",
       "        <matplotlib.axes._subplots.AxesSubplot object at 0x116670550>],\n",
       "       [<matplotlib.axes._subplots.AxesSubplot object at 0x11668dbe0>,\n",
       "        <matplotlib.axes._subplots.AxesSubplot object at 0x1162daa20>,\n",
       "        <matplotlib.axes._subplots.AxesSubplot object at 0x1162da9e8>],\n",
       "       [<matplotlib.axes._subplots.AxesSubplot object at 0x1166ec588>,\n",
       "        <matplotlib.axes._subplots.AxesSubplot object at 0x11670bc18>,\n",
       "        <matplotlib.axes._subplots.AxesSubplot object at 0x1167302e8>]],\n",
       "      dtype=object)"
      ]
     },
     "execution_count": 104,
     "metadata": {},
     "output_type": "execute_result"
    },
    {
     "data": {
      "image/png": "[encoded data removed]",
      "text/plain": [
       "<Figure size 432x288 with 9 Axes>"
      ]
     },
     "metadata": {},
     "output_type": "display_data"
    }
   ],
   "source": [
    "output.hist()"
   ]
  },
  {
   "cell_type": "code",
   "execution_count": 121,
   "metadata": {},
   "outputs": [
    {
     "data": {
      "text/html": [
       "<div>\n",
       "<style scoped>\n",
       "    .dataframe tbody tr th:only-of-type {\n",
       "        vertical-align: middle;\n",
       "    }\n",
       "\n",
       "    .dataframe tbody tr th {\n",
       "        vertical-align: top;\n",
       "    }\n",
       "\n",
       "    .dataframe thead th {\n",
       "        text-align: right;\n",
       "    }\n",
       "</style>\n",
       "<table border=\"1\" class=\"dataframe\">\n",
       "  <thead>\n",
       "    <tr style=\"text-align: right;\">\n",
       "      <th></th>\n",
       "      <th>occupation_code</th>\n",
       "      <th>occupation_text</th>\n",
       "      <th>communication</th>\n",
       "      <th>danger</th>\n",
       "      <th>experience</th>\n",
       "      <th>interaction_complexity</th>\n",
       "      <th>pace_of_work</th>\n",
       "      <th>physicality</th>\n",
       "      <th>uncertain_decisions</th>\n",
       "      <th>variety</th>\n",
       "    </tr>\n",
       "  </thead>\n",
       "  <tbody>\n",
       "    <tr>\n",
       "      <th>0</th>\n",
       "      <td>000</td>\n",
       "      <td>All Workers</td>\n",
       "      <td>0.318742</td>\n",
       "      <td>0.608791</td>\n",
       "      <td>0.947750</td>\n",
       "      <td>0.534671</td>\n",
       "      <td>0.874105</td>\n",
       "      <td>0.492775</td>\n",
       "      <td>0.411485</td>\n",
       "      <td>1.694450</td>\n",
       "    </tr>\n",
       "    <tr>\n",
       "      <th>1</th>\n",
       "      <td>001</td>\n",
       "      <td>Chief Executives</td>\n",
       "      <td>0.347694</td>\n",
       "      <td>-0.509271</td>\n",
       "      <td>0.186305</td>\n",
       "      <td>7.184863</td>\n",
       "      <td>1.157703</td>\n",
       "      <td>-0.710089</td>\n",
       "      <td>2.386254</td>\n",
       "      <td>0.475308</td>\n",
       "    </tr>\n",
       "    <tr>\n",
       "      <th>2</th>\n",
       "      <td>003</td>\n",
       "      <td>General and Operations Managers</td>\n",
       "      <td>0.589403</td>\n",
       "      <td>-0.351598</td>\n",
       "      <td>0.444248</td>\n",
       "      <td>3.230518</td>\n",
       "      <td>-0.555542</td>\n",
       "      <td>-0.376109</td>\n",
       "      <td>1.997757</td>\n",
       "      <td>2.197481</td>\n",
       "    </tr>\n",
       "    <tr>\n",
       "      <th>3</th>\n",
       "      <td>007</td>\n",
       "      <td>Marketing Managers</td>\n",
       "      <td>-0.196019</td>\n",
       "      <td>-0.529763</td>\n",
       "      <td>0.290622</td>\n",
       "      <td>1.663645</td>\n",
       "      <td>-0.555542</td>\n",
       "      <td>-0.931286</td>\n",
       "      <td>2.094041</td>\n",
       "      <td>1.212459</td>\n",
       "    </tr>\n",
       "    <tr>\n",
       "      <th>4</th>\n",
       "      <td>008</td>\n",
       "      <td>Sales Managers</td>\n",
       "      <td>1.281263</td>\n",
       "      <td>-0.477826</td>\n",
       "      <td>0.315164</td>\n",
       "      <td>2.081840</td>\n",
       "      <td>-0.555542</td>\n",
       "      <td>-0.499861</td>\n",
       "      <td>1.932228</td>\n",
       "      <td>1.539859</td>\n",
       "    </tr>\n",
       "  </tbody>\n",
       "</table>\n",
       "</div>"
      ],
      "text/plain": [
       "  occupation_code                  occupation_text  communication    danger  \\\n",
       "0             000                      All Workers       0.318742  0.608791   \n",
       "1             001                 Chief Executives       0.347694 -0.509271   \n",
       "2             003  General and Operations Managers       0.589403 -0.351598   \n",
       "3             007               Marketing Managers      -0.196019 -0.529763   \n",
       "4             008                   Sales Managers       1.281263 -0.477826   \n",
       "\n",
       "   experience  interaction_complexity  pace_of_work  physicality  \\\n",
       "0    0.947750                0.534671      0.874105     0.492775   \n",
       "1    0.186305                7.184863      1.157703    -0.710089   \n",
       "2    0.444248                3.230518     -0.555542    -0.376109   \n",
       "3    0.290622                1.663645     -0.555542    -0.931286   \n",
       "4    0.315164                2.081840     -0.555542    -0.499861   \n",
       "\n",
       "   uncertain_decisions   variety  \n",
       "0             0.411485  1.694450  \n",
       "1             2.386254  0.475308  \n",
       "2             1.997757  2.197481  \n",
       "3             2.094041  1.212459  \n",
       "4             1.932228  1.539859  "
      ]
     },
     "execution_count": 121,
     "metadata": {},
     "output_type": "execute_result"
    }
   ],
   "source": [
    "occupations = pandas.read_csv(\n",
    "    'ordata/or.occupation', \n",
    "    delimiter='\\t', \n",
    "    index_col=False, \n",
    "    usecols=['occupation_code', 'occupation_text']\n",
    ")\n",
    "output = occupations.merge(output, on='occupation_code')\n",
    "output.to_csv('calculated_metrics.csv')\n",
    "output.head()"
   ]
  },
  {
   "cell_type": "code",
   "execution_count": 113,
   "metadata": {},
   "outputs": [
    {
     "data": {
      "text/plain": [
       "44                             Computer Systems Analysts\n",
       "36                                              Auditors\n",
       "38                                    Financial Analysts\n",
       "39                           Personal Financial Advisors\n",
       "40                                Insurance Underwriters\n",
       "288                                             Plumbers\n",
       "43                      Financial Specialists, All Other\n",
       "46                     Software Developers, Applications\n",
       "145                                 Physician Assistants\n",
       "53                  Computer Network Support Specialists\n",
       "139                         Dietitians and Nutritionists\n",
       "57                                   Aerospace Engineers\n",
       "132                                              Editors\n",
       "157        Medical and Clinical Laboratory Technologists\n",
       "60                Electronics Engineers, Except Computer\n",
       "64                                              Chemists\n",
       "127                                    Flight Attendants\n",
       "68                                  Chemical Technicians\n",
       "299           Aircraft Mechanics and Service Technicians\n",
       "70                              Quality Control Analysts\n",
       "310       Electrical Power-Line Installers and Repairers\n",
       "103                    Postsecondary Teachers, All Other\n",
       "82     Probation Officers and Correctional Treatment ...\n",
       "323                        Slaughterers and Meat Packers\n",
       "92            Biological Science Teachers, Postsecondary\n",
       "322         Meat, Poultry, and Fish Cutters and Trimmers\n",
       "91                   Engineering Teachers, Postsecondary\n",
       "63            Medical Scientists, Except Epidemiologists\n",
       "29                                   Management Analysts\n",
       "318                   Material Moving Workers, All Other\n",
       "                             ...                        \n",
       "94          Education, Training, and Library Occupations\n",
       "237                          Bill and Account Collectors\n",
       "86              Community and Social Service Occupations\n",
       "202    Dining Room and Cafeteria Attendants and Barte...\n",
       "231           Sales Representatives, Services, All Other\n",
       "233    Sales Reps., Wholesale and Manufacturing, Exce...\n",
       "109                       Healthcare Support Occupations\n",
       "128                Personal Care and Service Occupations\n",
       "166    Licensed Practical and Licensed Vocational Nurses\n",
       "225                            Counter and Rental Clerks\n",
       "170                                   Nursing Assistants\n",
       "220            Fitness Trainers and Aerobics Instructors\n",
       "262      Dispatchers, Except Police, Fire, and Ambulance\n",
       "215                  Amusement and Recreation Attendants\n",
       "251                 Hotel, Motel, and Resort Desk Clerks\n",
       "234                                        Telemarketers\n",
       "214          Ushers, Lobby Attendants, and Ticket Takers\n",
       "258                 Receptionists and Information Clerks\n",
       "216       Hairdressers, Hairstylists, and Cosmetologists\n",
       "121     Food Preparation and Serving Related Occupations\n",
       "190    First-Line Supervisors of Food Preparation and...\n",
       "247                     Customer Service Representatives\n",
       "198    Counter Attendants, Cafeteria, Food Concession...\n",
       "270                                  Medical Secretaries\n",
       "261              Police, Fire, and Ambulance Dispatchers\n",
       "197    Combined Food Preparation and Serving Workers,...\n",
       "213                                       Gaming Dealers\n",
       "196                                           Bartenders\n",
       "204    Hosts and Hostesses, Restaurant, Lounge, and C...\n",
       "200                               Waiters and Waitresses\n",
       "Name: occupation_text, Length: 338, dtype: object"
      ]
     },
     "execution_count": 113,
     "metadata": {},
     "output_type": "execute_result"
    }
   ],
   "source": [
    "output.sort_values(by='communication')['occupation_text']"
   ]
  },
  {
   "cell_type": "code",
   "execution_count": 118,
   "metadata": {},
   "outputs": [
    {
     "data": {
      "text/html": [
       "<div>\n",
       "<style scoped>\n",
       "    .dataframe tbody tr th:only-of-type {\n",
       "        vertical-align: middle;\n",
       "    }\n",
       "\n",
       "    .dataframe tbody tr th {\n",
       "        vertical-align: top;\n",
       "    }\n",
       "\n",
       "    .dataframe thead th {\n",
       "        text-align: right;\n",
       "    }\n",
       "</style>\n",
       "<table border=\"1\" class=\"dataframe\">\n",
       "  <thead>\n",
       "    <tr style=\"text-align: right;\">\n",
       "      <th></th>\n",
       "      <th>communication</th>\n",
       "      <th>danger</th>\n",
       "      <th>experience</th>\n",
       "      <th>interaction_complexity</th>\n",
       "      <th>pace_of_work</th>\n",
       "      <th>physicality</th>\n",
       "      <th>uncertain_decisions</th>\n",
       "      <th>variety</th>\n",
       "    </tr>\n",
       "  </thead>\n",
       "  <tbody>\n",
       "    <tr>\n",
       "      <th>communication</th>\n",
       "      <td>1.000000</td>\n",
       "      <td>0.051308</td>\n",
       "      <td>0.286775</td>\n",
       "      <td>0.192243</td>\n",
       "      <td>0.421381</td>\n",
       "      <td>0.147421</td>\n",
       "      <td>0.088540</td>\n",
       "      <td>0.342504</td>\n",
       "    </tr>\n",
       "    <tr>\n",
       "      <th>danger</th>\n",
       "      <td>0.051308</td>\n",
       "      <td>1.000000</td>\n",
       "      <td>0.163584</td>\n",
       "      <td>-0.107628</td>\n",
       "      <td>0.340853</td>\n",
       "      <td>0.614912</td>\n",
       "      <td>-0.072669</td>\n",
       "      <td>0.374556</td>\n",
       "    </tr>\n",
       "    <tr>\n",
       "      <th>experience</th>\n",
       "      <td>0.286775</td>\n",
       "      <td>0.163584</td>\n",
       "      <td>1.000000</td>\n",
       "      <td>0.350356</td>\n",
       "      <td>0.156392</td>\n",
       "      <td>0.193082</td>\n",
       "      <td>0.413957</td>\n",
       "      <td>0.521398</td>\n",
       "    </tr>\n",
       "    <tr>\n",
       "      <th>interaction_complexity</th>\n",
       "      <td>0.192243</td>\n",
       "      <td>-0.107628</td>\n",
       "      <td>0.350356</td>\n",
       "      <td>1.000000</td>\n",
       "      <td>0.032610</td>\n",
       "      <td>-0.105300</td>\n",
       "      <td>0.533731</td>\n",
       "      <td>0.406792</td>\n",
       "    </tr>\n",
       "    <tr>\n",
       "      <th>pace_of_work</th>\n",
       "      <td>0.421381</td>\n",
       "      <td>0.340853</td>\n",
       "      <td>0.156392</td>\n",
       "      <td>0.032610</td>\n",
       "      <td>1.000000</td>\n",
       "      <td>0.245907</td>\n",
       "      <td>0.011649</td>\n",
       "      <td>0.228933</td>\n",
       "    </tr>\n",
       "    <tr>\n",
       "      <th>physicality</th>\n",
       "      <td>0.147421</td>\n",
       "      <td>0.614912</td>\n",
       "      <td>0.193082</td>\n",
       "      <td>-0.105300</td>\n",
       "      <td>0.245907</td>\n",
       "      <td>1.000000</td>\n",
       "      <td>-0.136272</td>\n",
       "      <td>0.431526</td>\n",
       "    </tr>\n",
       "    <tr>\n",
       "      <th>uncertain_decisions</th>\n",
       "      <td>0.088540</td>\n",
       "      <td>-0.072669</td>\n",
       "      <td>0.413957</td>\n",
       "      <td>0.533731</td>\n",
       "      <td>0.011649</td>\n",
       "      <td>-0.136272</td>\n",
       "      <td>1.000000</td>\n",
       "      <td>0.277464</td>\n",
       "    </tr>\n",
       "    <tr>\n",
       "      <th>variety</th>\n",
       "      <td>0.342504</td>\n",
       "      <td>0.374556</td>\n",
       "      <td>0.521398</td>\n",
       "      <td>0.406792</td>\n",
       "      <td>0.228933</td>\n",
       "      <td>0.431526</td>\n",
       "      <td>0.277464</td>\n",
       "      <td>1.000000</td>\n",
       "    </tr>\n",
       "  </tbody>\n",
       "</table>\n",
       "</div>"
      ],
      "text/plain": [
       "                        communication    danger  experience  \\\n",
       "communication                1.000000  0.051308    0.286775   \n",
       "danger                       0.051308  1.000000    0.163584   \n",
       "experience                   0.286775  0.163584    1.000000   \n",
       "interaction_complexity       0.192243 -0.107628    0.350356   \n",
       "pace_of_work                 0.421381  0.340853    0.156392   \n",
       "physicality                  0.147421  0.614912    0.193082   \n",
       "uncertain_decisions          0.088540 -0.072669    0.413957   \n",
       "variety                      0.342504  0.374556    0.521398   \n",
       "\n",
       "                        interaction_complexity  pace_of_work  physicality  \\\n",
       "communication                         0.192243      0.421381     0.147421   \n",
       "danger                               -0.107628      0.340853     0.614912   \n",
       "experience                            0.350356      0.156392     0.193082   \n",
       "interaction_complexity                1.000000      0.032610    -0.105300   \n",
       "pace_of_work                          0.032610      1.000000     0.245907   \n",
       "physicality                          -0.105300      0.245907     1.000000   \n",
       "uncertain_decisions                   0.533731      0.011649    -0.136272   \n",
       "variety                               0.406792      0.228933     0.431526   \n",
       "\n",
       "                        uncertain_decisions   variety  \n",
       "communication                      0.088540  0.342504  \n",
       "danger                            -0.072669  0.374556  \n",
       "experience                         0.413957  0.521398  \n",
       "interaction_complexity             0.533731  0.406792  \n",
       "pace_of_work                       0.011649  0.228933  \n",
       "physicality                       -0.136272  0.431526  \n",
       "uncertain_decisions                1.000000  0.277464  \n",
       "variety                            0.277464  1.000000  "
      ]
     },
     "execution_count": 118,
     "metadata": {},
     "output_type": "execute_result"
    }
   ],
   "source": [
    "pearson_corr = output.corr('pearson')\n",
    "pearson_corr"
   ]
  },
  {
   "cell_type": "code",
   "execution_count": 119,
   "metadata": {},
   "outputs": [
    {
     "data": {
      "text/html": [
       "<div>\n",
       "<style scoped>\n",
       "    .dataframe tbody tr th:only-of-type {\n",
       "        vertical-align: middle;\n",
       "    }\n",
       "\n",
       "    .dataframe tbody tr th {\n",
       "        vertical-align: top;\n",
       "    }\n",
       "\n",
       "    .dataframe thead th {\n",
       "        text-align: right;\n",
       "    }\n",
       "</style>\n",
       "<table border=\"1\" class=\"dataframe\">\n",
       "  <thead>\n",
       "    <tr style=\"text-align: right;\">\n",
       "      <th></th>\n",
       "      <th>communication</th>\n",
       "      <th>danger</th>\n",
       "      <th>experience</th>\n",
       "      <th>interaction_complexity</th>\n",
       "      <th>pace_of_work</th>\n",
       "      <th>physicality</th>\n",
       "      <th>uncertain_decisions</th>\n",
       "      <th>variety</th>\n",
       "    </tr>\n",
       "  </thead>\n",
       "  <tbody>\n",
       "    <tr>\n",
       "      <th>communication</th>\n",
       "      <td>1.000000</td>\n",
       "      <td>0.151258</td>\n",
       "      <td>0.313559</td>\n",
       "      <td>0.325674</td>\n",
       "      <td>0.415743</td>\n",
       "      <td>0.236882</td>\n",
       "      <td>0.168140</td>\n",
       "      <td>0.420838</td>\n",
       "    </tr>\n",
       "    <tr>\n",
       "      <th>danger</th>\n",
       "      <td>0.151258</td>\n",
       "      <td>1.000000</td>\n",
       "      <td>0.190066</td>\n",
       "      <td>-0.090186</td>\n",
       "      <td>0.369026</td>\n",
       "      <td>0.838881</td>\n",
       "      <td>-0.078900</td>\n",
       "      <td>0.458679</td>\n",
       "    </tr>\n",
       "    <tr>\n",
       "      <th>experience</th>\n",
       "      <td>0.313559</td>\n",
       "      <td>0.190066</td>\n",
       "      <td>1.000000</td>\n",
       "      <td>0.498203</td>\n",
       "      <td>0.185943</td>\n",
       "      <td>0.184525</td>\n",
       "      <td>0.474252</td>\n",
       "      <td>0.547425</td>\n",
       "    </tr>\n",
       "    <tr>\n",
       "      <th>interaction_complexity</th>\n",
       "      <td>0.325674</td>\n",
       "      <td>-0.090186</td>\n",
       "      <td>0.498203</td>\n",
       "      <td>1.000000</td>\n",
       "      <td>0.092228</td>\n",
       "      <td>-0.054404</td>\n",
       "      <td>0.571664</td>\n",
       "      <td>0.469809</td>\n",
       "    </tr>\n",
       "    <tr>\n",
       "      <th>pace_of_work</th>\n",
       "      <td>0.415743</td>\n",
       "      <td>0.369026</td>\n",
       "      <td>0.185943</td>\n",
       "      <td>0.092228</td>\n",
       "      <td>1.000000</td>\n",
       "      <td>0.311364</td>\n",
       "      <td>0.014033</td>\n",
       "      <td>0.323495</td>\n",
       "    </tr>\n",
       "    <tr>\n",
       "      <th>physicality</th>\n",
       "      <td>0.236882</td>\n",
       "      <td>0.838881</td>\n",
       "      <td>0.184525</td>\n",
       "      <td>-0.054404</td>\n",
       "      <td>0.311364</td>\n",
       "      <td>1.000000</td>\n",
       "      <td>-0.123337</td>\n",
       "      <td>0.481902</td>\n",
       "    </tr>\n",
       "    <tr>\n",
       "      <th>uncertain_decisions</th>\n",
       "      <td>0.168140</td>\n",
       "      <td>-0.078900</td>\n",
       "      <td>0.474252</td>\n",
       "      <td>0.571664</td>\n",
       "      <td>0.014033</td>\n",
       "      <td>-0.123337</td>\n",
       "      <td>1.000000</td>\n",
       "      <td>0.296639</td>\n",
       "    </tr>\n",
       "    <tr>\n",
       "      <th>variety</th>\n",
       "      <td>0.420838</td>\n",
       "      <td>0.458679</td>\n",
       "      <td>0.547425</td>\n",
       "      <td>0.469809</td>\n",
       "      <td>0.323495</td>\n",
       "      <td>0.481902</td>\n",
       "      <td>0.296639</td>\n",
       "      <td>1.000000</td>\n",
       "    </tr>\n",
       "  </tbody>\n",
       "</table>\n",
       "</div>"
      ],
      "text/plain": [
       "                        communication    danger  experience  \\\n",
       "communication                1.000000  0.151258    0.313559   \n",
       "danger                       0.151258  1.000000    0.190066   \n",
       "experience                   0.313559  0.190066    1.000000   \n",
       "interaction_complexity       0.325674 -0.090186    0.498203   \n",
       "pace_of_work                 0.415743  0.369026    0.185943   \n",
       "physicality                  0.236882  0.838881    0.184525   \n",
       "uncertain_decisions          0.168140 -0.078900    0.474252   \n",
       "variety                      0.420838  0.458679    0.547425   \n",
       "\n",
       "                        interaction_complexity  pace_of_work  physicality  \\\n",
       "communication                         0.325674      0.415743     0.236882   \n",
       "danger                               -0.090186      0.369026     0.838881   \n",
       "experience                            0.498203      0.185943     0.184525   \n",
       "interaction_complexity                1.000000      0.092228    -0.054404   \n",
       "pace_of_work                          0.092228      1.000000     0.311364   \n",
       "physicality                          -0.054404      0.311364     1.000000   \n",
       "uncertain_decisions                   0.571664      0.014033    -0.123337   \n",
       "variety                               0.469809      0.323495     0.481902   \n",
       "\n",
       "                        uncertain_decisions   variety  \n",
       "communication                      0.168140  0.420838  \n",
       "danger                            -0.078900  0.458679  \n",
       "experience                         0.474252  0.547425  \n",
       "interaction_complexity             0.571664  0.469809  \n",
       "pace_of_work                       0.014033  0.323495  \n",
       "physicality                       -0.123337  0.481902  \n",
       "uncertain_decisions                1.000000  0.296639  \n",
       "variety                            0.296639  1.000000  "
      ]
     },
     "execution_count": 119,
     "metadata": {},
     "output_type": "execute_result"
    }
   ],
   "source": [
    "spearman_corr = output.corr('spearman')\n",
    "spearman_corr"
   ]
  }
 ],
 "metadata": {
  "kernelspec": {
   "display_name": "Python 3",
   "language": "python",
   "name": "python3"
  },
  "language_info": {
   "codemirror_mode": {
    "name": "ipython",
    "version": 3
   },
   "file_extension": ".py",
   "mimetype": "text/x-python",
   "name": "python",
   "nbconvert_exporter": "python",
   "pygments_lexer": "ipython3",
   "version": "3.6.4"
  }
 },
 "nbformat": 4,
 "nbformat_minor": 2
}
