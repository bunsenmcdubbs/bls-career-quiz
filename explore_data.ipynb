{
 "cells": [
  {
   "cell_type": "code",
   "execution_count": 1,
   "metadata": {},
   "outputs": [],
   "source": [
    "import pandas\n",
    "data = pandas.read_csv('ordata-processed.csv')"
   ]
  },
  {
   "cell_type": "code",
   "execution_count": 2,
   "metadata": {},
   "outputs": [
    {
     "data": {
      "text/plain": [
       "0      000\n",
       "1      001\n",
       "2      003\n",
       "3      007\n",
       "4      008\n",
       "5      009\n",
       "6      010\n",
       "7      011\n",
       "8      012\n",
       "9      013\n",
       "10     014\n",
       "11     022\n",
       "12     028\n",
       "13     029\n",
       "14     034\n",
       "15     036\n",
       "16     037\n",
       "17     041\n",
       "18     043\n",
       "19     047\n",
       "20     052\n",
       "21     053\n",
       "22     05A\n",
       "23     067\n",
       "24     068\n",
       "25     071\n",
       "26     080\n",
       "27     081\n",
       "28     086\n",
       "29     087\n",
       "      ... \n",
       "308    898\n",
       "309    907\n",
       "310    908\n",
       "311    910\n",
       "312    913\n",
       "313    918\n",
       "314    920\n",
       "315    921\n",
       "316    922\n",
       "317    923\n",
       "318    926\n",
       "319    929\n",
       "320    934\n",
       "321    936\n",
       "322    939\n",
       "323    945\n",
       "324    946\n",
       "325    947\n",
       "326    949\n",
       "327    958\n",
       "328    960\n",
       "329    962\n",
       "330    986\n",
       "331    999\n",
       "332    254\n",
       "333    549\n",
       "334    590\n",
       "335    705\n",
       "336    91A\n",
       "337    924\n",
       "Name: occupation_code, Length: 338, dtype: object"
      ]
     },
     "execution_count": 2,
     "metadata": {},
     "output_type": "execute_result"
    }
   ],
   "source": [
    "data['occupation_code']"
   ]
  },
  {
   "cell_type": "code",
   "execution_count": 3,
   "metadata": {},
   "outputs": [
    {
     "data": {
      "text/plain": [
       "Index(['occupation_code', '00728', '01030', '01031', '01032', '01033', '01034',\n",
       "       '01036', '01037', '01038',\n",
       "       ...\n",
       "       '00643', '00803', '00804', '01029', '01084', '01085', '01087', '01088',\n",
       "       '01090', '01091'],\n",
       "      dtype='object', length=343)"
      ]
     },
     "execution_count": 3,
     "metadata": {},
     "output_type": "execute_result"
    }
   ],
   "source": [
    "data.columns"
   ]
  },
  {
   "cell_type": "code",
   "execution_count": 5,
   "metadata": {},
   "outputs": [
    {
     "data": {
      "text/plain": [
       "0      2.00\n",
       "1      6.40\n",
       "2      6.00\n",
       "3      0.00\n",
       "4      6.00\n",
       "5      6.00\n",
       "6      6.00\n",
       "7      6.50\n",
       "8      0.00\n",
       "9      7.00\n",
       "10     0.00\n",
       "11     6.64\n",
       "12     6.50\n",
       "13     6.67\n",
       "14     4.00\n",
       "15     4.00\n",
       "16     6.00\n",
       "17     6.00\n",
       "18     2.00\n",
       "19     5.36\n",
       "20     4.25\n",
       "21     5.00\n",
       "22     0.00\n",
       "23     6.40\n",
       "24     7.00\n",
       "25     6.65\n",
       "26     6.00\n",
       "27     6.40\n",
       "28     0.00\n",
       "29     0.00\n",
       "       ... \n",
       "308    0.00\n",
       "309    1.00\n",
       "310    2.00\n",
       "311    2.00\n",
       "312    4.00\n",
       "313    0.00\n",
       "314    0.00\n",
       "315    0.00\n",
       "316    0.00\n",
       "317    0.00\n",
       "318    0.00\n",
       "319    0.00\n",
       "320    0.00\n",
       "321    0.00\n",
       "322    0.00\n",
       "323    0.00\n",
       "324    0.00\n",
       "325    0.00\n",
       "326    0.50\n",
       "327    0.00\n",
       "328    0.00\n",
       "329    7.00\n",
       "330    0.00\n",
       "331    1.00\n",
       "332    0.00\n",
       "333    0.80\n",
       "334    0.00\n",
       "335    6.00\n",
       "336    0.00\n",
       "337    0.00\n",
       "Name: 00135, Length: 338, dtype: float64"
      ]
     },
     "execution_count": 5,
     "metadata": {},
     "output_type": "execute_result"
    }
   ],
   "source": [
    "data['00135']"
   ]
  }
 ],
 "metadata": {
  "kernelspec": {
   "display_name": "Python 3",
   "language": "python",
   "name": "python3"
  },
  "language_info": {
   "codemirror_mode": {
    "name": "ipython",
    "version": 3
   },
   "file_extension": ".py",
   "mimetype": "text/x-python",
   "name": "python",
   "nbconvert_exporter": "python",
   "pygments_lexer": "ipython3",
   "version": "3.6.4"
  }
 },
 "nbformat": 4,
 "nbformat_minor": 2
}
